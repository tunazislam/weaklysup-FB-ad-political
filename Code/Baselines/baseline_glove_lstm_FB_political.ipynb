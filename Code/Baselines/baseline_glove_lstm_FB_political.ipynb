{
 "cells": [
  {
   "cell_type": "code",
   "execution_count": null,
   "metadata": {},
   "outputs": [],
   "source": [
    "import pandas as pd \n",
    "#pd.set_option('compute.use_numexpr', False)\n",
    "import numpy as np \n",
    "from collections import defaultdict\n",
    "import re\n",
    "import sys\n",
    "from sklearn.model_selection import train_test_split\n",
    "import gzip\n",
    "import yaml\n",
    "import requests\n",
    "import csv\n",
    "import re\n",
    "from tqdm import tqdm\n",
    "from itertools import product\n",
    "import json\n",
    "import pickle\n",
    "import matplotlib.pyplot as plt\n",
    "from itertools import cycle, islice"
   ]
  },
  {
   "cell_type": "code",
   "execution_count": null,
   "metadata": {},
   "outputs": [],
   "source": [
    "# -*- coding: utf-8 -*-\n",
    "from __future__ import unicode_literals\n",
    "import sys\n",
    "# reload(sys)\n",
    "# sys.setdefaultencoding('utf8')\n",
    "import os\n",
    "import json\n",
    "import string\n",
    "import numpy as np\n",
    "from sklearn.linear_model import LogisticRegression\n",
    "from sklearn.metrics import classification_report\n",
    "import random\n",
    "from numpy import array\n",
    "import re\n",
    "import pickle\n",
    "#from pattern.text.en import singularize\n",
    "from nltk.stem import WordNetLemmatizer\n",
    "from nltk.corpus import wordnet\n",
    "#import enchant\n",
    "from nltk.stem import LancasterStemmer\n",
    "import nltk\n",
    "from nltk import word_tokenize\n",
    "from nltk.util import ngrams\n",
    "from nltk.corpus import stopwords\n",
    "from sklearn.metrics import f1_score\n",
    "import operator\n",
    "from collections import Counter\n",
    "from nltk.corpus import wordnet as wn\n",
    "import spacy\n",
    "from spacy import displacy\n",
    "from collections import Counter\n",
    "import en_core_web_sm\n",
    "from collections import defaultdict\n",
    "import math\n",
    "import csv\n",
    "\n",
    "import pandas as pd \n",
    "import numpy as np \n",
    "from collections import defaultdict\n",
    "import re\n",
    "import sys\n",
    "from sklearn.model_selection import train_test_split\n",
    "import gzip\n",
    "\n",
    "import csv\n",
    "import pandas as pd \n",
    "import numpy as np \n",
    "from collections import defaultdict\n",
    "import re\n",
    "import sys\n",
    "from sklearn.model_selection import train_test_split\n",
    "import datetime\n",
    "import matplotlib.pyplot as plt\n",
    "import time\n",
    "import numpy as np\n",
    "from pprint import pprint\n",
    "\n",
    "import spacy  # For preprocessing\n",
    "import nltk\n",
    "import string\n",
    "from nltk.corpus import stopwords\n",
    "#import preprocessor as p  #pip install tweet-preprocessor\n",
    "import logging  # Setting up the loggings to monitor gensim\n",
    "from nltk.stem import WordNetLemmatizer\n",
    "from string import punctuation as punc\n",
    "\n",
    "import gensim\n",
    "import gensim.corpora as corpora\n",
    "#from gensim.utils import simple_preprocess\n",
    "from gensim.models import CoherenceModel\n",
    "import gensim.models as gsm\n",
    "from gensim.test.utils import datapath\n",
    "\n",
    "import regex\n",
    "\n",
    "\n",
    "import torch\n",
    "#import torchtext\n",
    "import torch.nn as nn\n",
    "import torch.nn.functional as F\n",
    "import torch.optim as optim\n",
    "import torch.autograd as autograd\n",
    "import torchvision.transforms as transforms\n",
    "from torch.autograd import Variable\n",
    "\n",
    "import spacy\n",
    "import string\n",
    "\n",
    "from nltk.collocations import BigramCollocationFinder, BigramAssocMeasures\n",
    "from nltk.corpus import stopwords\n",
    "\n",
    "torch.manual_seed(1)\n",
    "\n",
    "\n",
    "\n"
   ]
  },
  {
   "cell_type": "code",
   "execution_count": null,
   "metadata": {},
   "outputs": [],
   "source": [
    "predicted_df = pd.read_csv( 'data/new_predicted_35k_with_para_with_weak_gt.csv',low_memory=False) #(28189, 6)\n",
    "\n",
    "predicted_df #852799 rows × 11 columns\n"
   ]
  },
  {
   "cell_type": "code",
   "execution_count": null,
   "metadata": {},
   "outputs": [],
   "source": [
    "###Baseline\n",
    "df = predicted_df[['id','ad_creative_body', 'funding_entity', 'weak_stance', 'gt_stance']] #extracted 4 columns"
   ]
  },
  {
   "cell_type": "code",
   "execution_count": null,
   "metadata": {},
   "outputs": [],
   "source": [
    "# #take the rows where weak label (weak_stance) is not NAN. We will use this to train our supervised model\n",
    "df_train = df[df['weak_stance'].notna()] #5975 #train data\n",
    "#df = df[df['EPS'].notna()]\n",
    "#df_train = df_train.reset_index(drop=True) #5975 #train data\n",
    "#print(df_train)\n",
    "df_test = df.drop(df_train.index) #29348 # test data (no weak label)\n",
    "#print(df_test)"
   ]
  },
  {
   "cell_type": "code",
   "execution_count": null,
   "metadata": {},
   "outputs": [],
   "source": [
    "df_train = df_train.reset_index(drop=True) \n",
    "\n",
    "df_test = df_test.reset_index(drop=True) "
   ]
  },
  {
   "cell_type": "code",
   "execution_count": null,
   "metadata": {},
   "outputs": [],
   "source": [
    "df_trn = df_train.sample(frac = 0.80) #4780\n",
    "#print(df_trn)\n",
    "# rest of the 20% values\n",
    "df_val = df_train.drop(df_trn.index) #1195\n",
    "#print(df_val)"
   ]
  },
  {
   "cell_type": "code",
   "execution_count": null,
   "metadata": {},
   "outputs": [],
   "source": [
    "df_trn = df_trn.reset_index(drop=True) \n",
    "\n",
    "df_val = df_val.reset_index(drop=True) "
   ]
  },
  {
   "cell_type": "code",
   "execution_count": null,
   "metadata": {},
   "outputs": [],
   "source": [
    "# df_trn.to_csv('data/baseline_train_fb_ad_cv7.csv', line_terminator='\\r\\n', encoding='utf-8', index = False) \n",
    "# df_val.to_csv('data/baseline_val_fb_ad_cv7.csv', line_terminator='\\r\\n', encoding='utf-8', index = False) \n",
    "# df_test.to_csv('data/baseline_test_fb_ad_cv7.csv', line_terminator='\\r\\n', encoding='utf-8', index = False)\n"
   ]
  },
  {
   "cell_type": "code",
   "execution_count": null,
   "metadata": {},
   "outputs": [],
   "source": [
    "##Load train data for cv1\n",
    "df_trn = pd.read_csv( 'data/baseline_train_fb_ad_cv3.csv',low_memory=False)"
   ]
  },
  {
   "cell_type": "code",
   "execution_count": null,
   "metadata": {},
   "outputs": [],
   "source": [
    "#df_trn"
   ]
  },
  {
   "cell_type": "code",
   "execution_count": null,
   "metadata": {},
   "outputs": [],
   "source": [
    "#tokenization\n",
    "tok = spacy.load('en_core_web_sm')\n",
    "def tokenize (text):\n",
    "    text = re.sub(r\"[^\\x00-\\x7F]+\", \" \", text)\n",
    "    regex = re.compile('[' + re.escape(string.punctuation) + '0-9\\\\r\\\\t\\\\n]') # remove punctuation and numbers\n",
    "    nopunct = regex.sub(\" \", text.lower())\n",
    "    return [token.text for token in tok.tokenizer(nopunct)]"
   ]
  },
  {
   "cell_type": "code",
   "execution_count": null,
   "metadata": {},
   "outputs": [],
   "source": [
    "#count number of occurences of each word\n",
    "counts = Counter()\n",
    "for index, row in df_trn.iterrows():\n",
    "    counts.update(tokenize(row['ad_creative_body']))"
   ]
  },
  {
   "cell_type": "code",
   "execution_count": null,
   "metadata": {},
   "outputs": [],
   "source": [
    "#deleting infrequent words\n",
    "print(\"num_words before:\",len(counts.keys()))\n",
    "for word in list(counts):\n",
    "    if counts[word] < 2:\n",
    "        del counts[word]\n",
    "print(\"num_words after:\",len(counts.keys()))"
   ]
  },
  {
   "cell_type": "code",
   "execution_count": null,
   "metadata": {},
   "outputs": [],
   "source": [
    "#creating vocabulary on train data\n",
    "vocab2index = {\"\":0, \"UNK\":1}\n",
    "words = [\"\", \"UNK\"]\n",
    "for word in counts:\n",
    "    vocab2index[word] = len(words)\n",
    "    words.append(word)"
   ]
  },
  {
   "cell_type": "code",
   "execution_count": null,
   "metadata": {},
   "outputs": [],
   "source": [
    "print(len(words))"
   ]
  },
  {
   "cell_type": "code",
   "execution_count": null,
   "metadata": {},
   "outputs": [],
   "source": [
    "def encode_sentence(text, vocab2index, N=300):\n",
    "    tokenized = tokenize(text)\n",
    "    encoded = np.zeros(N, dtype=int)\n",
    "    enc1 = np.array([vocab2index.get(word, vocab2index[\"UNK\"]) for word in tokenized])\n",
    "    length = min(N, len(enc1))\n",
    "    encoded[:length] = enc1[:length]\n",
    "    return encoded, length"
   ]
  },
  {
   "cell_type": "code",
   "execution_count": null,
   "metadata": {},
   "outputs": [],
   "source": [
    "df_trn['encoded'] = df_trn['ad_creative_body'].apply(lambda x: np.array(encode_sentence(x,vocab2index )))\n",
    "#df_trn.head()"
   ]
  },
  {
   "cell_type": "code",
   "execution_count": null,
   "metadata": {},
   "outputs": [],
   "source": [
    "df_val = pd.read_csv( 'data/baseline_val_fb_ad_cv3.csv',low_memory=False)"
   ]
  },
  {
   "cell_type": "code",
   "execution_count": null,
   "metadata": {},
   "outputs": [],
   "source": [
    "df_val['encoded'] = df_val['ad_creative_body'].apply(lambda x: np.array(encode_sentence(x,vocab2index )))\n",
    "#df_val.head()"
   ]
  },
  {
   "cell_type": "code",
   "execution_count": null,
   "metadata": {},
   "outputs": [],
   "source": [
    "X_train = list(df_trn['encoded'])\n",
    "y_train = list(df_trn['weak_stance'])\n",
    "\n",
    "\n",
    "X_valid = list(df_val['encoded'])\n",
    "y_valid = list(df_val['weak_stance'])\n"
   ]
  },
  {
   "cell_type": "code",
   "execution_count": null,
   "metadata": {},
   "outputs": [],
   "source": [
    "#library imports\n",
    "import torch\n",
    "import torch.nn as nn\n",
    "import pandas as pd\n",
    "import numpy as np\n",
    "import re\n",
    "import spacy\n",
    "from collections import Counter\n",
    "from torch.utils.data import Dataset, DataLoader\n",
    "import torch.nn.functional as F\n",
    "import string\n",
    "from torch.nn.utils.rnn import pack_padded_sequence, pad_packed_sequence\n",
    "from sklearn.metrics import mean_squared_error"
   ]
  },
  {
   "cell_type": "code",
   "execution_count": null,
   "metadata": {},
   "outputs": [],
   "source": [
    "class FbAd(Dataset):\n",
    "    def __init__(self, X, Y):\n",
    "        self.X = X\n",
    "        self.y = Y\n",
    "        \n",
    "    def __len__(self):\n",
    "        return len(self.y)\n",
    "    \n",
    "    def __getitem__(self, idx):\n",
    "        return torch.from_numpy(self.X[idx][0].astype(np.int32)), self.y[idx], self.X[idx][1]"
   ]
  },
  {
   "cell_type": "code",
   "execution_count": null,
   "metadata": {},
   "outputs": [],
   "source": [
    "train_ds = FbAd(X_train, y_train)\n",
    "valid_ds = FbAd(X_valid, y_valid)"
   ]
  },
  {
   "cell_type": "code",
   "execution_count": null,
   "metadata": {},
   "outputs": [],
   "source": [
    "def train_model(model, epochs=10, lr=0.001):\n",
    "    parameters = filter(lambda p: p.requires_grad, model.parameters())\n",
    "    optimizer = torch.optim.Adam(parameters, lr=lr)\n",
    "    best_valid_loss = float('inf')\n",
    "    for i in range(epochs):\n",
    "        print(\"starting of epochs : \", i )\n",
    "        model.train()\n",
    "        sum_loss = 0.0\n",
    "        total = 0\n",
    "        correct = 0\n",
    "        for x, y, l in train_dl:\n",
    "            #print(type(x), x)\n",
    "            #print(type(y), y )\n",
    "            new_y = [] # to handle multi-label\n",
    "            for j in range(0, len(y)):\n",
    "                if len(y[j]) > 1:\n",
    "                    new_y.append(int(y[j][0]))\n",
    "                else:\n",
    "                    new_y.append(int(y[j]))\n",
    "                    \n",
    "            #print(new_y)\n",
    "            #x = x.long()\n",
    "            y = torch.tensor(new_y)\n",
    "            #print(y)\n",
    "            y_pred = model(x, l)\n",
    "            #print(type(y_pred), y_pred)\n",
    "            optimizer.zero_grad()\n",
    "            loss = F.cross_entropy(y_pred, y)\n",
    "            #print(\"train loss\", loss.item())\n",
    "            loss.backward()\n",
    "            optimizer.step()\n",
    "            pred_train = torch.max(y_pred, 1)[1]\n",
    "            correct += (pred_train == y).float().sum()\n",
    "            sum_loss += loss.item()*y.shape[0]\n",
    "            total += y.shape[0]\n",
    "        val_loss, val_acc = validation_metrics(model, val_dl)\n",
    "        if val_loss <= best_valid_loss:\n",
    "            best_valid_loss = val_loss\n",
    "            print(\"best model saved in epoch :\", i )\n",
    "            torch.save(model.state_dict(), 'data/glove_lstm_fb_ad_model_cv3_'+str(i)+'.pt')\n",
    "        if i % 5 == 1:\n",
    "            print(\"train loss %.3f,  train accuracy %.3f , val loss %.3f, val accuracy %.3f  \" % (sum_loss/total, correct/total, val_loss, val_acc))\n",
    "\n",
    "def validation_metrics (model, valid_dl):\n",
    "    model.eval()\n",
    "    correct = 0\n",
    "    total = 0\n",
    "    sum_loss = 0.0\n",
    "    sum_rmse = 0.0\n",
    "    for x, y, l in valid_dl:\n",
    "#         x = x.long()\n",
    "#         y = y.long()\n",
    "        new_y = [] # to handle multi-label\n",
    "        for j in range(0, len(y)):\n",
    "            if len(y[j]) > 1:\n",
    "                new_y.append(int(y[j][0]))\n",
    "            else:\n",
    "                new_y.append(int(y[j]))\n",
    "\n",
    "        #print(new_y)\n",
    "        #x = x.long()\n",
    "        y = torch.tensor(new_y)\n",
    "        y_hat = model(x, l)\n",
    "        #print(y_hat, torch.max(y_hat), torch.max(y_hat, 1))\n",
    "        loss = F.cross_entropy(y_hat, y)\n",
    "        pred = torch.max(y_hat, 1)[1]\n",
    "        correct += (pred == y).float().sum()\n",
    "        total += y.shape[0]\n",
    "        sum_loss += loss.item()*y.shape[0]\n",
    "        \n",
    "    return sum_loss/total, correct/total\n"
   ]
  },
  {
   "cell_type": "code",
   "execution_count": null,
   "metadata": {},
   "outputs": [],
   "source": [
    "batch_size = 32\n",
    "vocab_size = len(words)\n",
    "train_dl = DataLoader(train_ds, batch_size=batch_size, shuffle=True)\n",
    "val_dl = DataLoader(valid_ds, batch_size=batch_size)"
   ]
  },
  {
   "cell_type": "code",
   "execution_count": null,
   "metadata": {},
   "outputs": [],
   "source": [
    "def load_glove_vectors(glove_file=\"data/glove.6B.300d.txt\"):\n",
    "    \"\"\"Load the glove word vectors\"\"\"\n",
    "    word_vectors = {}\n",
    "    with open(glove_file) as f:\n",
    "        for line in f:\n",
    "            split = line.split()\n",
    "            word_vectors[split[0]] = np.array([float(x) for x in split[1:]])\n",
    "    return word_vectors"
   ]
  },
  {
   "cell_type": "code",
   "execution_count": null,
   "metadata": {},
   "outputs": [],
   "source": [
    "def get_emb_matrix(pretrained, word_counts, emb_size = 300):\n",
    "    \"\"\" Creates embedding matrix from word vectors\"\"\"\n",
    "    vocab_size = len(word_counts) + 2\n",
    "    vocab_to_idx = {}\n",
    "    vocab = [\"\", \"UNK\"]\n",
    "    W = np.zeros((vocab_size, emb_size), dtype=\"float32\")\n",
    "    W[0] = np.zeros(emb_size, dtype='float32') # adding a vector for padding\n",
    "    W[1] = np.random.uniform(-0.25, 0.25, emb_size) # adding a vector for unknown words \n",
    "    vocab_to_idx[\"UNK\"] = 1\n",
    "    i = 2\n",
    "    for word in word_counts:\n",
    "        if word in word_vecs:\n",
    "            W[i] = word_vecs[word]\n",
    "        else:\n",
    "            W[i] = np.random.uniform(-0.25,0.25, emb_size)\n",
    "        vocab_to_idx[word] = i\n",
    "        vocab.append(word)\n",
    "        i += 1   \n",
    "    return W, np.array(vocab), vocab_to_idx"
   ]
  },
  {
   "cell_type": "code",
   "execution_count": null,
   "metadata": {},
   "outputs": [],
   "source": [
    "word_vecs = load_glove_vectors()\n",
    "pretrained_weights, vocab, vocab2index = get_emb_matrix(word_vecs, counts)"
   ]
  },
  {
   "cell_type": "code",
   "execution_count": null,
   "metadata": {},
   "outputs": [],
   "source": [
    "# class LSTM_glove_vecs(torch.nn.Module) :\n",
    "#     def __init__(self, vocab_size, embedding_dim, hidden_dim, glove_weights) :\n",
    "#         super().__init__()\n",
    "#         self.embeddings = nn.Embedding(vocab_size, embedding_dim, padding_idx=0)\n",
    "#         self.embeddings.weight.data.copy_(torch.from_numpy(glove_weights))\n",
    "#         self.embeddings.weight.requires_grad = False ## freeze embeddings\n",
    "#         self.lstm = nn.LSTM(embedding_dim, hidden_dim, batch_first=True)\n",
    "#         self.linear = nn.Linear(hidden_dim, 4) #change based on number of labels\n",
    "#         self.dropout = nn.Dropout(0.2)\n",
    "        \n",
    "#     def forward(self, x,l):\n",
    "#         #print(x.size)\n",
    "#         x = self.embeddings(x)\n",
    "#         x = self.dropout(x)\n",
    "#         lstm_out, (ht, ct) = self.lstm(x)\n",
    "#         return self.linear(ht[-1])\n",
    "\n",
    "\n",
    "class LSTM_glove_vecs(torch.nn.Module) :\n",
    "    def __init__(self, vocab_size, embedding_dim, hidden_dim, glove_weights) :\n",
    "        super().__init__()\n",
    "        self.embeddings = nn.Embedding(vocab_size, embedding_dim, padding_idx=0)\n",
    "        self.embeddings.weight.data.copy_(torch.from_numpy(glove_weights))\n",
    "        self.embeddings.weight.requires_grad = False ## freeze embeddings\n",
    "        self.lstm = nn.LSTM(embedding_dim, hidden_dim, batch_first=True, num_layers=1, bidirectional=True)\n",
    "        self.linear = nn.Linear(hidden_dim, 4) #change based on number of labels\n",
    "        self.dropout = nn.Dropout(0.2)\n",
    "        \n",
    "    def init_hidden(self, batch_size):\n",
    "        # Before we've done anything, we dont have any hidden state.\n",
    "        # Refer to the Pytorch documentation to see exactly\n",
    "        # why they have this dimensionality.\n",
    "        # The axes semantics are (num_layers, minibatch_size, hidden_dim)\n",
    "        if torch.cuda.is_available():\n",
    "            return (torch.zeros(2, batch_size, 150).cuda(),\n",
    "                    torch.zeros(2, batch_size, 150).cuda())\n",
    "        return (torch.zeros(2, batch_size, 150),\n",
    "                torch.zeros(2, batch_size, 150))\n",
    "    \n",
    "    def forward(self, x,l):\n",
    "        #print(x.size)\n",
    "        # reset the LSTM hidden state. Must be done before you run a new batch. Otherwise the LSTM will treat\n",
    "        # a new batch as a continuation of a sequence\n",
    "        self.hidden = self.init_hidden(len(x))\n",
    "        x = self.embeddings(x)\n",
    "        x = self.dropout(x)\n",
    "        lstm_out, self.hidden = self.lstm(x, self.hidden)\n",
    "        #print(self.hidden, self.hidden[0], self.hidden[1])\n",
    "        return self.linear(self.hidden[0][-1])"
   ]
  },
  {
   "cell_type": "code",
   "execution_count": null,
   "metadata": {},
   "outputs": [],
   "source": [
    "print(vocab_size) "
   ]
  },
  {
   "cell_type": "code",
   "execution_count": null,
   "metadata": {},
   "outputs": [],
   "source": [
    "model = LSTM_glove_vecs(vocab_size, 300, 150, pretrained_weights)"
   ]
  },
  {
   "cell_type": "code",
   "execution_count": null,
   "metadata": {},
   "outputs": [],
   "source": [
    "train_model(model, epochs=20, lr=0.01)"
   ]
  },
  {
   "cell_type": "code",
   "execution_count": null,
   "metadata": {},
   "outputs": [],
   "source": [
    "#for test prediction\n",
    "df_test = pd.read_csv( 'data/baseline_test_fb_ad_cv3.csv',low_memory=False)"
   ]
  },
  {
   "cell_type": "code",
   "execution_count": null,
   "metadata": {},
   "outputs": [],
   "source": [
    "df_test['encoded'] = df_test['ad_creative_body'].apply(lambda x: np.array(encode_sentence(x,vocab2index )))\n",
    "#df_test.head()"
   ]
  },
  {
   "cell_type": "code",
   "execution_count": null,
   "metadata": {},
   "outputs": [],
   "source": [
    "X_test = list(df_test['encoded'])\n",
    "y_test = list(df_test['weak_stance'])"
   ]
  },
  {
   "cell_type": "code",
   "execution_count": null,
   "metadata": {},
   "outputs": [],
   "source": [
    "test_ds = FbAd(X_test, y_test)"
   ]
  },
  {
   "cell_type": "code",
   "execution_count": null,
   "metadata": {},
   "outputs": [],
   "source": [
    "test_dl = DataLoader(test_ds, batch_size=1)"
   ]
  },
  {
   "cell_type": "code",
   "execution_count": null,
   "metadata": {},
   "outputs": [],
   "source": [
    "def test_prediction (model, test_dl):\n",
    "    y_pred = []\n",
    "    model.eval()\n",
    "    for x, y, l in test_dl:\n",
    "        #print(l)\n",
    "        y_hat = model(x, l)\n",
    "        pred = torch.max(y_hat, 1)[1]\n",
    "        y_pred.append(pred.item())\n",
    "    return y_pred\n",
    "        "
   ]
  },
  {
   "cell_type": "code",
   "execution_count": null,
   "metadata": {},
   "outputs": [],
   "source": [
    "model.load_state_dict(torch.load('data/glove_lstm_fb_ad_model_cv3_2.pt')) \n",
    "test_pred = test_prediction(model, test_dl)"
   ]
  },
  {
   "cell_type": "code",
   "execution_count": null,
   "metadata": {},
   "outputs": [],
   "source": [
    "print(len(test_pred))\n",
    "print(test_pred[0])"
   ]
  },
  {
   "cell_type": "code",
   "execution_count": null,
   "metadata": {},
   "outputs": [],
   "source": [
    "#test_pred"
   ]
  },
  {
   "cell_type": "code",
   "execution_count": null,
   "metadata": {},
   "outputs": [],
   "source": [
    "df_test['pred_stance'] = test_pred"
   ]
  },
  {
   "cell_type": "code",
   "execution_count": null,
   "metadata": {},
   "outputs": [],
   "source": [
    "##Baseline (Glove + LSTM) -- accuracy\n",
    "df_b = df_test[['id', 'pred_stance', 'gt_stance']] #extracted 3 columns\n",
    "#print(df_b) #29348\n",
    "df_b1= df_b.dropna()#dropping nan value\n",
    "#print(df_b1) #385\n",
    "df_b1 = df_b1[df_b1.gt_stance != '-1'] #dropping rows with truth value -1\n",
    "df_b1 = df_b1.reset_index(drop = True)\n",
    "#print(df_b1) #279\n",
    "count_label = 0\n",
    "\n",
    "for i in range (0, df_b1.shape[0]):\n",
    "    #print(df_b1.gt_stance[i][0], type(df_b1.gt_stance[i]))\n",
    "\n",
    "    if df_b1.pred_stance[i] == int(df_b1.gt_stance[i][0]): #count label those are same for both ground truth and prediction\n",
    "        count_label = count_label + 1\n",
    "\n",
    "print('count_label', count_label) \n",
    "print('accuracy of baseline : ', (count_label/df_b1.shape[0]) ) \n",
    "\n",
    "#Bi-LSTM\n",
    "#0.4982078853046595, 0.5340501792114696,  0.5232974910394266, 0.5734767025089605, 0.5483870967741935 \n",
    "\n",
    "# mean = 0.5355\n",
    "\n",
    "#LSTM\n",
    "#0.6093189964157706,  0.1222222222222222,  0.5483870967741935, 0.07885304659498207, 0.078853046594982072, 0.07885304659498207\n",
    "\n",
    "\n",
    "##Baseline (Glove + LSTM) -- Macro avg F1 score\n",
    "from sklearn.metrics import f1_score\n",
    "#print(df_b1.gt_stance.values)\n",
    "new_y = [] # to handle multi-label\n",
    "for j in range (0, df_b1.shape[0]):\n",
    "    if len(df_b1.gt_stance[j]) > 1:\n",
    "        new_y.append(int(df_b1.gt_stance[j][0]))\n",
    "    else:\n",
    "        new_y.append(int(df_b1.gt_stance[j]))\n",
    "\n",
    "#print(new_y)\n",
    "#x = x.long()\n",
    "print('Macro-avg F1 score of baseline : ', f1_score(new_y, df_b1.pred_stance.values, average='macro'))\n",
    "\n",
    "#Bi-LSTM\n",
    "# 0.363782832520845 , 0.38692407749292423, 0.40802426122331525, 0.5013154244058546, 0.4211751317915702\n",
    "\n",
    "# mean = 0.4162\n",
    "\n",
    "#LSTM\n",
    "#0.2171822518408783, 0.05145827826240197, 0.37591626828914965, 0.033444816053511704, 0.04141898086534764,  0.039739500265816054\n",
    "\n",
    "\n"
   ]
  },
  {
   "cell_type": "code",
   "execution_count": null,
   "metadata": {},
   "outputs": [],
   "source": []
  }
 ],
 "metadata": {
  "kernelspec": {
   "display_name": "Python 3",
   "language": "python",
   "name": "python3"
  },
  "language_info": {
   "codemirror_mode": {
    "name": "ipython",
    "version": 3
   },
   "file_extension": ".py",
   "mimetype": "text/x-python",
   "name": "python",
   "nbconvert_exporter": "python",
   "pygments_lexer": "ipython3",
   "version": "3.8.5"
  }
 },
 "nbformat": 4,
 "nbformat_minor": 4
}
