{
 "cells": [
  {
   "cell_type": "code",
   "execution_count": null,
   "metadata": {},
   "outputs": [],
   "source": [
    "import pandas as pd \n",
    "#pd.set_option('compute.use_numexpr', False)\n",
    "import numpy as np \n",
    "from collections import defaultdict\n",
    "import re\n",
    "import sys\n",
    "from sklearn.model_selection import train_test_split\n",
    "import gzip\n",
    "import yaml\n",
    "import requests\n",
    "import csv\n",
    "import re\n",
    "from tqdm import tqdm\n",
    "from itertools import product\n",
    "import json\n",
    "import pickle\n",
    "import matplotlib.pyplot as plt\n",
    "from itertools import cycle, islice"
   ]
  },
  {
   "cell_type": "code",
   "execution_count": null,
   "metadata": {},
   "outputs": [],
   "source": [
    "import pandas as pd \n",
    "#pd.set_option('compute.use_numexpr', False)\n",
    "import numpy as np \n",
    "from collections import defaultdict\n",
    "import re\n",
    "import sys\n",
    "from sklearn.model_selection import train_test_split\n",
    "import gzip\n",
    "\n",
    "import csv\n",
    "import pandas as pd \n",
    "import numpy as np \n",
    "from collections import defaultdict\n",
    "import re\n",
    "import sys\n",
    "from sklearn.model_selection import train_test_split\n",
    "import datetime\n",
    "import matplotlib.pyplot as plt\n",
    "import time\n",
    "import numpy as np\n",
    "from pprint import pprint\n",
    "\n",
    "import spacy  # For preprocessing\n",
    "import nltk\n",
    "import string\n",
    "\n",
    "import preprocessor as p  #pip install tweet-preprocessor\n",
    "import logging  # Setting up the loggings to monitor gensim\n",
    "from nltk.stem import WordNetLemmatizer\n",
    "from string import punctuation as punc\n",
    "\n",
    "import gensim\n",
    "import gensim.corpora as corpora\n",
    "#from gensim.utils import simple_preprocess\n",
    "from gensim.models import CoherenceModel\n",
    "import gensim.models as gsm\n",
    "from gensim.test.utils import datapath\n",
    "\n",
    "import regex\n",
    "\n",
    "\n",
    "import torch\n",
    "import torch.nn as nn\n",
    "import torch.nn.functional as F\n",
    "import torch.optim as optim\n",
    "import torch.autograd as autograd\n",
    "import torchvision.transforms as transforms\n",
    "from torch.autograd import Variable\n",
    "\n",
    "torch.manual_seed(1)"
   ]
  },
  {
   "cell_type": "code",
   "execution_count": null,
   "metadata": {},
   "outputs": [],
   "source": [
    "# # ### Load propublica data\n",
    "# propub = pd.read_csv( 'data/en-US',low_memory=False) #(28189, 6)\n",
    "\n",
    "# propub.head(10) #852799 rows × 11 columns\n",
    "\n",
    "# # import zipfile\n",
    "\n",
    "# # zf = zipfile.ZipFile('data/en-US.zip') \n",
    "# # # if you want to see all files inside zip folder\n",
    "# # zf.namelist() \n",
    "# # # now read your csv file \n",
    "# # df = pd.read_csv(zf.open('data/en-US.csv'))\n"
   ]
  },
  {
   "cell_type": "code",
   "execution_count": null,
   "metadata": {},
   "outputs": [],
   "source": [
    "# ### Load predicted fb all (predicted_fb_all) 0.8 million\n",
    "predicted_fb_all = pd.read_csv( 'data/predicted_all_para.csv',low_memory=False) #(28189, 6)\n",
    "\n",
    "predicted_fb_all #852799 rows × 11 columns\n",
    "\n",
    "\n"
   ]
  },
  {
   "cell_type": "code",
   "execution_count": null,
   "metadata": {},
   "outputs": [],
   "source": [
    "predicted_fb_all.tail(150) \n",
    "\n",
    "#Club for Growth Action #C #American Potential Fund#C\n",
    "#The Lincoln Project #L #Committee to Protect Medicare#L #United We Dream Action#L\n",
    "\n",
    "\n"
   ]
  },
  {
   "cell_type": "markdown",
   "metadata": {},
   "source": [
    "## Qualitative analysis using 50 unbias funding entities "
   ]
  },
  {
   "cell_type": "code",
   "execution_count": null,
   "metadata": {},
   "outputs": [],
   "source": [
    "top_fe = pd.read_csv( 'data/top_50_fe_updated.csv',low_memory=False) #(28189, 6)"
   ]
  },
  {
   "cell_type": "code",
   "execution_count": null,
   "metadata": {},
   "outputs": [],
   "source": [
    "top = top_fe.loc[(top_fe['funding_entity'] == 'American Potential Fund')]#\n",
    "top\n",
    "top.to_csv('data/aba.csv', line_terminator='\\r\\n', encoding='utf-8', index = False) "
   ]
  },
  {
   "cell_type": "code",
   "execution_count": null,
   "metadata": {},
   "outputs": [],
   "source": [
    "\n",
    "\n",
    "#for accuracy with entity level prediction\n",
    "count_pp = 0\n",
    "pb = 0\n",
    "pt = 0\n",
    "ab = 0\n",
    "at = 0\n",
    "ns = 0\n",
    "for i in range (0, top_fe.shape[0]):\n",
    "    if top_fe['funding_entity'][i] == 'American Potential Fund':\n",
    "        if top_fe.pred_stance[i] == 0:\n",
    "            pb = pb + 1\n",
    "        elif top_fe.pred_stance[i] == 1:\n",
    "            pt = pt + 1\n",
    "        elif top_fe.pred_stance[i] == 2:\n",
    "            ab = ab + 1\n",
    "        elif top_fe.pred_stance[i] == 3:\n",
    "            at = at + 1\n",
    "        else:\n",
    "            ns = ns + 1\n",
    "        \n",
    "print(pb , pt, ab, at, ns)   \n",
    "\n",
    "\n",
    "\n"
   ]
  },
  {
   "cell_type": "code",
   "execution_count": null,
   "metadata": {},
   "outputs": [],
   "source": [
    "### Issue distribution over 2 bias funding entities\n",
    "fe_issue = predicted_fb_all.loc[(predicted_fb_all['funding_entity'] == 'BIDEN FOR PRESIDENT') | \n",
    "                      (predicted_fb_all['funding_entity'] == 'DONALD J. TRUMP FOR PRESIDENT, INC.')]\n",
    "\n",
    "fe_issue.reset_index(inplace=True) # Resets the index, makes factor a column\n",
    "\n",
    "fe_issue"
   ]
  },
  {
   "cell_type": "code",
   "execution_count": null,
   "metadata": {},
   "outputs": [],
   "source": [
    "fe_issue['ad_creative_body'].nunique()"
   ]
  },
  {
   "cell_type": "code",
   "execution_count": null,
   "metadata": {},
   "outputs": [],
   "source": [
    "### Issue distribution over 2 non-bias funding entities\n",
    "\n",
    "fe_issue = top_fe.loc[(top_fe['funding_entity'] == 'Independence USA PAC') | \n",
    "                      (top_fe['funding_entity'] == 'American Potential Fund')]\n",
    "\n",
    "\n",
    "# fe_issue = top_fe.loc[(top_fe['funding_entity'] == 'Union 2020') | \n",
    "#                       (top_fe['funding_entity'] == 'America First Action')]\n",
    "\n",
    "\n",
    "\n",
    "\n",
    "fe_issue.reset_index(inplace=True) # Resets the index, makes factor a column\n",
    "\n",
    "fe_issue"
   ]
  },
  {
   "cell_type": "code",
   "execution_count": null,
   "metadata": {},
   "outputs": [],
   "source": [
    "\n",
    "ad_id = []\n",
    "stance_p = []\n",
    "text = []\n",
    "fe = []\n",
    "start = []\n",
    "stop = []\n",
    "imp = []\n",
    "spend = []\n",
    "region = []\n",
    "demo = []\n",
    "issue_p = []\n",
    "for j in range (0, fe_issue.shape[0] ):\n",
    "    list_dic = eval(fe_issue['region_distribution'][j])\n",
    "    #print (list_dic)\n",
    "    #sys.exit()\n",
    "    for i in range (0, len(list_dic)):\n",
    "        dic = list_dic[i]\n",
    "        #if dic['region'] == 'Alabama':\n",
    "        #if dic['region'] == 'Alabama' or dic['region'] == 'Idaho' or dic['region'] == 'Wyoming': # 3 red\n",
    "        if dic['region'] == 'California' or dic['region'] == 'New York' or dic['region'] == 'Oregon': # 3 blue\n",
    "        #if dic['region'] == 'California' or dic['region'] == 'New York' or dic['region'] == 'Illinois' or dic['region'] == 'Minnesota' or dic['region'] == 'Vermont' or dic['region'] == 'Oregon' : #6 blue states\n",
    "        #if dic['region'] == 'Alabama' or dic['region'] == 'Idaho' or dic['region'] == 'Wyoming' or dic['region'] == 'Kansas' or dic['region'] == 'Arkansas' or dic['region'] == 'Oklahoma' : #6 red states\n",
    "        #if  dic['region'] == 'Pennsylvania': #'Pennsylvania': #we checked for Alabama(c), Florida(s) in the paper\n",
    "            ad_id.append(fe_issue.id[j])\n",
    "            text.append(fe_issue.ad_creative_body[j])\n",
    "            fe.append(fe_issue.funding_entity[j])\n",
    "            start.append(fe_issue.ad_delivery_start_time[j])\n",
    "            stop.append(fe_issue.ad_delivery_stop_time[j])\n",
    "            imp.append(fe_issue.impressions[j])\n",
    "            spend.append(fe_issue.spend[j])\n",
    "            region.append(fe_issue.region_distribution[j])\n",
    "            demo.append(fe_issue.demographic_distribution[j])\n",
    "            stance_p.append(fe_issue.pred_stance[j])\n",
    "            issue_p.append(fe_issue.pred_issue[j])"
   ]
  },
  {
   "cell_type": "code",
   "execution_count": null,
   "metadata": {},
   "outputs": [],
   "source": [
    "state_fe_issue = pd.DataFrame({'id': ad_id, 'ad_creative_body': text, 'funding_entity': fe, \n",
    "                             'ad_delivery_start_time': start, 'ad_delivery_stop_time' : stop,\n",
    "                             'impressions' : imp, 'spend' : spend, 'region_distribution': region,\n",
    "                             'demographic_distribution': demo, 'pred_stance' : stance_p, 'pred_issue' : issue_p\n",
    "                            })\n",
    "state_fe_issue"
   ]
  },
  {
   "cell_type": "code",
   "execution_count": null,
   "metadata": {},
   "outputs": [],
   "source": [
    "\n",
    "#state_fe_issue['ad_creative_body'].nunique()\n",
    "\n",
    "#one_state_fe = state_fe_issue.loc[(state_fe_issue['funding_entity'] == 'Independence USA PAC')]\n",
    "#one_state_fe = state_fe_issue.loc[(state_fe_issue['funding_entity'] == 'Union 2020')]\n",
    "#one_state_fe\n",
    "\n",
    "\n",
    "one_state_fe = state_fe_issue.loc[(state_fe_issue['funding_entity'] == 'American Potential Fund')]\n",
    "one_state_fe\n",
    "\n",
    "# fe_issue = top_fe.loc[(top_fe['funding_entity'] == 'Independence USA PAC') | \n",
    "#                       (top_fe['funding_entity'] == 'American Potential Fund')]\n",
    "\n",
    "\n",
    "\n",
    "# \n",
    "#                       (predicted_fb_all['funding_entity'] == 'DONALD J. TRUMP FOR PRESIDENT, INC.')\n",
    "# (state_fe_issue['funding_entity'] == 'BIDEN FOR PRESIDENT')\n",
    "\n",
    "\n",
    "# top_fe.loc[(top_fe['funding_entity'] == 'Union 2020') | \n",
    "#                       (top_fe['funding_entity'] == 'America First Action')]\n",
    "\n"
   ]
  },
  {
   "cell_type": "code",
   "execution_count": null,
   "metadata": {},
   "outputs": [],
   "source": [
    "## This is for Issue distribution over two non-bias and bias funding entities for specific state\n",
    "sfei = state_fe_issue.groupby(['pred_issue', 'funding_entity']).agg({'id': 'count'}).unstack()\n",
    "sfei"
   ]
  },
  {
   "cell_type": "code",
   "execution_count": null,
   "metadata": {},
   "outputs": [],
   "source": [
    "## This is for Issue distribution over two non-bias and bias funding entities for all states\n",
    "fei = fe_issue.groupby(['pred_issue', 'funding_entity']).agg({'id': 'count'}).unstack()\n",
    "fei"
   ]
  },
  {
   "cell_type": "code",
   "execution_count": null,
   "metadata": {},
   "outputs": [],
   "source": [
    "#asfe = age_state_fe.groupby(['demographic_distribution', 'funding_entity']).agg({'id': 'count'})"
   ]
  },
  {
   "cell_type": "code",
   "execution_count": null,
   "metadata": {},
   "outputs": [],
   "source": []
  },
  {
   "cell_type": "code",
   "execution_count": null,
   "metadata": {},
   "outputs": [],
   "source": [
    "#type(eval(new_df['region_distribution'][93568])), type(eval(new_df['region_distribution'][93568])[0]), eval(new_df['region_distribution'][93568])[0]"
   ]
  },
  {
   "cell_type": "code",
   "execution_count": null,
   "metadata": {},
   "outputs": [],
   "source": [
    "#new_df = top_fe.loc[top_fe['pred_stance'] == '1'] #top10 pro-trump 38168 (not good)\n",
    "#new_df = one_state_fe.loc[one_state_fe['pred_issue'] == 1] #covid\n",
    "\n",
    "new_df = one_state_fe.loc[(one_state_fe['pred_stance'] == 1) | (one_state_fe['pred_stance'] == 2)] #pro-trump, anti-biden\n",
    "#new_df = one_state_fe.loc[(one_state_fe['pred_stance'] == 0) | (one_state_fe['pred_stance'] == 3)] #pro-biden, anti-trump\n"
   ]
  },
  {
   "cell_type": "code",
   "execution_count": null,
   "metadata": {},
   "outputs": [],
   "source": [
    "new_df.shape #17179\n",
    "new_df['ad_creative_body'].unique()"
   ]
  },
  {
   "cell_type": "code",
   "execution_count": null,
   "metadata": {},
   "outputs": [],
   "source": [
    "text = \" \".join(review for review in new_df['ad_creative_body'].str.lower())\n",
    "#text = \" \".join(review.lower() for review in new_df['ad_creative_body'].unique())\n",
    "\n",
    "#print (\"There are {} words in the combination ads.\".format(len(text)))"
   ]
  },
  {
   "cell_type": "code",
   "execution_count": null,
   "metadata": {},
   "outputs": [],
   "source": [
    "#!pip install wordcloud\n",
    "from wordcloud import WordCloud \n",
    "from wordcloud import WordCloud, STOPWORDS, ImageColorGenerator\n",
    "\n",
    "#get stop words of all languages\n",
    "#STOPWORDS_DICT = {lang: set(nltk.corpus.stopwords.words(lang)) for lang in nltk.corpus.stopwords.fileids()}\n",
    "from nltk.corpus import stopwords\n",
    "stop_words = set(stopwords.words('english')) \n",
    "# # Create stopword list:\n",
    "# stopwords = set(STOPWORDS)\n",
    "stop_words.update([\"would\",\"get\",\"going\",\"across\",\"held\",\"join\",\"make\",\"have\",\"not\"\n",
    "                   \"need\",\"know\",\"will\",\"be\",\"is\",\"us\",\"now\",\"tommorow\",\"today\",\"yesterday\",\"take\",\n",
    "                   \"sure\", \"country\",\"state\", \"county\",\"p\",\"tonight\",\"like\",\"ready\",\"time\",\"tell\",\"midnight\",\"year\",\"month\",\"week\",\"day\",\n",
    "                  \"want\",\"three\",\"please\",\"ever\",\"years\",\"months\",\"days\",\"hour\",\"hours\",\"amount\",\"wants\",\n",
    "                   \"show\",\"pm\",\"am\",\"need\",\"let\",\"use\",\"used\",\"really\",\"think\",\"new\",\"party\",\"name\", \"59pm\"\n",
    "                   ])\n",
    "\n",
    "# stop_words.update([\"would\",\"get\",\"going\",\"across\",\"held\",\"join\",\"joe\", \"biden\", \"kamala\", \"harris\",\"make\",\"donald\",\"trump\",\"pence\",\"election\",\"have\",\"not\"\n",
    "#                    \"need\",\"know\", \"november\",\"will\",\"be\",\"is\",\"us\",\"now\",\"tommorow\",\"today\",\"yesterday\",\"take\",\"democrats\",\"democrat\",\"republican\", \"republicans\",\n",
    "#                    \"sure\", \"country\",\"state\", \"county\",\"p\",\"tonight\",\"like\",\"ready\",\"time\",\"tell\",\"midnight\",\"year\",\"month\",\"week\",\"day\",\n",
    "#                   \"want\",\"three\",\"please\",\"ever\",\"years\",\"months\",\"days\",\"hour\",\"hours\",\"amount\",\"wants\",\"democratic\",\n",
    "#                    \"show\",\"pm\",\"am\",\"need\",\"let\",\"contribute\",\"use\",\"used\",\"really\",\"think\",\"new\",\"party\",\"name\",\n",
    "#                    \"defeat\",\"vote\",\"bernie\",\"sanders\",\"presidential\",\"president\",\"ballot\",\"campaign\",\"see\",\"donation\",\n",
    "#                    \"chip\",\"candidate\",\"moven\",\"org\", \"senate\",\"donate\",\"one\",\"people\",\"jill\",\"poll\",\"niece\",\"survey\",\"minutes\",\n",
    "#                   \"http\",\"trump2020\",\"coin\",\"https\",\"www\",\"trump2020\",\"biden-harris\",\"trump-pence\",\"biden2020\",\"com\",\"moveon\",\n",
    "#                    \"conservatecollections\",'hat','conservatecollection','conservativecollections.','even','give'])\n",
    "\n",
    "# Generate a word cloud image\n",
    "wordcloud = WordCloud(stopwords=stop_words, background_color=\"white\", max_words=100).generate(text)\n",
    "\n",
    "# Display the generated image:\n",
    "# the matplotlib way:\n",
    "plt.imshow(wordcloud, interpolation='bilinear')\n",
    "plt.axis(\"off\")\n",
    "plt.show()"
   ]
  },
  {
   "cell_type": "code",
   "execution_count": null,
   "metadata": {},
   "outputs": [],
   "source": [
    "#wordcloud.to_file(\"image/PA_unbias_america_1st.png\")\n",
    "#wordcloud.to_file(\"image/PA_unbias_union2020.png\")\n",
    "#wordcloud.to_file(\"image/pres_trump.png\")\n",
    "#wordcloud.to_file(\"image/pres_biden.png\")"
   ]
  },
  {
   "cell_type": "markdown",
   "metadata": {},
   "source": [
    "## LDA Topic modeling"
   ]
  },
  {
   "cell_type": "code",
   "execution_count": null,
   "metadata": {},
   "outputs": [],
   "source": [
    "def sent_to_words(sentences):\n",
    "    for sent in sentences:\n",
    "        sent = re.sub('\\S*@\\S*\\s?', '', sent)  # remove emails\n",
    "        sent = re.sub('\\s+', ' ', sent)  # remove newline chars\n",
    "        sent = re.sub(\"\\'\", \"\", sent)  # remove single quotes\n",
    "        sent = gensim.utils.simple_preprocess(str(sent), deacc=True) \n",
    "        yield(sent)  \n",
    "\n",
    "# Convert to list\n",
    "data = new_df.ad_creative_body.values.tolist()\n",
    "data_words = list(sent_to_words(data))\n",
    "#print(data_words[:1])\n",
    "#data_words"
   ]
  },
  {
   "cell_type": "code",
   "execution_count": null,
   "metadata": {},
   "outputs": [],
   "source": [
    "# Gensim\n",
    "import gensim, spacy, logging, warnings\n",
    "import gensim.corpora as corpora\n",
    "#from gensim.utils import lemmatize, simple_preprocess\n",
    "from gensim.utils import simple_preprocess\n",
    "from gensim.models import CoherenceModel\n",
    "import matplotlib.pyplot as plt\n",
    "\n",
    "# NLTK Stop words\n",
    "from nltk.corpus import stopwords\n",
    "stop_words = stopwords.words('english')\n",
    "# stop_words.extend(['from', 'subject', 're', 'edu', 'use', 'not', 'would', 'say', 'could', '_', 'be', \n",
    "#                    'know', 'good', 'go', 'get', 'do', 'done', 'try', 'many', 'some', 'nice', 'thank', \n",
    "#                    'think', 'see', 'rather', 'easy', 'easily', 'lot', 'lack', 'make', 'want', 'seem', \n",
    "#                    'run', 'need', 'even', 'right', 'line', 'even', 'also', 'may', 'take', 'come', \n",
    "#                    'https','http','www','rt','am','pm','co','com','amp','&','nhttps','amit','late'])\n",
    "\n",
    "nlp = spacy.load('en_core_web_sm')#python -m spacy download en\n"
   ]
  },
  {
   "cell_type": "code",
   "execution_count": null,
   "metadata": {},
   "outputs": [],
   "source": [
    "bigram = gensim.models.Phrases(data_words, min_count=5) # higher threshold fewer phrases.\n",
    "trigram = gensim.models.Phrases(bigram[data_words], min_count=5)  \n",
    "bigram_mod = gensim.models.phrases.Phraser(bigram)\n",
    "trigram_mod = gensim.models.phrases.Phraser(trigram)\n",
    "#print(bigram_mod)\n",
    "# !python3 -m spacy download en  # run in terminal once\n",
    "def process_words(texts, stop_words=stop_words, allowed_postags=['NOUN', 'ADJ', 'VERB', 'ADV']):\n",
    "    #print(text)\n",
    "    \"\"\"Remove Stopwords, Form Bigrams, Trigrams and Lemmatization\"\"\"\n",
    "    texts = [[word for word in simple_preprocess(str(doc)) if word not in stop_words] for doc in texts]\n",
    "    #print(texts)\n",
    "    texts = [bigram_mod[doc] for doc in texts]\n",
    "    #print(texts)\n",
    "    texts = [trigram_mod[bigram_mod[doc]] for doc in texts]\n",
    "    #print(texts)\n",
    "    #sys.exit()\n",
    "    texts_out = []\n",
    "    \n",
    "    for sent in texts:\n",
    "        doc = nlp(\" \".join(sent)) \n",
    "        texts_out.append([token.lemma_ for token in doc if token.pos_ in allowed_postags])\n",
    "    # remove stopwords once more after lemmatization\n",
    "    #texts_out = [[word for word in simple_preprocess(str(doc)) if word not in stop_words] for doc in texts_out]    \n",
    "    return texts_out\n",
    "\n",
    "data_ready = process_words(data_words)  # processed Text Data!"
   ]
  },
  {
   "cell_type": "code",
   "execution_count": null,
   "metadata": {},
   "outputs": [],
   "source": [
    "# Create Dictionary\n",
    "id2word = corpora.Dictionary(data_ready)\n",
    "\n",
    "# Create Corpus: Term Document Frequency\n",
    "corpus = [id2word.doc2bow(text) for text in data_ready]\n",
    "\n",
    "# Build LDA model\n",
    "lda_model = gensim.models.ldamodel.LdaModel(corpus=corpus,\n",
    "                                           id2word=id2word,\n",
    "                                           num_topics = 2, \n",
    "                                           random_state=100,\n",
    "                                           #update_every=1,\n",
    "                                           chunksize=2000,\n",
    "                                           passes=20,\n",
    "                                           alpha='auto',\n",
    "                                           iterations=400,\n",
    "                                           eval_every = None,\n",
    "                                           per_word_topics=True)\n",
    "\n",
    "\n",
    "\n",
    "top_topics = lda_model.top_topics(corpus, topn=10) #top 10 high frequency words of specific topic\n",
    "\n",
    "from pprint import pprint\n",
    "pprint(top_topics)\n",
    "\n",
    "#pprint(lda_model.print_topics())\n",
    "#> [(0,"
   ]
  },
  {
   "cell_type": "code",
   "execution_count": null,
   "metadata": {},
   "outputs": [],
   "source": [
    "# 1. Wordcloud of Top N words in each topic\n",
    "from matplotlib import pyplot as plt\n",
    "from wordcloud import WordCloud, STOPWORDS\n",
    "import matplotlib.colors as mcolors\n",
    "\n",
    "cols = [color for name, color in mcolors.TABLEAU_COLORS.items()]  # more colors: 'mcolors.XKCD_COLORS'\n",
    "\n",
    "cloud = WordCloud(stopwords=stop_words,\n",
    "                  background_color='white',\n",
    "                  width=2500,\n",
    "                  height=1800,\n",
    "                  max_words=10,\n",
    "                  colormap='tab10',\n",
    "                  color_func=lambda *args, **kwargs: cols[i],\n",
    "                  prefer_horizontal=1.0)\n",
    "\n",
    "topics = lda_model.show_topics(num_words=10, formatted=False)\n",
    "\n",
    "#fig, axes = plt.subplots(2, 3, figsize=(10,10), sharex=True, sharey=True)\n",
    "fig, axes = plt.subplots(1, 2, figsize=(10,5), sharex=True, sharey=True)\n",
    "\n",
    "for i, ax in enumerate(axes.flatten()):\n",
    "    fig.add_subplot(ax)\n",
    "    topic_words = dict(topics[i][1])\n",
    "    cloud.generate_from_frequencies(topic_words, max_font_size=300)\n",
    "    plt.gca().imshow(cloud)\n",
    "    plt.gca().set_title('Topic ' + str(i), fontdict=dict(size=16))\n",
    "    plt.gca().axis('off')\n",
    "\n",
    "\n",
    "plt.subplots_adjust(wspace=0, hspace=0)\n",
    "plt.axis('off')\n",
    "plt.margins(x=0, y=0)\n",
    "plt.tight_layout()\n",
    "\n",
    "#plt.savefig(\"image/apf_in_blue.png\") #american potential fund in blue state topic\n",
    "#plt.savefig(\"image/iu_in_red.png\") #independence usa red topic\n",
    "plt.show()"
   ]
  },
  {
   "cell_type": "code",
   "execution_count": null,
   "metadata": {},
   "outputs": [],
   "source": []
  },
  {
   "cell_type": "code",
   "execution_count": null,
   "metadata": {},
   "outputs": [],
   "source": []
  },
  {
   "cell_type": "markdown",
   "metadata": {},
   "source": [
    "## Swing state info for Wisconsin, Pennsylvania"
   ]
  },
  {
   "cell_type": "code",
   "execution_count": null,
   "metadata": {},
   "outputs": [],
   "source": [
    "# #Swing state info for Wisconsin, Pennsylvania\n",
    "# ad_id = []\n",
    "# stance_p = []\n",
    "# text = []\n",
    "# fe = []\n",
    "# start = []\n",
    "# stop = []\n",
    "# imp = []\n",
    "# spend = []\n",
    "# region = []\n",
    "# demo = []\n",
    "# issue_p = []\n",
    "# for j in range (0, predicted_fb_all.shape[0] ):\n",
    "#     dic = eval(predicted_fb_all['region_distribution'][j])[0]\n",
    "#     if dic['region'] == 'Wisconsin' or dic['region'] == 'Pennsylvania':\n",
    "#         ad_id.append(predicted_fb_all.id[j])\n",
    "#         text.append(predicted_fb_all.ad_creative_body[j])\n",
    "#         fe.append(predicted_fb_all.funding_entity[j])\n",
    "#         start.append(predicted_fb_all.ad_delivery_start_time[j])\n",
    "#         stop.append(predicted_fb_all.ad_delivery_stop_time[j])\n",
    "#         imp.append(predicted_fb_all.impressions[j])\n",
    "#         spend.append(predicted_fb_all.spend[j])\n",
    "#         region.append(predicted_fb_all.region_distribution[j])\n",
    "#         demo.append(predicted_fb_all.demographic_distribution[j])\n",
    "#         stance_p.append(predicted_fb_all.pred_stance[j])\n",
    "#         issue_p.append(predicted_fb_all.pred_issue[j])\n",
    "\n",
    "\n",
    "\n",
    "            \n",
    "\n",
    "#Only pennsylvania\n",
    "\n",
    "#Swing state info for Wisconsin, Pennsylvania, Florida, Michighan\n",
    "ad_id = []\n",
    "stance_p = []\n",
    "text = []\n",
    "fe = []\n",
    "start = []\n",
    "stop = []\n",
    "imp = []\n",
    "spend = []\n",
    "region = []\n",
    "demo = []\n",
    "issue_p = []\n",
    "impression = []\n",
    "imp_upper = []\n",
    "imp_lower = []\n",
    "spend_upper = []\n",
    "spend_lower = []\n",
    "# for j in range (0, predicted_fb_all.shape[0] ):\n",
    "#     dic = eval(predicted_fb_all['region_distribution'][j])[0]\n",
    "#     if dic['region'] == 'Pennsylvania' : #'Pennsylvania':\n",
    "#         ad_id.append(predicted_fb_all.id[j])\n",
    "#         text.append(predicted_fb_all.ad_creative_body[j])\n",
    "#         fe.append(predicted_fb_all.funding_entity[j])\n",
    "#         start.append(predicted_fb_all.ad_delivery_start_time[j])\n",
    "#         stop.append(predicted_fb_all.ad_delivery_stop_time[j])\n",
    "#         imp.append(predicted_fb_all.impressions[j])\n",
    "#         spend.append(predicted_fb_all.spend[j])\n",
    "#         region.append(predicted_fb_all.region_distribution[j])\n",
    "#         demo.append(predicted_fb_all.demographic_distribution[j])\n",
    "#         stance_p.append(predicted_fb_all.pred_stance[j])\n",
    "#         issue_p.append(predicted_fb_all.pred_issue[j])\n",
    "\n",
    "\n",
    "for j in range (0, predicted_fb_all.shape[0] ):\n",
    "    list_dic = eval(predicted_fb_all['region_distribution'][j])\n",
    "#     list_imp_dic = eval(predicted_fb_all['impressions'][j])\n",
    "#     list_spend_dic = eval(predicted_fb_all['spend'][j])\n",
    "#     print (list_dic, list_imp_dic, list_imp_dic['upper_bound'], list_spend_dic, list_spend_dic['lower_bound'])\n",
    "#     sys.exit()\n",
    "    for i in range (0, len(list_dic)):\n",
    "        dic = list_dic[i]\n",
    "        if dic['region'] == 'Pennsylvania' : #'Pennsylvania':\n",
    "            ad_id.append(predicted_fb_all.id[j])\n",
    "            text.append(predicted_fb_all.ad_creative_body[j])\n",
    "            fe.append(predicted_fb_all.funding_entity[j])\n",
    "            start.append(predicted_fb_all.ad_delivery_start_time[j])\n",
    "            stop.append(predicted_fb_all.ad_delivery_stop_time[j])\n",
    "            imp.append(predicted_fb_all.impressions[j])\n",
    "            spend.append(predicted_fb_all.spend[j])\n",
    "            region.append(predicted_fb_all.region_distribution[j])\n",
    "            demo.append(predicted_fb_all.demographic_distribution[j])\n",
    "            stance_p.append(predicted_fb_all.pred_stance[j])\n",
    "            issue_p.append(predicted_fb_all.pred_issue[j])\n",
    "\n",
    "                                                           \n",
    "                                                           \n",
    "# for j in range (0, swing.shape[0] ):\n",
    "#     list_dic = eval(swing['demographic_distribution'][j])\n",
    "#     for i in range (0, len(list_dic)):\n",
    "#         #print(list_dic[i])  \n",
    "#         dic = list_dic[i]\n",
    "#         #print(dic['age'] )\n",
    "#         #sys.exit()\n",
    "#         if dic['age'] == '13-17' :\n",
    "#             ad_id.append(swing.id[j])\n",
    "#             text.append(swing.ad_creative_body[j])\n",
    "#             fe.append(swing.funding_entity[j])\n",
    "#             age.append(dic['age'])\n",
    "#             stance_p.append(swing.pred_stance[j])\n",
    "#             issue_p.append(swing.pred_issue[j])"
   ]
  },
  {
   "cell_type": "code",
   "execution_count": null,
   "metadata": {},
   "outputs": [],
   "source": [
    "#eval(predicted_fb_all['region_distribution'][0])[0]['region']"
   ]
  },
  {
   "cell_type": "code",
   "execution_count": null,
   "metadata": {},
   "outputs": [],
   "source": [
    "swing = pd.DataFrame({'id': ad_id, 'ad_creative_body': text, 'funding_entity': fe, \n",
    "                             'ad_delivery_start_time': start, 'ad_delivery_stop_time' : stop,\n",
    "                             'impressions' : imp, 'spend' : spend, 'region_distribution': region,\n",
    "                             'demographic_distribution': demo, 'pred_stance' : stance_p, 'pred_issue' : issue_p\n",
    "                            })"
   ]
  },
  {
   "cell_type": "code",
   "execution_count": null,
   "metadata": {},
   "outputs": [],
   "source": [
    "swing #451576 "
   ]
  },
  {
   "cell_type": "code",
   "execution_count": null,
   "metadata": {},
   "outputs": [],
   "source": [
    "impression = []\n",
    "\n",
    "for j in range (0, swing.shape[0] ):\n",
    "    list_dic = eval(swing['region_distribution'][j])\n",
    "    #print(list_dic)\n",
    "    #sys.exit()\n",
    "    for i in range (0, len(list_dic)):\n",
    "        dic = list_dic[i]\n",
    "        if dic['region'] == 'Pennsylvania' :\n",
    "            impression.append(dic['percentage'])\n",
    "#         print(dic)\n",
    "#         sys.exit()\n",
    "        \n",
    "        "
   ]
  },
  {
   "cell_type": "code",
   "execution_count": null,
   "metadata": {},
   "outputs": [],
   "source": [
    "len(impression)"
   ]
  },
  {
   "cell_type": "code",
   "execution_count": null,
   "metadata": {},
   "outputs": [],
   "source": [
    "swing['reg_imp'] = impression\n",
    "swing['reg_imp'] =  swing['reg_imp'].astype(float)\n",
    "swing"
   ]
  },
  {
   "cell_type": "code",
   "execution_count": null,
   "metadata": {},
   "outputs": [],
   "source": [
    "# sort_swing = swing.sort_values(by = 'reg_imp', ascending = False)\n",
    "# print(sort_swing)\n",
    "top_swing = swing.loc[(swing['reg_imp'] > 0.1)] #ads having > 10% regional impressions in PA\n",
    "top_swing = top_swing.reset_index(drop=True)\n",
    "print(top_swing)"
   ]
  },
  {
   "cell_type": "code",
   "execution_count": null,
   "metadata": {},
   "outputs": [],
   "source": [
    "#drop \"none\" (-1) issue, state\n",
    "new_swing = top_swing[top_swing.pred_issue != -1]\n",
    "new_swing2 = new_swing[new_swing.pred_stance != -1]\n",
    "new_swing2 = new_swing2.reset_index(drop=True)\n",
    "new_swing2"
   ]
  },
  {
   "cell_type": "code",
   "execution_count": null,
   "metadata": {},
   "outputs": [],
   "source": [
    "###Use groupby() function to form groups based on more than one category (i.e. Use more than one column to perform the splitting).\n",
    "## gkk = df.groupby(['Team', 'Position']) \n",
    "###for color coded\n",
    "dfc = new_swing2.groupby(['pred_issue', 'pred_stance']).agg({'id': 'count'}).unstack()\n",
    "dfc"
   ]
  },
  {
   "cell_type": "code",
   "execution_count": null,
   "metadata": {},
   "outputs": [],
   "source": [
    "#dfc['id'][0].values\n"
   ]
  },
  {
   "cell_type": "code",
   "execution_count": null,
   "metadata": {},
   "outputs": [],
   "source": [
    "g = dfc.plot(kind='barh', figsize=(8,5), width = 0.6, color=['green', 'red', 'orange', 'blue']);\n",
    "plt.title('Issue distribution with stances in PA', fontsize=14);\n",
    "plt.xlabel('#Stances', fontsize=12);\n",
    "plt.ylabel('Issue', fontsize=12);\n",
    "newnames = ['pro-biden', 'pro-trump', 'anti-biden', 'anti-trump']\n",
    "#ylabels = g.get_yticks().tolist()\n",
    "#print(ylabels, type(ylabels[0]))\n",
    "#ylabels[0] = 'abortion'\n",
    "\n",
    "ylabels = ['abortion', 'covid', 'climate', 'law & order', 'economy & taxes', 'education', 'foreign policy', 'guns', 'healthcare', 'immigration', 'supreme court', 'terrorism', 'lgbtq']\n",
    "    \n",
    "g.set_yticklabels(ylabels)\n",
    "g.legend(newnames,loc=(4), fontsize=10)\n",
    "#g.get_legend().remove()\n",
    "plt.savefig(\"image/issue_PA.png\", dpi=300, bbox_inches = \"tight\") \n",
    "plt.show()"
   ]
  },
  {
   "cell_type": "code",
   "execution_count": null,
   "metadata": {},
   "outputs": [],
   "source": [
    "# swing.pred_stance.value_counts().plot.bar()\n",
    "# plt.savefig('data/swing_stance_dis.png')\n",
    "\n",
    "# swing.pred_issue.value_counts().plot.bar()\n",
    "# plt.savefig('data/swing_issue_dis.png')\n",
    "\n"
   ]
  },
  {
   "cell_type": "code",
   "execution_count": null,
   "metadata": {},
   "outputs": [],
   "source": [
    "#####swing states (PA, WI)  two different funding entities \n",
    "# state_fe = swing.loc[(swing['funding_entity'] == 'America First Action') | \n",
    "#                               (swing['funding_entity'] == 'Union 2020') ]\n",
    "\n",
    "\n",
    "state_fe = swing.loc[(swing['funding_entity'] == 'BIDEN FOR PRESIDENT') | \n",
    "                              (swing['funding_entity'] == 'DONALD J. TRUMP FOR PRESIDENT, INC.') ]\n",
    "\n",
    "## DONALD J. TRUMP FOR PRESIDENT, INC., #TRUMP MAKE AMERICA GREAT AGAIN COMMITTEE\n",
    "#state_fe = swing.loc[(swing['funding_entity'] == 'BIDEN FOR PRESIDENT') ]\n",
    "#state_fe = swing.loc[(swing['funding_entity'] == 'Union 2020') ]\n",
    "state_fe.reset_index(inplace=True) # Resets the index, makes factor a column"
   ]
  },
  {
   "cell_type": "code",
   "execution_count": null,
   "metadata": {},
   "outputs": [],
   "source": [
    "state_fe"
   ]
  },
  {
   "cell_type": "code",
   "execution_count": null,
   "metadata": {},
   "outputs": [],
   "source": [
    "sfe = state_fe.groupby(['pred_stance']).agg({'id': 'count'})\n",
    "sfe"
   ]
  },
  {
   "cell_type": "code",
   "execution_count": null,
   "metadata": {},
   "outputs": [],
   "source": [
    "#state_fe.to_csv('data/state_fe_PA_Union 2020.csv', line_terminator='\\r\\n', encoding='utf-8', index = False) "
   ]
  },
  {
   "cell_type": "code",
   "execution_count": null,
   "metadata": {},
   "outputs": [],
   "source": [
    "##### Demographic age for specific state for two funding entities\n",
    "#   - 18-24\n",
    "#   - 25-34\n",
    "#   - 35-44\n",
    "#   - 45-54\n",
    "#   - 55-64\n",
    "#   - 65+\n",
    "\n",
    "ad_id = []\n",
    "stance_p = []\n",
    "text = []\n",
    "fe = []\n",
    "age = []\n",
    "issue_p = []\n",
    "\n",
    "for j in range (0, state_fe.shape[0] ):\n",
    "    #print(state_fe['demographic_distribution'][j])\n",
    "    list_dic = eval(state_fe['demographic_distribution'][j])\n",
    "    for i in range (0, len(list_dic)):\n",
    "        #print(list_dic[i])  \n",
    "        dic = list_dic[i]\n",
    "        #print(dic['age'] )\n",
    "        #sys.exit()\n",
    "        if dic['age'] == '13-17' :\n",
    "            ad_id.append(state_fe.id[j])\n",
    "            text.append(state_fe.ad_creative_body[j])\n",
    "            fe.append(state_fe.funding_entity[j])\n",
    "            age.append(dic['age'])\n",
    "            stance_p.append(state_fe.pred_stance[j])\n",
    "            issue_p.append(state_fe.pred_issue[j])\n",
    "        elif dic['age'] == '18-24' :\n",
    "            ad_id.append(state_fe.id[j])\n",
    "            text.append(state_fe.ad_creative_body[j])\n",
    "            fe.append(state_fe.funding_entity[j])\n",
    "            age.append(dic['age'])\n",
    "            stance_p.append(state_fe.pred_stance[j])\n",
    "            issue_p.append(state_fe.pred_issue[j])\n",
    "            \n",
    "        elif dic['age'] == '25-34' :\n",
    "            ad_id.append(state_fe.id[j])\n",
    "            text.append(state_fe.ad_creative_body[j])\n",
    "            fe.append(state_fe.funding_entity[j])\n",
    "            age.append(dic['age'])\n",
    "            stance_p.append(state_fe.pred_stance[j])\n",
    "            issue_p.append(state_fe.pred_issue[j])\n",
    "        \n",
    "        elif dic['age'] == '35-44' :\n",
    "            ad_id.append(state_fe.id[j])\n",
    "            text.append(state_fe.ad_creative_body[j])\n",
    "            fe.append(state_fe.funding_entity[j])\n",
    "            age.append(dic['age'])\n",
    "            stance_p.append(state_fe.pred_stance[j])\n",
    "            issue_p.append(state_fe.pred_issue[j])\n",
    "            \n",
    "        elif dic['age'] == '45-54' :\n",
    "            ad_id.append(state_fe.id[j])\n",
    "            text.append(state_fe.ad_creative_body[j])\n",
    "            fe.append(state_fe.funding_entity[j])\n",
    "            age.append(dic['age'])\n",
    "            stance_p.append(state_fe.pred_stance[j])\n",
    "            issue_p.append(state_fe.pred_issue[j])\n",
    "        \n",
    "        elif dic['age'] == '55-64' :\n",
    "            ad_id.append(state_fe.id[j])\n",
    "            text.append(state_fe.ad_creative_body[j])\n",
    "            fe.append(state_fe.funding_entity[j])\n",
    "            age.append(dic['age'])\n",
    "            stance_p.append(state_fe.pred_stance[j])\n",
    "            issue_p.append(state_fe.pred_issue[j])\n",
    "        \n",
    "        elif dic['age'] == '65+' :\n",
    "            ad_id.append(state_fe.id[j])\n",
    "            text.append(state_fe.ad_creative_body[j])\n",
    "            fe.append(state_fe.funding_entity[j])\n",
    "            age.append(dic['age'])\n",
    "            stance_p.append(state_fe.pred_stance[j])\n",
    "            issue_p.append(state_fe.pred_issue[j])"
   ]
  },
  {
   "cell_type": "code",
   "execution_count": null,
   "metadata": {},
   "outputs": [],
   "source": [
    "age_state_fe = pd.DataFrame({'id': ad_id, 'ad_creative_body': text, 'funding_entity': fe, \n",
    "                             'demographic_distribution': age, 'pred_stance' : stance_p, 'pred_issue' : issue_p\n",
    "                            }) "
   ]
  },
  {
   "cell_type": "code",
   "execution_count": null,
   "metadata": {},
   "outputs": [],
   "source": [
    "age_state_fe"
   ]
  },
  {
   "cell_type": "code",
   "execution_count": null,
   "metadata": {},
   "outputs": [],
   "source": [
    "asfe = age_state_fe.groupby(['demographic_distribution', 'funding_entity']).agg({'id': 'count'}).unstack()\n",
    "#asfe = age_state_fe.groupby(['demographic_distribution']).agg({'id': 'count'})\n",
    "asfe"
   ]
  },
  {
   "cell_type": "code",
   "execution_count": null,
   "metadata": {},
   "outputs": [],
   "source": [
    "##### ##### Demographic gender for specific state for two funding entities\n",
    "# demo_genders:\n",
    "#   - male\n",
    "#   - female\n",
    "#   - unknown\n",
    "\n",
    "ad_id = []\n",
    "stance_p = []\n",
    "text = []\n",
    "fe = []\n",
    "gender = []\n",
    "issue_p = []\n",
    "\n",
    "for j in range (0, state_fe.shape[0] ):\n",
    "    list_dic = eval(state_fe['demographic_distribution'][j])\n",
    "    for i in range (0, len(list_dic)):\n",
    "        #print(list_dic[i])  \n",
    "        dic = list_dic[i]\n",
    "        #print(dic['age'] )\n",
    "        #sys.exit()\n",
    "        \n",
    "        if dic['gender'] == 'male' :\n",
    "            ad_id.append(state_fe.id[j])\n",
    "            text.append(state_fe.ad_creative_body[j])\n",
    "            fe.append(state_fe.funding_entity[j])\n",
    "            gender.append(dic['gender'])\n",
    "            stance_p.append(state_fe.pred_stance[j])\n",
    "            issue_p.append(state_fe.pred_issue[j])\n",
    "            \n",
    "        elif dic['gender'] == 'female' :\n",
    "            ad_id.append(state_fe.id[j])\n",
    "            text.append(state_fe.ad_creative_body[j])\n",
    "            fe.append(state_fe.funding_entity[j])\n",
    "            gender.append(dic['gender'])\n",
    "            stance_p.append(state_fe.pred_stance[j])\n",
    "            issue_p.append(state_fe.pred_issue[j])\n",
    "            \n",
    "        elif dic['gender'] == 'unknown' :\n",
    "            ad_id.append(state_fe.id[j])\n",
    "            text.append(state_fe.ad_creative_body[j])\n",
    "            fe.append(state_fe.funding_entity[j])\n",
    "            gender.append(dic['gender'])\n",
    "            stance_p.append(state_fe.pred_stance[j])\n",
    "            issue_p.append(state_fe.pred_issue[j])\n",
    "        "
   ]
  },
  {
   "cell_type": "code",
   "execution_count": null,
   "metadata": {},
   "outputs": [],
   "source": [
    "gender_state_fe = pd.DataFrame({'id': ad_id, 'ad_creative_body': text, 'funding_entity': fe, \n",
    "                             'demographic_distribution': gender, 'pred_stance' : stance_p, 'pred_issue' : issue_p\n",
    "                            }) "
   ]
  },
  {
   "cell_type": "code",
   "execution_count": null,
   "metadata": {},
   "outputs": [],
   "source": [
    "gsfe = gender_state_fe.groupby(['demographic_distribution', 'funding_entity']).agg({'id': 'count'}).unstack()\n",
    "#gsfe = gender_state_fe.groupby(['demographic_distribution']).agg({'id': 'count'})\n",
    "gsfe"
   ]
  },
  {
   "cell_type": "markdown",
   "metadata": {},
   "source": [
    "## Blue state NY"
   ]
  },
  {
   "cell_type": "code",
   "execution_count": null,
   "metadata": {},
   "outputs": [],
   "source": [
    "# #Blue state info for California , New York\n",
    "# ad_id = []\n",
    "# stance_p = []\n",
    "# text = []\n",
    "# fe = []\n",
    "# start = []\n",
    "# stop = []\n",
    "# imp = []\n",
    "# spend = []\n",
    "# region = []\n",
    "# demo = []\n",
    "# issue_p = []\n",
    "# for j in range (0, predicted_fb_all.shape[0] ):\n",
    "#     dic = eval(predicted_fb_all['region_distribution'][j])[0]\n",
    "#     if dic['region'] == 'New York' or dic['region'] == 'California':\n",
    "#         ad_id.append(predicted_fb_all.id[j])\n",
    "#         text.append(predicted_fb_all.ad_creative_body[j])\n",
    "#         fe.append(predicted_fb_all.funding_entity[j])\n",
    "#         start.append(predicted_fb_all.ad_delivery_start_time[j])\n",
    "#         stop.append(predicted_fb_all.ad_delivery_stop_time[j])\n",
    "#         imp.append(predicted_fb_all.impressions[j])\n",
    "#         spend.append(predicted_fb_all.spend[j])\n",
    "#         region.append(predicted_fb_all.region_distribution[j])\n",
    "#         demo.append(predicted_fb_all.demographic_distribution[j])\n",
    "#         stance_p.append(predicted_fb_all.pred_stance[j])\n",
    "#         issue_p.append(predicted_fb_all.pred_issue[j])\n",
    "\n",
    "#Blue state info for New York\n",
    "ad_id = []\n",
    "stance_p = []\n",
    "text = []\n",
    "fe = []\n",
    "start = []\n",
    "stop = []\n",
    "imp = []\n",
    "spend = []\n",
    "region = []\n",
    "demo = []\n",
    "issue_p = []\n",
    "for j in range (0, predicted_fb_all.shape[0] ):\n",
    "    list_dic = eval(predicted_fb_all['region_distribution'][j])\n",
    "    for i in range (0, len(list_dic)):\n",
    "        dic = list_dic[i]\n",
    "        if dic['region'] == 'New York' :\n",
    "            ad_id.append(predicted_fb_all.id[j])\n",
    "            text.append(predicted_fb_all.ad_creative_body[j])\n",
    "            fe.append(predicted_fb_all.funding_entity[j])\n",
    "            start.append(predicted_fb_all.ad_delivery_start_time[j])\n",
    "            stop.append(predicted_fb_all.ad_delivery_stop_time[j])\n",
    "            imp.append(predicted_fb_all.impressions[j])\n",
    "            spend.append(predicted_fb_all.spend[j])\n",
    "            region.append(predicted_fb_all.region_distribution[j])\n",
    "            demo.append(predicted_fb_all.demographic_distribution[j])\n",
    "            stance_p.append(predicted_fb_all.pred_stance[j])\n",
    "            issue_p.append(predicted_fb_all.pred_issue[j])\n",
    "        \n",
    "\n",
    "\n",
    "                                                      "
   ]
  },
  {
   "cell_type": "code",
   "execution_count": null,
   "metadata": {},
   "outputs": [],
   "source": [
    "blue = pd.DataFrame({'id': ad_id, 'ad_creative_body': text, 'funding_entity': fe, \n",
    "                             'ad_delivery_start_time': start, 'ad_delivery_stop_time' : stop,\n",
    "                             'impressions' : imp, 'spend' : spend, 'region_distribution': region,\n",
    "                             'demographic_distribution': demo, 'pred_stance' : stance_p, 'pred_issue' : issue_p\n",
    "                            }) #34200, (NY = 5552)"
   ]
  },
  {
   "cell_type": "code",
   "execution_count": null,
   "metadata": {},
   "outputs": [],
   "source": [
    "blue"
   ]
  },
  {
   "cell_type": "code",
   "execution_count": null,
   "metadata": {},
   "outputs": [],
   "source": [
    "impression = []\n",
    "\n",
    "for j in range (0, blue.shape[0] ):\n",
    "    list_dic = eval(blue['region_distribution'][j])\n",
    "    #print(list_dic)\n",
    "    #sys.exit()\n",
    "    for i in range (0, len(list_dic)):\n",
    "        dic = list_dic[i]\n",
    "        if dic['region'] == 'New York' :\n",
    "            impression.append(dic['percentage'])\n",
    "#         print(dic)\n",
    "#         sys.exit()\n",
    "        "
   ]
  },
  {
   "cell_type": "code",
   "execution_count": null,
   "metadata": {},
   "outputs": [],
   "source": [
    "blue['reg_imp'] = impression\n",
    "blue['reg_imp'] =  blue['reg_imp'].astype(float)\n",
    "blue"
   ]
  },
  {
   "cell_type": "code",
   "execution_count": null,
   "metadata": {},
   "outputs": [],
   "source": [
    "top_blue = blue.loc[(blue['reg_imp'] > 0.1)] #ads having > 10% regional impressions in NY\n",
    "top_blue = top_blue.reset_index(drop=True)\n",
    "print(top_blue)"
   ]
  },
  {
   "cell_type": "code",
   "execution_count": null,
   "metadata": {},
   "outputs": [],
   "source": [
    "#drop \"none\" (-1) issue, stance\n",
    "#drop \"none\" (-1) issue, state\n",
    "\n",
    "new_blue = top_blue[top_blue.pred_issue != -1]\n",
    "new_blue2 = new_blue[new_blue.pred_stance != -1]\n",
    "new_blue2 = new_blue2.reset_index(drop=True)\n",
    "new_blue2"
   ]
  },
  {
   "cell_type": "code",
   "execution_count": null,
   "metadata": {},
   "outputs": [],
   "source": [
    "###Use groupby() function to form groups based on more than one category (i.e. Use more than one column to perform the splitting).\n",
    "dfc = new_blue2.groupby(['pred_issue', 'pred_stance']).agg({'id': 'count'}).unstack()\n",
    "dfc"
   ]
  },
  {
   "cell_type": "code",
   "execution_count": null,
   "metadata": {},
   "outputs": [],
   "source": [
    "g = dfc.plot(kind='barh', figsize=(8,5), width = 0.6, color=['green', 'red', 'orange', 'blue']);\n",
    "plt.title('Issue distribution with stances in NY', fontsize=14);\n",
    "plt.xlabel('#Stances', fontsize=12);\n",
    "plt.ylabel('Issue', fontsize=12);\n",
    "newnames = ['pro-biden', 'pro-trump', 'anti-biden', 'anti-trump']\n",
    "#ylabels = g.get_yticks().tolist()\n",
    "#print(ylabels, type(ylabels[0]))\n",
    "#ylabels[0] = 'abortion'\n",
    "\n",
    "ylabels = ['abortion', 'covid', 'climate', 'law & order', 'economy & taxes', 'education', 'foreign policy', 'guns', 'healthcare', 'immigration', 'supreme court', 'terrorism', 'lgbtq']\n",
    "    \n",
    "g.set_yticklabels(ylabels)\n",
    "g.legend(newnames,loc=(4), fontsize=10)\n",
    "#g.get_legend().remove()\n",
    "plt.savefig(\"image/issue_NY.png\", dpi=300, bbox_inches = \"tight\") \n",
    "plt.show()"
   ]
  },
  {
   "cell_type": "markdown",
   "metadata": {},
   "source": [
    "## Red state Idaho"
   ]
  },
  {
   "cell_type": "code",
   "execution_count": null,
   "metadata": {},
   "outputs": [],
   "source": [
    "\n",
    "#Red state info for Idaho \n",
    "ad_id = []\n",
    "stance_p = []\n",
    "text = []\n",
    "fe = []\n",
    "start = []\n",
    "stop = []\n",
    "imp = []\n",
    "spend = []\n",
    "region = []\n",
    "demo = []\n",
    "issue_p = []\n",
    "for j in range (0, predicted_fb_all.shape[0] ):\n",
    "    list_dic = eval(predicted_fb_all['region_distribution'][j])\n",
    "    for i in range (0, len(list_dic)):\n",
    "        dic = list_dic[i]\n",
    "        if dic['region'] == 'Idaho' :\n",
    "            ad_id.append(predicted_fb_all.id[j])\n",
    "            text.append(predicted_fb_all.ad_creative_body[j])\n",
    "            fe.append(predicted_fb_all.funding_entity[j])\n",
    "            start.append(predicted_fb_all.ad_delivery_start_time[j])\n",
    "            stop.append(predicted_fb_all.ad_delivery_stop_time[j])\n",
    "            imp.append(predicted_fb_all.impressions[j])\n",
    "            spend.append(predicted_fb_all.spend[j])\n",
    "            region.append(predicted_fb_all.region_distribution[j])\n",
    "            demo.append(predicted_fb_all.demographic_distribution[j])\n",
    "            stance_p.append(predicted_fb_all.pred_stance[j])\n",
    "            issue_p.append(predicted_fb_all.pred_issue[j])\n",
    "        "
   ]
  },
  {
   "cell_type": "code",
   "execution_count": null,
   "metadata": {},
   "outputs": [],
   "source": [
    "red = pd.DataFrame({'id': ad_id, 'ad_creative_body': text, 'funding_entity': fe, \n",
    "                             'ad_delivery_start_time': start, 'ad_delivery_stop_time' : stop,\n",
    "                             'impressions' : imp, 'spend' : spend, 'region_distribution': region,\n",
    "                             'demographic_distribution': demo, 'pred_stance' : stance_p, 'pred_issue' : issue_p\n",
    "                            }) #8659 ##idaho = 4346"
   ]
  },
  {
   "cell_type": "code",
   "execution_count": null,
   "metadata": {},
   "outputs": [],
   "source": [
    "red "
   ]
  },
  {
   "cell_type": "code",
   "execution_count": null,
   "metadata": {},
   "outputs": [],
   "source": [
    "impression = []\n",
    "\n",
    "for j in range (0, red.shape[0] ):\n",
    "    list_dic = eval(red['region_distribution'][j])\n",
    "    #print(list_dic)\n",
    "    #sys.exit()\n",
    "    for i in range (0, len(list_dic)):\n",
    "        dic = list_dic[i]\n",
    "        if dic['region'] == 'Idaho' :\n",
    "            impression.append(dic['percentage'])\n",
    "#         print(dic)\n",
    "#         sys.exit()\n",
    "        "
   ]
  },
  {
   "cell_type": "code",
   "execution_count": null,
   "metadata": {},
   "outputs": [],
   "source": [
    "red['reg_imp'] = impression\n",
    "red['reg_imp'] =  red['reg_imp'].astype(float)\n",
    "red"
   ]
  },
  {
   "cell_type": "code",
   "execution_count": null,
   "metadata": {},
   "outputs": [],
   "source": [
    "top_red = red.loc[(red['reg_imp'] > 0.1)] #ads having > 10% regional impressions in ID\n",
    "top_red = top_red.reset_index(drop=True)\n",
    "print(top_red)"
   ]
  },
  {
   "cell_type": "code",
   "execution_count": null,
   "metadata": {},
   "outputs": [],
   "source": [
    "#drop \"none\" (-1) issue\n",
    "new_red = top_red[top_red.pred_issue != -1]\n",
    "new_red2 = new_red[new_red.pred_stance != -1]\n",
    "new_red2 = new_red2.reset_index(drop=True)\n",
    "new_red2"
   ]
  },
  {
   "cell_type": "code",
   "execution_count": null,
   "metadata": {},
   "outputs": [],
   "source": [
    "dfc = new_red2.groupby(['pred_issue', 'pred_stance']).agg({'id': 'count'}).unstack()\n",
    "dfc"
   ]
  },
  {
   "cell_type": "code",
   "execution_count": null,
   "metadata": {},
   "outputs": [],
   "source": [
    "g = dfc.plot(kind='barh', figsize=(8,5), width = 0.6, color=['green', 'red', 'orange', 'blue']);\n",
    "plt.title('Issue distribution with stances in ID', fontsize=14);\n",
    "plt.xlabel('#Stances', fontsize=12);\n",
    "plt.ylabel('Issue', fontsize=12);\n",
    "newnames = ['pro-biden', 'pro-trump', 'anti-biden', 'anti-trump']\n",
    "#ylabels = g.get_yticks().tolist()\n",
    "#print(ylabels, type(ylabels[0]))\n",
    "#ylabels[0] = 'abortion'\n",
    "\n",
    "ylabels = ['abortion', 'covid', 'climate', 'law & order', 'economy & taxes', 'education', 'foreign policy', 'guns', 'healthcare', 'immigration', 'supreme court', 'terrorism', 'lgbtq']\n",
    "    \n",
    "g.set_yticklabels(ylabels)\n",
    "g.legend(newnames,loc=(4), fontsize=10)\n",
    "#g.get_legend().remove()\n",
    "plt.savefig(\"image/issue_ID.png\", dpi=300, bbox_inches = \"tight\") \n",
    "plt.show()"
   ]
  },
  {
   "cell_type": "code",
   "execution_count": null,
   "metadata": {},
   "outputs": [],
   "source": [
    "###issue of 6 states\n",
    "#new_df = swing.loc[predicted_fb_all['pred_issue'] == '4'] #economy\n",
    "#new_df = swing.loc[predicted_fb_all['pred_issue'] == '10'] #supreme court"
   ]
  },
  {
   "cell_type": "code",
   "execution_count": null,
   "metadata": {},
   "outputs": [],
   "source": [
    "#df[\"first_column\"]. str. lower()\n",
    "text = \" \".join(review for review in new_df['ad_creative_body'].str.lower())\n",
    "print (\"There are {} words in the combination of all pro-biden ads.\".format(len(text)))"
   ]
  },
  {
   "cell_type": "code",
   "execution_count": null,
   "metadata": {},
   "outputs": [],
   "source": [
    "#get stop words of all languages\n",
    "#STOPWORDS_DICT = {lang: set(nltk.corpus.stopwords.words(lang)) for lang in nltk.corpus.stopwords.fileids()}\n",
    "from nltk.corpus import stopwords\n",
    "stop_words = set(stopwords.words('english')) \n",
    "# # Create stopword list:\n",
    "# stopwords = set(STOPWORDS)\n",
    "# stop_words.update([\"would\",\"get\",\"going\",\"across\",\"held\",\"join\",\"joe\", \"biden\", \"kamala\", \"harris\",\"make\",\"donald\",\"trump\",\"pence\",\"election\",\"have\",\"not\"\n",
    "#                    \"need\",\"know\", \"november\",\"will\",\"be\",\"is\",\"us\",\"now\",\"tommorow\",\"today\",\"yesterday\",\"take\",\"democrats\",\"democrat\",\"republican\", \"republicans\",\n",
    "#                    \"sure\", \"country\",\"state\", \"county\",\"p\",\"tonight\",\"like\",\"ready\",\"time\",\"tell\",\"midnight\",\"year\",\"month\",\"week\",\"day\",\n",
    "#                   \"want\",\"three\",\"please\",\"ever\",\"years\",\"months\",\"days\",\"hour\",\"hours\",\"amount\",\"wants\",\"democratic\",\n",
    "#                    \"show\",\"pm\",\"am\",\"need\",\"let\",\"contribute\",\"use\",\"used\",\"really\",\"think\",\"new\",\"party\",\"name\",\n",
    "#                    ])\n",
    "\n",
    "stop_words.update([\"would\",\"get\",\"going\",\"across\",\"held\",\"join\",\"joe\", \"biden\", \"kamala\", \"harris\",\"make\",\"donald\",\"trump\",\"pence\",\"election\",\"have\",\"not\"\n",
    "                   \"need\",\"know\", \"november\",\"will\",\"be\",\"is\",\"us\",\"now\",\"tommorow\",\"today\",\"yesterday\",\"take\",\"democrats\",\"democrat\",\"republican\", \"republicans\",\n",
    "                   \"sure\", \"country\",\"state\", \"county\",\"p\",\"tonight\",\"like\",\"ready\",\"time\",\"tell\",\"midnight\",\"year\",\"month\",\"week\",\"day\",\n",
    "                  \"want\",\"three\",\"please\",\"ever\",\"years\",\"months\",\"days\",\"hour\",\"hours\",\"amount\",\"wants\",\"democratic\",\n",
    "                   \"show\",\"pm\",\"am\",\"need\",\"let\",\"contribute\",\"use\",\"used\",\"really\",\"think\",\"new\",\"party\",\"name\",\n",
    "                   \"defeat\",\"vote\",\"bernie\",\"sanders\",\"presidential\",\"president\",\"ballot\",\"campaign\",\"see\",\"donation\",\n",
    "                   \"chip\",\"candidate\",\"moven\",\"org\", \"senate\",\"donate\",\"one\",\"people\",\"jill\",\"poll\",\"niece\",\"survey\",\"minutes\",\n",
    "                  \"http\",\"trump2020\",\"coin\",\"https\",\"www\",\"trump2020\",\"biden-harris\",\"trump-pence\",\"biden2020\",\"com\",\"moveon\",\n",
    "                   \"conservatecollections\",'hat','conservatecollection','conservativecollections.','even','give','long','trying'])\n",
    "\n",
    "# Generate a word cloud image\n",
    "wordcloud = WordCloud(stopwords=stop_words, background_color=\"white\").generate(text)\n",
    "\n",
    "# Display the generated image:\n",
    "# the matplotlib way:\n",
    "plt.imshow(wordcloud, interpolation='bilinear')\n",
    "plt.axis(\"off\")\n",
    "plt.show()"
   ]
  },
  {
   "cell_type": "code",
   "execution_count": null,
   "metadata": {},
   "outputs": [],
   "source": [
    "#wordcloud.to_file(\"data/swing_economy_wc.png\")"
   ]
  },
  {
   "cell_type": "markdown",
   "metadata": {},
   "source": [
    "## Descriptive insights of data "
   ]
  },
  {
   "cell_type": "code",
   "execution_count": null,
   "metadata": {
    "scrolled": true
   },
   "outputs": [],
   "source": [
    "###Use groupby() function to form groups based on more than one category (i.e. Use more than one column to perform the splitting).\n",
    "#issue distribution over stance\n",
    "#dfc = predicted_fb_all.groupby(['pred_issue', 'pred_stance']).agg({'id': 'count'})\n",
    "#stance distribution over issue\n",
    "dfc = predicted_fb_all.groupby(['pred_stance', 'pred_issue']).agg({'id': 'count'})\n",
    "dfc"
   ]
  },
  {
   "cell_type": "markdown",
   "metadata": {},
   "source": [
    "## wordcloud for stances"
   ]
  },
  {
   "cell_type": "code",
   "execution_count": null,
   "metadata": {},
   "outputs": [],
   "source": [
    "#new_df = predicted_fb_all.loc[(predicted_fb_all['pred_stance'] == 0)] #pro-biden\n",
    "#new_df = predicted_fb_all.loc[(predicted_fb_all['pred_stance'] == 1)] #pro-trump\n",
    "new_df = predicted_fb_all.loc[(predicted_fb_all['pred_stance'] == 2)] #anti-biden\n",
    "#new_df = predicted_fb_all.loc[(predicted_fb_all['pred_stance'] == 3)] #anti-trump\n",
    "\n"
   ]
  },
  {
   "cell_type": "code",
   "execution_count": null,
   "metadata": {},
   "outputs": [],
   "source": [
    "text = \" \".join(review for review in new_df['ad_creative_body'].str.lower())\n",
    "\n",
    "print (\"There are {} words in the combination ads.\".format(len(text)))"
   ]
  },
  {
   "cell_type": "code",
   "execution_count": null,
   "metadata": {},
   "outputs": [],
   "source": [
    "#!pip install wordcloud\n",
    "from wordcloud import WordCloud \n",
    "from wordcloud import WordCloud, STOPWORDS, ImageColorGenerator\n",
    "\n",
    "#get stop words of all languages\n",
    "#STOPWORDS_DICT = {lang: set(nltk.corpus.stopwords.words(lang)) for lang in nltk.corpus.stopwords.fileids()}\n",
    "from nltk.corpus import stopwords\n",
    "stop_words = set(stopwords.words('english')) \n",
    "# # Create stopword list:\n",
    "# stopwords = set(STOPWORDS)\n",
    "stop_words.update([\"would\",\"get\",\"going\",\"across\",\"held\",\"join\",\"joe\", \"biden\", \"kamala\", \"harris\",\"make\",\"donald\",\"trump\",\"pence\",\"election\",\"have\",\"not\"\n",
    "                   \"need\",\"know\", \"november\",\"will\",\"be\",\"is\",\"us\",\"now\",\"tommorow\",\"today\",\"yesterday\",\"take\",\"democrats\",\"democrat\",\"republican\", \"republicans\",\n",
    "                   \"sure\", \"country\",\"state\", \"county\",\"p\",\"tonight\",\"like\",\"ready\",\"time\",\"tell\",\"midnight\",\"year\",\"month\",\"week\",\"day\",\n",
    "                  \"want\",\"three\",\"please\",\"ever\",\"years\",\"months\",\"days\",\"hour\",\"hours\",\"amount\",\"wants\",\"democratic\",\n",
    "                   \"show\",\"pm\",\"am\",\"need\",\"let\",\"contribute\",\"use\",\"used\",\"really\",\"think\",\"new\",\"party\",\"name\",\n",
    "                   ])\n",
    "\n",
    "# stop_words.update([\"would\",\"get\",\"going\",\"across\",\"held\",\"join\",\"joe\", \"biden\", \"kamala\", \"harris\",\"make\",\"donald\",\"trump\",\"pence\",\"election\",\"have\",\"not\"\n",
    "#                    \"need\",\"know\", \"november\",\"will\",\"be\",\"is\",\"us\",\"now\",\"tommorow\",\"today\",\"yesterday\",\"take\",\"democrats\",\"democrat\",\"republican\", \"republicans\",\n",
    "#                    \"sure\", \"country\",\"state\", \"county\",\"p\",\"tonight\",\"like\",\"ready\",\"time\",\"tell\",\"midnight\",\"year\",\"month\",\"week\",\"day\",\n",
    "#                   \"want\",\"three\",\"please\",\"ever\",\"years\",\"months\",\"days\",\"hour\",\"hours\",\"amount\",\"wants\",\"democratic\",\n",
    "#                    \"show\",\"pm\",\"am\",\"need\",\"let\",\"contribute\",\"use\",\"used\",\"really\",\"think\",\"new\",\"party\",\"name\",\n",
    "#                    \"defeat\",\"vote\",\"bernie\",\"sanders\",\"presidential\",\"president\",\"ballot\",\"campaign\",\"see\",\"donation\",\n",
    "#                    \"chip\",\"candidate\",\"moven\",\"org\", \"senate\",\"donate\",\"one\",\"people\",\"jill\",\"poll\",\"niece\",\"survey\",\"minutes\",\n",
    "#                   \"http\",\"trump2020\",\"coin\",\"https\",\"www\",\"trump2020\",\"biden-harris\",\"trump-pence\",\"biden2020\",\"com\",\"moveon\",\n",
    "#                    \"conservatecollections\",'hat','conservatecollection','conservativecollections.','even','give'])\n",
    "\n",
    "# Generate a word cloud image\n",
    "wordcloud = WordCloud(stopwords=stop_words, background_color=\"white\").generate(text)\n",
    "\n",
    "# Display the generated image:\n",
    "# the matplotlib way:\n",
    "plt.imshow(wordcloud, interpolation='bilinear')\n",
    "plt.axis(\"off\")\n",
    "plt.show()"
   ]
  },
  {
   "cell_type": "code",
   "execution_count": null,
   "metadata": {},
   "outputs": [],
   "source": []
  },
  {
   "cell_type": "markdown",
   "metadata": {},
   "source": [
    "## Demographic analysis for whole data with stance and issue"
   ]
  },
  {
   "cell_type": "code",
   "execution_count": null,
   "metadata": {},
   "outputs": [],
   "source": [
    "avg_imp = []\n",
    "avg_spend = []\n",
    "for j in range (0, predicted_fb_all.shape[0] ):\n",
    "    dic_imp = eval(predicted_fb_all['impressions'][j])\n",
    "    dic_cost = eval(predicted_fb_all['spend'][j])\n",
    "    dic_imp_new = dict([k, float(v)] for k, v in dic_imp.items()) \n",
    "    dic_cost_new = dict([k, float(v)] for k, v in dic_cost.items()) \n",
    "    #print(dic_imp_new) \n",
    "    imp = sum(dic_imp_new.values()) / len(dic_imp_new)\n",
    "    avg_imp.append(imp) # avg of impression\n",
    "    cost = sum(dic_cost_new.values()) / len(dic_cost_new)\n",
    "    avg_spend.append(cost) # avg of spend"
   ]
  },
  {
   "cell_type": "code",
   "execution_count": null,
   "metadata": {},
   "outputs": [],
   "source": [
    "predicted_fb_all['avg_imp'] = avg_imp\n",
    "predicted_fb_all['avg_spend'] = avg_spend\n",
    "predicted_fb_all['date']= pd.to_datetime(predicted_fb_all['ad_delivery_start_time']) #convert string to date-time"
   ]
  },
  {
   "cell_type": "code",
   "execution_count": null,
   "metadata": {},
   "outputs": [],
   "source": [
    "#eval(predicted_fb_all['demographic_distribution'][100]) #list"
   ]
  },
  {
   "cell_type": "code",
   "execution_count": null,
   "metadata": {},
   "outputs": [],
   "source": [
    "#eval(predicted_fb_all['demographic_distribution'][100])[0]"
   ]
  },
  {
   "cell_type": "code",
   "execution_count": null,
   "metadata": {},
   "outputs": [],
   "source": [
    "##### Demographic age\n",
    "# - 13-17\n",
    "#   - 18-24\n",
    "#   - 25-34\n",
    "#   - 35-44\n",
    "#   - 45-54\n",
    "#   - 55-64\n",
    "#   - 65+\n",
    "\n",
    "ad_id = []\n",
    "stance_p = []\n",
    "text = []\n",
    "fe = []\n",
    "age = []\n",
    "issue_p = []\n",
    "imp = []\n",
    "for j in range (0, predicted_fb_all.shape[0] ):\n",
    "    list_dic = eval(predicted_fb_all['demographic_distribution'][j])\n",
    "    for i in range (0, len(list_dic)):\n",
    "        #print(list_dic[i])  \n",
    "        dic = list_dic[i]\n",
    "        #print(dic['age'] )\n",
    "        #sys.exit()\n",
    "        if dic['age'] == '13-17' :\n",
    "            ad_id.append(predicted_fb_all.id[j])\n",
    "            text.append(predicted_fb_all.ad_creative_body[j])\n",
    "            fe.append(predicted_fb_all.funding_entity[j])\n",
    "            imp.append(predicted_fb_all.avg_imp[j])\n",
    "            age.append(dic['age'])\n",
    "            stance_p.append(predicted_fb_all.pred_stance[j])\n",
    "            issue_p.append(predicted_fb_all.pred_issue[j])\n",
    "            \n",
    "        elif dic['age'] == '18-24' :\n",
    "            ad_id.append(predicted_fb_all.id[j])\n",
    "            text.append(predicted_fb_all.ad_creative_body[j])\n",
    "            fe.append(predicted_fb_all.funding_entity[j])\n",
    "            imp.append(predicted_fb_all.avg_imp[j])\n",
    "            age.append(dic['age'])\n",
    "            stance_p.append(predicted_fb_all.pred_stance[j])\n",
    "            issue_p.append(predicted_fb_all.pred_issue[j])\n",
    "            \n",
    "        elif dic['age'] == '25-34' :\n",
    "            ad_id.append(predicted_fb_all.id[j])\n",
    "            text.append(predicted_fb_all.ad_creative_body[j])\n",
    "            fe.append(predicted_fb_all.funding_entity[j])\n",
    "            imp.append(predicted_fb_all.avg_imp[j])\n",
    "            age.append(dic['age'])\n",
    "            stance_p.append(predicted_fb_all.pred_stance[j])\n",
    "            issue_p.append(predicted_fb_all.pred_issue[j])\n",
    "        \n",
    "        elif dic['age'] == '35-44' :\n",
    "            ad_id.append(predicted_fb_all.id[j])\n",
    "            text.append(predicted_fb_all.ad_creative_body[j])\n",
    "            fe.append(predicted_fb_all.funding_entity[j])\n",
    "            imp.append(predicted_fb_all.avg_imp[j])\n",
    "            age.append(dic['age'])\n",
    "            stance_p.append(predicted_fb_all.pred_stance[j])\n",
    "            issue_p.append(predicted_fb_all.pred_issue[j])\n",
    "            \n",
    "        elif dic['age'] == '45-54' :\n",
    "            ad_id.append(predicted_fb_all.id[j])\n",
    "            text.append(predicted_fb_all.ad_creative_body[j])\n",
    "            fe.append(predicted_fb_all.funding_entity[j])\n",
    "            imp.append(predicted_fb_all.avg_imp[j])\n",
    "            age.append(dic['age'])\n",
    "            stance_p.append(predicted_fb_all.pred_stance[j])\n",
    "            issue_p.append(predicted_fb_all.pred_issue[j])\n",
    "        \n",
    "        elif dic['age'] == '55-64' :\n",
    "            ad_id.append(predicted_fb_all.id[j])\n",
    "            text.append(predicted_fb_all.ad_creative_body[j])\n",
    "            fe.append(predicted_fb_all.funding_entity[j])\n",
    "            imp.append(predicted_fb_all.avg_imp[j])\n",
    "            age.append(dic['age'])\n",
    "            stance_p.append(predicted_fb_all.pred_stance[j])\n",
    "            issue_p.append(predicted_fb_all.pred_issue[j])\n",
    "        \n",
    "        elif dic['age'] == '65+' :\n",
    "            ad_id.append(predicted_fb_all.id[j])\n",
    "            text.append(predicted_fb_all.ad_creative_body[j])\n",
    "            fe.append(predicted_fb_all.funding_entity[j])\n",
    "            imp.append(predicted_fb_all.avg_imp[j])\n",
    "            age.append(dic['age'])\n",
    "            stance_p.append(predicted_fb_all.pred_stance[j])\n",
    "            issue_p.append(predicted_fb_all.pred_issue[j])\n",
    "        "
   ]
  },
  {
   "cell_type": "code",
   "execution_count": null,
   "metadata": {},
   "outputs": [],
   "source": [
    "age_df = pd.DataFrame({'id': ad_id, 'ad_creative_body': text, 'funding_entity': fe, \n",
    "                             'age': age, 'avg_imp' : imp, 'pred_stance' : stance_p, 'pred_issue' : issue_p\n",
    "                            }) "
   ]
  },
  {
   "cell_type": "code",
   "execution_count": null,
   "metadata": {},
   "outputs": [],
   "source": [
    "age_df"
   ]
  },
  {
   "cell_type": "code",
   "execution_count": null,
   "metadata": {},
   "outputs": [],
   "source": [
    "# dfc = age_df.groupby(['age', 'pred_stance']).agg({'id': 'count'})\n",
    "dfc = age_df.groupby(['pred_stance', 'age']).agg({'id': 'count'})\n",
    "dfc"
   ]
  },
  {
   "cell_type": "code",
   "execution_count": null,
   "metadata": {},
   "outputs": [],
   "source": [
    "# gender_age_summary=age_df.groupby(['pred_stance','age']).agg(tot_stance=('id','count')).unstack()\n",
    "# gender_age_summary.head()\n",
    "# gender_age_summary.plot(kind='bar', figsize=(10,6), stacked=True);\n",
    "# plt.title('Summary of stances by Gender & Age');\n",
    "# plt.xlabel('Age');\n",
    "# plt.ylabel('#Stances');"
   ]
  },
  {
   "cell_type": "code",
   "execution_count": null,
   "metadata": {},
   "outputs": [],
   "source": [
    "##### Demographic gender\n",
    "# demo_genders:\n",
    "#   - male\n",
    "#   - female\n",
    "#   - unknown\n",
    "\n",
    "# ad_id = []\n",
    "# stance_p = []\n",
    "# text = []\n",
    "# fe = []\n",
    "gender = []\n",
    "# issue_p = []\n",
    "impression = []\n",
    "for j in range (0, predicted_fb_all.shape[0] ):\n",
    "    list_dic = eval(predicted_fb_all['demographic_distribution'][j])\n",
    "    for i in range (0, len(list_dic)):\n",
    "        #print(list_dic[i])  \n",
    "        dic = list_dic[i]\n",
    "        #print(dic['age'] )\n",
    "        #sys.exit()\n",
    "        impression.append(dic['percentage'])\n",
    "        if dic['gender'] == 'male' :\n",
    "#             ad_id.append(predicted_fb_all.id[j])\n",
    "#             text.append(predicted_fb_all.ad_creative_body[j])\n",
    "#             fe.append(predicted_fb_all.funding_entity[j])\n",
    "            gender.append(dic['gender'])\n",
    "\n",
    "#             stance_p.append(predicted_fb_all.pred_stance[j])\n",
    "#             issue_p.append(predicted_fb_all.pred_issue[j])\n",
    "            \n",
    "        elif dic['gender'] == 'female' :\n",
    "#             ad_id.append(predicted_fb_all.id[j])\n",
    "#             text.append(predicted_fb_all.ad_creative_body[j])\n",
    "#             fe.append(predicted_fb_all.funding_entity[j])\n",
    "            gender.append(dic['gender'])\n",
    "#             stance_p.append(predicted_fb_all.pred_stance[j])\n",
    "#             issue_p.append(predicted_fb_all.pred_issue[j])\n",
    "        elif dic['gender'] == 'unknown' :\n",
    "#             ad_id.append(predicted_fb_all.id[j])\n",
    "#             text.append(predicted_fb_all.ad_creative_body[j])\n",
    "#             fe.append(predicted_fb_all.funding_entity[j])\n",
    "            gender.append(dic['gender'])\n",
    "#             stance_p.append(predicted_fb_all.pred_stance[j])\n",
    "#             issue_p.append(predicted_fb_all.pred_issue[j])\n",
    "        "
   ]
  },
  {
   "cell_type": "code",
   "execution_count": null,
   "metadata": {},
   "outputs": [],
   "source": [
    "gender_df = pd.DataFrame({'id': ad_id, 'ad_creative_body': text, 'funding_entity': fe, \n",
    "                             'gender': gender, 'ag_imp':impression, 'pred_stance' : stance_p, 'pred_issue' : issue_p\n",
    "                            }) "
   ]
  },
  {
   "cell_type": "code",
   "execution_count": null,
   "metadata": {},
   "outputs": [],
   "source": [
    "age_df['gender'] = gender\n",
    "age_df['ag_imp'] = impression"
   ]
  },
  {
   "cell_type": "code",
   "execution_count": null,
   "metadata": {},
   "outputs": [],
   "source": [
    "age_df"
   ]
  },
  {
   "cell_type": "markdown",
   "metadata": {},
   "source": [
    "## stance vs demographic"
   ]
  },
  {
   "cell_type": "code",
   "execution_count": null,
   "metadata": {},
   "outputs": [],
   "source": [
    "#drop \"none\" (-1) stance\n",
    "new_age_df = age_df[age_df.pred_stance != -1]"
   ]
  },
  {
   "cell_type": "code",
   "execution_count": null,
   "metadata": {},
   "outputs": [],
   "source": [
    "new_age_df.id.nunique() #852790"
   ]
  },
  {
   "cell_type": "code",
   "execution_count": null,
   "metadata": {},
   "outputs": [],
   "source": [
    "gender_age_summary=new_age_df.groupby(['age', 'gender','pred_stance']).agg(stance=('id','count')).unstack()\n",
    "gender_age_summary.head()\n",
    "g = gender_age_summary.plot(kind='bar', figsize=(10,6), width = 0.5, stacked=True, color=['green', 'red', 'orange', 'blue']);\n",
    "plt.title('Summary of stances by age & gender', fontsize=14);\n",
    "plt.xlabel('Age Group, Gender', fontsize=12);\n",
    "plt.ylabel('#Stances', fontsize=12);\n",
    "plt.xticks(rotation=90)\n",
    "newnames = ['pro-biden', 'pro-trump', 'anti-biden', 'anti-trump']\n",
    "plt.legend(newnames,loc=(1.01,0), fontsize=12)\n",
    "ylabels = ['{}'.format(int(y)) for y in g.get_yticks()/11.76]\n",
    "g.set_yticklabels(ylabels)\n",
    "plt.savefig(\"image/age_gender_stance.png\", dpi=300, bbox_inches = \"tight\") \n",
    "plt.show()\n"
   ]
  },
  {
   "cell_type": "code",
   "execution_count": null,
   "metadata": {},
   "outputs": [],
   "source": [
    "gender_age_summary"
   ]
  },
  {
   "cell_type": "markdown",
   "metadata": {},
   "source": [
    "## issue vs demographic"
   ]
  },
  {
   "cell_type": "code",
   "execution_count": null,
   "metadata": {},
   "outputs": [],
   "source": [
    "#drop \"none\" (-1) issue\n",
    "new_age_df = age_df[age_df.pred_issue != -1]\n",
    "new_age_df = new_age_df.reset_index(drop=True)\n",
    "new_age_df"
   ]
  },
  {
   "cell_type": "code",
   "execution_count": null,
   "metadata": {},
   "outputs": [],
   "source": [
    "gender_age_summary=new_age_df.groupby(['age', 'gender','pred_issue']).agg(stance=('id','count')).unstack()\n",
    "gender_age_summary.head()\n",
    "g = gender_age_summary.plot(kind='bar', figsize=(10,6), width = 0.5, stacked=True, color=['coral', 'green', 'pink', 'blue', '#EDB120', 'cyan', 'brown', 'black', 'lime', 'magenta', 'red', 'gray','purple']);\n",
    "plt.title('Summary of issues by age & gender', fontsize=14);\n",
    "plt.xlabel('Age Group, Gender', fontsize=12);\n",
    "plt.ylabel('#Issues', fontsize=12);\n",
    "plt.xticks(rotation=90)\n",
    "newnames = ['abortion', 'covid', 'climate', 'law & order', 'economy & taxes', 'education', 'foreign policy', 'guns', 'healthcare', 'immigration', 'supreme court', 'terrorism', 'lgbtq']\n",
    "plt.legend(newnames,loc=(1.01,0), fontsize=12)\n",
    "ylabels = ['{}'.format(int(y)) for y in g.get_yticks()/11.76]\n",
    "g.set_yticklabels(ylabels)\n",
    "plt.savefig(\"image/age_gender_issue.png\", dpi=300, bbox_inches = \"tight\") \n",
    "plt.show()"
   ]
  },
  {
   "cell_type": "code",
   "execution_count": null,
   "metadata": {},
   "outputs": [],
   "source": [
    "#gender_age_summary.to_csv(\"data/aba.csv\")"
   ]
  },
  {
   "cell_type": "code",
   "execution_count": null,
   "metadata": {},
   "outputs": [],
   "source": [
    "# dfc = gender_df.groupby(['gender', 'pred_stance']).agg({'id': 'count'})\n",
    "# dfc = gender_df.groupby(['pred_stance', 'gender']).agg({'id': 'count'})\n",
    "# dfc"
   ]
  },
  {
   "cell_type": "markdown",
   "metadata": {},
   "source": [
    "## impression vs demographic\n"
   ]
  },
  {
   "cell_type": "markdown",
   "metadata": {},
   "source": [
    "### check pro-biden, pro-trump, anti-biden, anti-trump stance separately"
   ]
  },
  {
   "cell_type": "code",
   "execution_count": null,
   "metadata": {},
   "outputs": [],
   "source": [
    "#stance_imp_df = age_df.loc[(age_df['pred_stance'] == 0) | (age_df['pred_stance'] == 1) ]\n",
    "stance_imp_df = age_df.loc[(age_df['pred_stance'] == 0)] #pro-biden , 341335\n",
    "#stance_imp_df = age_df.loc[(age_df['pred_stance'] == 1)] #pro-trump , 5517397\n",
    "#stance_imp_df = age_df.loc[(age_df['pred_stance'] == 2)] #anti-biden , 1341884\n",
    "#stance_imp_df = age_df.loc[(age_df['pred_stance'] == 3)] #anti-trump, 2827715, 10028331\n",
    "stance_imp_df = stance_imp_df.reset_index(drop=True)\n",
    "#convert value of specific column of dataframe str to flot \n",
    "stance_imp_df['ag_imp'] =  stance_imp_df['ag_imp'].astype(float)\n",
    "#stance_imp_df[\"ag_imp\"] = 100 * stance_imp_df[\"ag_imp\"]\n",
    "stance_imp_df[\"ag_imp\"] = (stance_imp_df[\"avg_imp\"] * stance_imp_df[\"ag_imp\"])\n",
    "stance_imp_df"
   ]
  },
  {
   "cell_type": "code",
   "execution_count": null,
   "metadata": {},
   "outputs": [],
   "source": [
    "\n",
    "# #group by age, gender based on sum of impression of age gender in pro-biden, anti trump ad\n",
    "imp = stance_imp_df.groupby([ 'age' , 'gender']).agg({'ag_imp': 'sum'}).unstack()\n",
    "print(imp)\n"
   ]
  },
  {
   "cell_type": "code",
   "execution_count": null,
   "metadata": {},
   "outputs": [],
   "source": [
    "stance_imp_df.ag_imp.sum()/1000000 # total impression = 11733.104273 M (11.7 B)\n",
    "# pb = 669 M, pt = 5241 M, ab = 1585, at = 5099"
   ]
  },
  {
   "cell_type": "code",
   "execution_count": null,
   "metadata": {},
   "outputs": [],
   "source": [
    "#imp.plot.barh()\n",
    "g = imp.plot(kind='barh', figsize=(8,5), width = 0.5, color=['blue', 'lime', 'red']);\n",
    "plt.title('Summary of impressions by age & gender', fontsize=14);\n",
    "plt.xlabel('Impressions', fontsize=12);\n",
    "plt.ylabel('Age group', fontsize=12);\n",
    "xlabels = ['{}'.format(x) + 'M' for x in g.get_xticks()/1000000]\n",
    "newnames = ['male', 'female', 'unknown']\n",
    "g.set_xticklabels(xlabels)\n",
    "g.legend(newnames,loc=(4), fontsize=12)\n",
    "#plt.savefig(\"image/age_gender_impression_pro_biden.png\", dpi=300, bbox_inches = \"tight\") \n",
    "#plt.savefig(\"image/age_gender_impression_pro_trump.png\", dpi=300, bbox_inches = \"tight\") \n",
    "#plt.savefig(\"image/age_gender_impression_anti_biden.png\", dpi=300, bbox_inches = \"tight\") \n",
    "#plt.savefig(\"image/age_gender_impression_anti_trump.png\", dpi=300, bbox_inches = \"tight\") \n",
    "plt.show()"
   ]
  },
  {
   "cell_type": "code",
   "execution_count": null,
   "metadata": {},
   "outputs": [],
   "source": [
    "# # ### which funding entity has high impression from demographics\n",
    "# imp = age_df.groupby(['funding_entity'], as_index=False).agg({'ag_imp': 'mean'})\n",
    "# #imp = pb_df.groupby(['funding_entity '], as_index=False).agg({'ag_imp': 'sum'})\n",
    "# imp = age_df.groupby(['funding_entity', 'age', 'gender'], as_index=False).agg({'ag_imp': 'mean'})\n",
    "# print(imp.sort_values(by = 'ag_imp', ascending = False))\n",
    "# print(imp)"
   ]
  },
  {
   "cell_type": "markdown",
   "metadata": {},
   "source": [
    "## State-wise Issue and Demographics"
   ]
  },
  {
   "cell_type": "markdown",
   "metadata": {},
   "source": [
    "### Swing state - PA, age distribution"
   ]
  },
  {
   "cell_type": "code",
   "execution_count": null,
   "metadata": {},
   "outputs": [],
   "source": [
    "# ### age PA\n",
    "\n",
    "# ##### Demographic age\n",
    "# #   - 18-24\n",
    "# #   - 25-34\n",
    "# #   - 35-44\n",
    "# #   - 45-54\n",
    "# #   - 55-64\n",
    "# #   - 65+\n",
    "\n",
    "# ad_id = []\n",
    "# stance_p = []\n",
    "# text = []\n",
    "# fe = []\n",
    "# age = []\n",
    "# issue_p = []\n",
    "\n",
    "# for j in range (0, swing.shape[0] ):\n",
    "#     list_dic = eval(swing['demographic_distribution'][j])\n",
    "#     for i in range (0, len(list_dic)):\n",
    "#         #print(list_dic[i])  \n",
    "#         dic = list_dic[i]\n",
    "#         #print(dic['age'] )\n",
    "#         #sys.exit()\n",
    "#         if dic['age'] == '13-17' :\n",
    "#             ad_id.append(swing.id[j])\n",
    "#             text.append(swing.ad_creative_body[j])\n",
    "#             fe.append(swing.funding_entity[j])\n",
    "#             age.append(dic['age'])\n",
    "#             stance_p.append(swing.pred_stance[j])\n",
    "#             issue_p.append(swing.pred_issue[j])\n",
    "            \n",
    "#         elif dic['age'] == '18-24' :\n",
    "#             ad_id.append(swing.id[j])\n",
    "#             text.append(swing.ad_creative_body[j])\n",
    "#             fe.append(swing.funding_entity[j])\n",
    "#             age.append(dic['age'])\n",
    "#             stance_p.append(swing.pred_stance[j])\n",
    "#             issue_p.append(swing.pred_issue[j])\n",
    "            \n",
    "#         elif dic['age'] == '25-34' :\n",
    "#             ad_id.append(swing.id[j])\n",
    "#             text.append(swing.ad_creative_body[j])\n",
    "#             fe.append(swing.funding_entity[j])\n",
    "#             age.append(dic['age'])\n",
    "#             stance_p.append(swing.pred_stance[j])\n",
    "#             issue_p.append(swing.pred_issue[j])\n",
    "        \n",
    "#         elif dic['age'] == '35-44' :\n",
    "#             ad_id.append(swing.id[j])\n",
    "#             text.append(swing.ad_creative_body[j])\n",
    "#             fe.append(swing.funding_entity[j])\n",
    "#             age.append(dic['age'])\n",
    "#             stance_p.append(swing.pred_stance[j])\n",
    "#             issue_p.append(swing.pred_issue[j])\n",
    "            \n",
    "            \n",
    "#         elif dic['age'] == '45-54' :\n",
    "#             ad_id.append(swing.id[j])\n",
    "#             text.append(swing.ad_creative_body[j])\n",
    "#             fe.append(swing.funding_entity[j])\n",
    "#             age.append(dic['age'])\n",
    "#             stance_p.append(swing.pred_stance[j])\n",
    "#             issue_p.append(swing.pred_issue[j])\n",
    "            \n",
    "        \n",
    "#         elif dic['age'] == '55-64' :\n",
    "#             ad_id.append(swing.id[j])\n",
    "#             text.append(swing.ad_creative_body[j])\n",
    "#             fe.append(swing.funding_entity[j])\n",
    "#             age.append(dic['age'])\n",
    "#             stance_p.append(swing.pred_stance[j])\n",
    "#             issue_p.append(swing.pred_issue[j])\n",
    "            \n",
    "        \n",
    "#         elif dic['age'] == '65+' :\n",
    "#             ad_id.append(swing.id[j])\n",
    "#             text.append(swing.ad_creative_body[j])\n",
    "#             fe.append(swing.funding_entity[j])\n",
    "#             age.append(dic['age'])\n",
    "#             stance_p.append(swing.pred_stance[j])\n",
    "#             issue_p.append(swing.pred_issue[j])\n",
    "            \n",
    "        "
   ]
  },
  {
   "cell_type": "code",
   "execution_count": null,
   "metadata": {},
   "outputs": [],
   "source": [
    "\n",
    "### age PA\n",
    "\n",
    "##### Demographic age\n",
    "#   - 18-24\n",
    "#   - 25-34\n",
    "#   - 35-44\n",
    "#   - 45-54\n",
    "#   - 55-64\n",
    "#   - 65+\n",
    "\n",
    "ad_id = []\n",
    "stance_p = []\n",
    "text = []\n",
    "fe = []\n",
    "age = []\n",
    "issue_p = []\n",
    "\n",
    "for j in range (0, top_swing.shape[0] ):\n",
    "    list_dic = eval(top_swing['demographic_distribution'][j])\n",
    "    for i in range (0, len(list_dic)):\n",
    "        #print(list_dic[i])  \n",
    "        dic = list_dic[i]\n",
    "        #print(dic['age'] )\n",
    "        #sys.exit()\n",
    "        if dic['age'] == '13-17' :\n",
    "            ad_id.append(top_swing.id[j])\n",
    "            text.append(top_swing.ad_creative_body[j])\n",
    "            fe.append(top_swing.funding_entity[j])\n",
    "            age.append(dic['age'])\n",
    "            stance_p.append(top_swing.pred_stance[j])\n",
    "            issue_p.append(top_swing.pred_issue[j])\n",
    "            \n",
    "        elif dic['age'] == '18-24' :\n",
    "            ad_id.append(top_swing.id[j])\n",
    "            text.append(top_swing.ad_creative_body[j])\n",
    "            fe.append(top_swing.funding_entity[j])\n",
    "            age.append(dic['age'])\n",
    "            stance_p.append(top_swing.pred_stance[j])\n",
    "            issue_p.append(top_swing.pred_issue[j])\n",
    "            \n",
    "        elif dic['age'] == '25-34' :\n",
    "            ad_id.append(top_swing.id[j])\n",
    "            text.append(top_swing.ad_creative_body[j])\n",
    "            fe.append(top_swing.funding_entity[j])\n",
    "            age.append(dic['age'])\n",
    "            stance_p.append(top_swing.pred_stance[j])\n",
    "            issue_p.append(top_swing.pred_issue[j])\n",
    "        \n",
    "        elif dic['age'] == '35-44' :\n",
    "            ad_id.append(top_swing.id[j])\n",
    "            text.append(top_swing.ad_creative_body[j])\n",
    "            fe.append(top_swing.funding_entity[j])\n",
    "            age.append(dic['age'])\n",
    "            stance_p.append(top_swing.pred_stance[j])\n",
    "            issue_p.append(top_swing.pred_issue[j])\n",
    "            \n",
    "        elif dic['age'] == '45-54' :\n",
    "            ad_id.append(top_swing.id[j])\n",
    "            text.append(top_swing.ad_creative_body[j])\n",
    "            fe.append(top_swing.funding_entity[j])\n",
    "            age.append(dic['age'])\n",
    "            stance_p.append(top_swing.pred_stance[j])\n",
    "            issue_p.append(top_swing.pred_issue[j])\n",
    "        \n",
    "        elif dic['age'] == '55-64' :\n",
    "            ad_id.append(top_swing.id[j])\n",
    "            text.append(top_swing.ad_creative_body[j])\n",
    "            fe.append(top_swing.funding_entity[j])\n",
    "            age.append(dic['age'])\n",
    "            stance_p.append(top_swing.pred_stance[j])\n",
    "            issue_p.append(top_swing.pred_issue[j])\n",
    "            \n",
    "        \n",
    "        elif dic['age'] == '65+' :\n",
    "            ad_id.append(top_swing.id[j])\n",
    "            text.append(top_swing.ad_creative_body[j])\n",
    "            fe.append(top_swing.funding_entity[j])\n",
    "            age.append(dic['age'])\n",
    "            stance_p.append(top_swing.pred_stance[j])\n",
    "            issue_p.append(top_swing.pred_issue[j])\n",
    "            \n",
    "        "
   ]
  },
  {
   "cell_type": "code",
   "execution_count": null,
   "metadata": {},
   "outputs": [],
   "source": [
    "age_swing = pd.DataFrame({'id': ad_id, 'ad_creative_body': text, 'funding_entity': fe, \n",
    "                             'age_distribution': age, 'pred_stance' : stance_p, 'pred_issue' : issue_p\n",
    "                            }) "
   ]
  },
  {
   "cell_type": "code",
   "execution_count": null,
   "metadata": {},
   "outputs": [],
   "source": [
    "new_age_swing = age_swing[age_swing.pred_stance != -1]\n",
    "new_age_swing = new_age_swing.reset_index(drop=True)\n",
    "new_age_swing"
   ]
  },
  {
   "cell_type": "code",
   "execution_count": null,
   "metadata": {},
   "outputs": [],
   "source": [
    "dfc = new_age_swing.groupby(['age_distribution', 'pred_stance']).agg({'id': 'count'}).unstack()\n",
    "dfc"
   ]
  },
  {
   "cell_type": "code",
   "execution_count": null,
   "metadata": {},
   "outputs": [],
   "source": [
    "new_age_swing.id.nunique() #102439"
   ]
  },
  {
   "cell_type": "code",
   "execution_count": null,
   "metadata": {},
   "outputs": [],
   "source": [
    "g = dfc.plot(kind='barh', figsize=(8,5), width = 0.5, color=['green', 'red', 'orange', 'blue']);\n",
    "plt.title('Age distribution with stances in PA', fontsize=14);\n",
    "plt.xlabel('#Stances', fontsize=12);\n",
    "plt.ylabel('Age Group', fontsize=12);\n",
    "newnames = ['pro-biden', 'pro-trump', 'anti-biden', 'anti-trump']\n",
    "#xlabels = ['{}'.format(x) + 'K' for x in g.get_xticks()/1000]\n",
    "xlabels = ['{}'.format(int(x)) for x in g.get_xticks()/11.5]\n",
    "g.set_xticklabels(xlabels)\n",
    "g.legend(newnames,loc=(4), fontsize=9)\n",
    "#g.get_legend().remove()\n",
    "plt.savefig(\"image/age_PA.png\", dpi=300, bbox_inches = \"tight\") \n",
    "plt.show()"
   ]
  },
  {
   "cell_type": "markdown",
   "metadata": {},
   "source": [
    "### Blue state - NY, age distribution"
   ]
  },
  {
   "cell_type": "code",
   "execution_count": null,
   "metadata": {},
   "outputs": [],
   "source": [
    "### age NY\n",
    "\n",
    "##### Demographic age\n",
    "#   - 18-24\n",
    "#   - 25-34\n",
    "#   - 35-44\n",
    "#   - 45-54\n",
    "#   - 55-64\n",
    "#   - 65+\n",
    "\n",
    "ad_id = []\n",
    "stance_p = []\n",
    "text = []\n",
    "fe = []\n",
    "age = []\n",
    "issue_p = []\n",
    "\n",
    "for j in range (0, top_blue.shape[0] ):\n",
    "    list_dic = eval(top_blue['demographic_distribution'][j])\n",
    "    for i in range (0, len(list_dic)):\n",
    "        #print(list_dic[i])  \n",
    "        dic = list_dic[i]\n",
    "        #print(dic['age'] )\n",
    "        #sys.exit()\n",
    "        if dic['age'] == '13-17' :\n",
    "            ad_id.append(top_blue.id[j])\n",
    "            text.append(top_blue.ad_creative_body[j])\n",
    "            fe.append(top_blue.funding_entity[j])\n",
    "            age.append(dic['age'])\n",
    "            stance_p.append(top_blue.pred_stance[j])\n",
    "            issue_p.append(top_blue.pred_issue[j])\n",
    "            \n",
    "        elif dic['age'] == '18-24' :\n",
    "            ad_id.append(top_blue.id[j])\n",
    "            text.append(top_blue.ad_creative_body[j])\n",
    "            fe.append(top_blue.funding_entity[j])\n",
    "            age.append(dic['age'])\n",
    "            stance_p.append(top_blue.pred_stance[j])\n",
    "            issue_p.append(top_blue.pred_issue[j])\n",
    "            \n",
    "        elif dic['age'] == '25-34' :\n",
    "            ad_id.append(top_blue.id[j])\n",
    "            text.append(top_blue.ad_creative_body[j])\n",
    "            fe.append(top_blue.funding_entity[j])\n",
    "            age.append(dic['age'])\n",
    "            stance_p.append(top_blue.pred_stance[j])\n",
    "            issue_p.append(top_blue.pred_issue[j])\n",
    "            \n",
    "        \n",
    "        elif dic['age'] == '35-44' :\n",
    "            ad_id.append(top_blue.id[j])\n",
    "            text.append(top_blue.ad_creative_body[j])\n",
    "            fe.append(top_blue.funding_entity[j])\n",
    "            age.append(dic['age'])\n",
    "            stance_p.append(top_blue.pred_stance[j])\n",
    "            issue_p.append(top_blue.pred_issue[j])\n",
    "            \n",
    "            \n",
    "        elif dic['age'] == '45-54' :\n",
    "            ad_id.append(top_blue.id[j])\n",
    "            text.append(top_blue.ad_creative_body[j])\n",
    "            fe.append(top_blue.funding_entity[j])\n",
    "            age.append(dic['age'])\n",
    "            stance_p.append(top_blue.pred_stance[j])\n",
    "            issue_p.append(top_blue.pred_issue[j])\n",
    "            \n",
    "        \n",
    "        elif dic['age'] == '55-64' :\n",
    "            ad_id.append(top_blue.id[j])\n",
    "            text.append(top_blue.ad_creative_body[j])\n",
    "            fe.append(top_blue.funding_entity[j])\n",
    "            age.append(dic['age'])\n",
    "            stance_p.append(top_blue.pred_stance[j])\n",
    "            issue_p.append(top_blue.pred_issue[j])\n",
    "            \n",
    "        \n",
    "        elif dic['age'] == '65+' :\n",
    "            ad_id.append(top_blue.id[j])\n",
    "            text.append(top_blue.ad_creative_body[j])\n",
    "            fe.append(top_blue.funding_entity[j])\n",
    "            age.append(dic['age'])\n",
    "            stance_p.append(top_blue.pred_stance[j])\n",
    "            issue_p.append(top_blue.pred_issue[j])\n",
    "            \n",
    "        "
   ]
  },
  {
   "cell_type": "code",
   "execution_count": null,
   "metadata": {},
   "outputs": [],
   "source": [
    "age_blue = pd.DataFrame({'id': ad_id, 'ad_creative_body': text, 'funding_entity': fe, \n",
    "                             'age_distribution': age, 'pred_stance' : stance_p, 'pred_issue' : issue_p\n",
    "                            }) "
   ]
  },
  {
   "cell_type": "code",
   "execution_count": null,
   "metadata": {},
   "outputs": [],
   "source": [
    "new_age_blue = age_blue[age_blue.pred_stance != -1]\n",
    "new_age_blue = new_age_blue.reset_index(drop=True)\n",
    "new_age_blue"
   ]
  },
  {
   "cell_type": "code",
   "execution_count": null,
   "metadata": {},
   "outputs": [],
   "source": [
    "dfc = new_age_blue.groupby(['age_distribution', 'pred_stance']).agg({'id': 'count'}).unstack()\n",
    "dfc"
   ]
  },
  {
   "cell_type": "code",
   "execution_count": null,
   "metadata": {},
   "outputs": [],
   "source": [
    "new_age_blue.id.nunique() #44586"
   ]
  },
  {
   "cell_type": "code",
   "execution_count": null,
   "metadata": {},
   "outputs": [],
   "source": [
    "g = dfc.plot(kind='barh', figsize=(8,5), width = 0.5, color=['green', 'red', 'orange', 'blue']);\n",
    "plt.title('Age distribution with stances in NY', fontsize=14);\n",
    "plt.xlabel('#Stances', fontsize=12);\n",
    "plt.ylabel('Age Group', fontsize=12);\n",
    "newnames = ['pro-biden', 'pro-trump', 'anti-biden', 'anti-trump']\n",
    "# xlabels = ['{}'.format(x) + 'K' for x in g.get_xticks()/1000]\n",
    "xlabels = ['{}'.format(int(x)) for x in g.get_xticks()/10.9]\n",
    "g.set_xticklabels(xlabels)\n",
    "g.legend(newnames,loc=(4), fontsize=10)\n",
    "#g.get_legend().remove()\n",
    "plt.savefig(\"image/age_NY.png\", dpi=300, bbox_inches = \"tight\") \n",
    "plt.show()"
   ]
  },
  {
   "cell_type": "markdown",
   "metadata": {},
   "source": [
    "### Red state - ID, age distribution"
   ]
  },
  {
   "cell_type": "code",
   "execution_count": null,
   "metadata": {},
   "outputs": [],
   "source": [
    "### age Idaho\n",
    "\n",
    "##### Demographic age\n",
    "# - 13-17\n",
    "#   - 18-24\n",
    "#   - 25-34\n",
    "#   - 35-44\n",
    "#   - 45-54\n",
    "#   - 55-64\n",
    "#   - 65+\n",
    "\n",
    "ad_id = []\n",
    "stance_p = []\n",
    "text = []\n",
    "fe = []\n",
    "age = []\n",
    "issue_p = []\n",
    "\n",
    "for j in range (0, top_red.shape[0] ):\n",
    "    list_dic = eval(top_red['demographic_distribution'][j])\n",
    "    for i in range (0, len(list_dic)):\n",
    "        #print(list_dic[i])  \n",
    "        dic = list_dic[i]\n",
    "        #print(dic['age'] )\n",
    "        #sys.exit()\n",
    "        \n",
    "        if dic['age'] == '13-17' :\n",
    "            ad_id.append(top_red.id[j])\n",
    "            text.append(top_red.ad_creative_body[j])\n",
    "            fe.append(top_red.funding_entity[j])\n",
    "            age.append(dic['age'])\n",
    "            stance_p.append(top_red.pred_stance[j])\n",
    "            issue_p.append(top_red.pred_issue[j])\n",
    "        elif dic['age'] == '18-24' :\n",
    "            ad_id.append(top_red.id[j])\n",
    "            text.append(top_red.ad_creative_body[j])\n",
    "            fe.append(top_red.funding_entity[j])\n",
    "            age.append(dic['age'])\n",
    "            stance_p.append(top_red.pred_stance[j])\n",
    "            issue_p.append(top_red.pred_issue[j])\n",
    "            \n",
    "        elif dic['age'] == '25-34' :\n",
    "            ad_id.append(top_red.id[j])\n",
    "            text.append(top_red.ad_creative_body[j])\n",
    "            fe.append(top_red.funding_entity[j])\n",
    "            age.append(dic['age'])\n",
    "            stance_p.append(top_red.pred_stance[j])\n",
    "            issue_p.append(top_red.pred_issue[j])\n",
    "        \n",
    "        elif dic['age'] == '35-44' :\n",
    "            ad_id.append(top_red.id[j])\n",
    "            text.append(top_red.ad_creative_body[j])\n",
    "            fe.append(top_red.funding_entity[j])\n",
    "            age.append(dic['age'])\n",
    "            stance_p.append(top_red.pred_stance[j])\n",
    "            issue_p.append(top_red.pred_issue[j])\n",
    "            \n",
    "        elif dic['age'] == '45-54' :\n",
    "            ad_id.append(top_red.id[j])\n",
    "            text.append(top_red.ad_creative_body[j])\n",
    "            fe.append(top_red.funding_entity[j])\n",
    "            age.append(dic['age'])\n",
    "            stance_p.append(top_red.pred_stance[j])\n",
    "            issue_p.append(top_red.pred_issue[j])\n",
    "        \n",
    "        elif dic['age'] == '55-64' :\n",
    "            ad_id.append(top_red.id[j])\n",
    "            text.append(top_red.ad_creative_body[j])\n",
    "            fe.append(top_red.funding_entity[j])\n",
    "            age.append(dic['age'])\n",
    "            stance_p.append(top_red.pred_stance[j])\n",
    "            issue_p.append(top_red.pred_issue[j])\n",
    "        \n",
    "        elif dic['age'] == '65+' :\n",
    "            ad_id.append(top_red.id[j])\n",
    "            text.append(top_red.ad_creative_body[j])\n",
    "            fe.append(top_red.funding_entity[j])\n",
    "            age.append(dic['age'])\n",
    "            stance_p.append(top_red.pred_stance[j])\n",
    "            issue_p.append(top_red.pred_issue[j])\n",
    "        "
   ]
  },
  {
   "cell_type": "code",
   "execution_count": null,
   "metadata": {},
   "outputs": [],
   "source": [
    "age_red = pd.DataFrame({'id': ad_id, 'ad_creative_body': text, 'funding_entity': fe, \n",
    "                             'age_distribution': age, 'pred_stance' : stance_p, 'pred_issue' : issue_p\n",
    "                            }) "
   ]
  },
  {
   "cell_type": "code",
   "execution_count": null,
   "metadata": {},
   "outputs": [],
   "source": [
    "new_age_red = age_red[age_red.pred_stance != -1]\n",
    "new_age_red = new_age_red.reset_index(drop=True)\n",
    "new_age_red"
   ]
  },
  {
   "cell_type": "code",
   "execution_count": null,
   "metadata": {},
   "outputs": [],
   "source": [
    "dfc = new_age_red.groupby(['age_distribution', 'pred_stance']).agg({'id': 'count'}).unstack()\n",
    "dfc\n",
    "\n",
    "# # #group by age, gender based on sum of impression of age gender in pro-biden, anti trump ad\n",
    "# imp = stance_imp_df.groupby([ 'age' , 'gender']).agg({'ag_imp': 'sum'}).unstack()\n",
    "# print(imp)"
   ]
  },
  {
   "cell_type": "code",
   "execution_count": null,
   "metadata": {},
   "outputs": [],
   "source": [
    "new_age_red.id.nunique() #1406"
   ]
  },
  {
   "cell_type": "code",
   "execution_count": null,
   "metadata": {},
   "outputs": [],
   "source": [
    "g = dfc.plot(kind='barh', figsize=(8,5), width = 0.5, color=['green', 'red', 'orange', 'blue']);\n",
    "plt.title('Age distribution with stances in ID', fontsize=14);\n",
    "plt.xlabel('#Stances', fontsize=12);\n",
    "plt.ylabel('Age Group', fontsize=12);\n",
    "newnames = ['pro-biden', 'pro-trump', 'anti-biden', 'anti-trump']\n",
    "#xlabels = ['{}'.format(x) + 'K' for x in g.get_xticks()/1000]\n",
    "xlabels = ['{}'.format(int(x)) for x in g.get_xticks()/4.9]\n",
    "g.set_xticklabels(xlabels)\n",
    "g.legend(newnames,loc=(4), fontsize=10)\n",
    "#g.get_legend().remove()\n",
    "plt.savefig(\"image/age_ID.png\", dpi=300, bbox_inches = \"tight\") \n",
    "plt.show()"
   ]
  },
  {
   "cell_type": "markdown",
   "metadata": {},
   "source": [
    "### Swing state - PA, gender distribution"
   ]
  },
  {
   "cell_type": "code",
   "execution_count": null,
   "metadata": {},
   "outputs": [],
   "source": [
    "##### Demographic gender #PA\n",
    "# demo_genders:\n",
    "#   - male\n",
    "#   - female\n",
    "#   - unknown\n",
    "\n",
    "ad_id = []\n",
    "stance_p = []\n",
    "text = []\n",
    "fe = []\n",
    "gender = []\n",
    "issue_p = []\n",
    "\n",
    "for j in range (0, top_swing.shape[0] ):\n",
    "    list_dic = eval(top_swing['demographic_distribution'][j])\n",
    "    for i in range (0, len(list_dic)):\n",
    "        #print(list_dic[i])  \n",
    "        dic = list_dic[i]\n",
    "        #print(dic['age'] )\n",
    "        #sys.exit()\n",
    "        \n",
    "        if dic['gender'] == 'male' :\n",
    "            ad_id.append(top_swing.id[j])\n",
    "            text.append(top_swing.ad_creative_body[j])\n",
    "            fe.append(top_swing.funding_entity[j])\n",
    "            gender.append(dic['gender'])\n",
    "            stance_p.append(top_swing.pred_stance[j])\n",
    "            issue_p.append(top_swing.pred_issue[j])\n",
    "            \n",
    "        elif dic['gender'] == 'female' :\n",
    "            ad_id.append(top_swing.id[j])\n",
    "            text.append(top_swing.ad_creative_body[j])\n",
    "            fe.append(top_swing.funding_entity[j])\n",
    "            gender.append(dic['gender'])\n",
    "            stance_p.append(top_swing.pred_stance[j])\n",
    "            issue_p.append(top_swing.pred_issue[j])\n",
    "            \n",
    "        elif dic['gender'] == 'unknown' :\n",
    "            ad_id.append(top_swing.id[j])\n",
    "            text.append(top_swing.ad_creative_body[j])\n",
    "            fe.append(top_swing.funding_entity[j])\n",
    "            gender.append(dic['gender'])\n",
    "            stance_p.append(top_swing.pred_stance[j])\n",
    "            issue_p.append(top_swing.pred_issue[j])\n",
    "        "
   ]
  },
  {
   "cell_type": "code",
   "execution_count": null,
   "metadata": {},
   "outputs": [],
   "source": [
    "swing_gender = pd.DataFrame({'id': ad_id, 'ad_creative_body': text, 'funding_entity': fe, \n",
    "                             'gender_distribution': gender, 'pred_stance' : stance_p, 'pred_issue' : issue_p\n",
    "                            }) "
   ]
  },
  {
   "cell_type": "code",
   "execution_count": null,
   "metadata": {},
   "outputs": [],
   "source": [
    "new_swing_gender = swing_gender[swing_gender.pred_stance != -1]\n",
    "new_swing_gender = new_swing_gender.reset_index(drop=True)\n",
    "new_swing_gender"
   ]
  },
  {
   "cell_type": "code",
   "execution_count": null,
   "metadata": {},
   "outputs": [],
   "source": [
    "dfc = new_swing_gender.groupby(['gender_distribution', 'pred_stance']).agg({'id': 'count'}).unstack()\n",
    "dfc"
   ]
  },
  {
   "cell_type": "code",
   "execution_count": null,
   "metadata": {},
   "outputs": [],
   "source": [
    "new_swing_gender.id.nunique() #102439"
   ]
  },
  {
   "cell_type": "code",
   "execution_count": null,
   "metadata": {},
   "outputs": [],
   "source": [
    "g = dfc.plot(kind='barh', figsize=(8,5), width = 0.5, color=['green', 'red', 'orange', 'blue']);\n",
    "plt.title('Gender distribution with stances in PA', fontsize=14);\n",
    "plt.xlabel('#Stances', fontsize=12);\n",
    "plt.ylabel('Gender', fontsize=12);\n",
    "newnames = ['pro-biden', 'pro-trump', 'anti-biden', 'anti-trump']\n",
    "#xlabels = ['{}'.format(x) + 'K' for x in g.get_xticks()/1000]\n",
    "xlabels = ['{}'.format(int(x)) for x in g.get_xticks()/11.5]\n",
    "g.set_xticklabels(xlabels)\n",
    "g.legend(newnames,loc=(1), fontsize=10)\n",
    "#g.get_legend().remove()\n",
    "plt.savefig(\"image/gen_PA.png\", dpi=300, bbox_inches = \"tight\") \n",
    "plt.show()"
   ]
  },
  {
   "cell_type": "code",
   "execution_count": null,
   "metadata": {},
   "outputs": [],
   "source": []
  },
  {
   "cell_type": "code",
   "execution_count": null,
   "metadata": {},
   "outputs": [],
   "source": []
  },
  {
   "cell_type": "code",
   "execution_count": null,
   "metadata": {},
   "outputs": [],
   "source": [
    "#age_swing  swing_gender"
   ]
  },
  {
   "cell_type": "code",
   "execution_count": null,
   "metadata": {},
   "outputs": [],
   "source": [
    "age_swing['gender'] = gender\n"
   ]
  },
  {
   "cell_type": "code",
   "execution_count": null,
   "metadata": {},
   "outputs": [],
   "source": [
    "age_swing"
   ]
  },
  {
   "cell_type": "code",
   "execution_count": null,
   "metadata": {},
   "outputs": [],
   "source": [
    "st1 = age_swing[age_swing.pred_stance != -1]\n",
    "st2 = st1[st1.pred_issue != -1]\n",
    "st2 = st2.reset_index(drop=True)\n",
    "st2"
   ]
  },
  {
   "cell_type": "code",
   "execution_count": null,
   "metadata": {},
   "outputs": [],
   "source": [
    "st2.id.nunique() #424895"
   ]
  },
  {
   "cell_type": "code",
   "execution_count": null,
   "metadata": {},
   "outputs": [],
   "source": [
    "st=st2.groupby(['age_distribution', 'gender','pred_stance']).agg(stance=('id','count')).unstack()\n",
    "st.head()\n",
    "g = st.plot(kind='bar', figsize=(10,6), width = 0.5, stacked=True, color=['green', 'red', 'orange', 'blue']);\n",
    "plt.title('Summary of stances by age & gender in PA', fontsize=14);\n",
    "plt.xlabel('Age Group, Gender', fontsize=12);\n",
    "plt.ylabel('#Stances', fontsize=12);\n",
    "plt.xticks(rotation=90)\n",
    "newnames = ['pro-biden', 'pro-trump', 'anti-biden', 'anti-trump']\n",
    "plt.legend(newnames,loc=(1.01,0), fontsize=12)\n",
    "#plt.savefig(\"image/age_gender_stance.png\", dpi=300, bbox_inches = \"tight\") \n",
    "ylabels = ['{}'.format(int(y)) for y in g.get_yticks()/14.4]\n",
    "g.set_yticklabels(ylabels)\n",
    "plt.savefig(\"image/PA_age_gender_stance.png\", dpi=300, bbox_inches = \"tight\") \n",
    "plt.show()"
   ]
  },
  {
   "cell_type": "code",
   "execution_count": null,
   "metadata": {},
   "outputs": [],
   "source": [
    "st=st2.groupby(['age_distribution', 'gender','pred_issue']).agg(stance=('id','count')).unstack()\n",
    "st.head()\n",
    "g = st.plot(kind='bar', figsize=(10,6), width = 0.5, stacked=True, color=['coral', 'green', 'pink', 'blue', '#EDB120', 'cyan', 'brown', 'black', 'lime', 'magenta', 'red', 'gray','purple']);\n",
    "plt.title('Summary of issues by age & gender in PA', fontsize=14);\n",
    "plt.xlabel('Age Group, Gender', fontsize=12);\n",
    "plt.ylabel('#Issues', fontsize=12);\n",
    "plt.xticks(rotation=90)\n",
    "newnames = ['abortion', 'covid', 'climate', 'law & order', 'economy & taxes', 'education', 'foreign policy', 'guns', 'healthcare', 'immigration', 'supreme court', 'terrorism', 'lgbtq']\n",
    "plt.legend(newnames,loc=(1.01,0), fontsize=12)\n",
    "ylabels = ['{}'.format(int(y)) for y in g.get_yticks()/14.4]\n",
    "g.set_yticklabels(ylabels)\n",
    "plt.savefig(\"image/cor_PA_age_gender_issue.png\", dpi=300, bbox_inches = \"tight\") \n",
    "plt.show()"
   ]
  },
  {
   "cell_type": "code",
   "execution_count": null,
   "metadata": {},
   "outputs": [],
   "source": []
  },
  {
   "cell_type": "code",
   "execution_count": null,
   "metadata": {},
   "outputs": [],
   "source": []
  },
  {
   "cell_type": "code",
   "execution_count": null,
   "metadata": {},
   "outputs": [],
   "source": []
  },
  {
   "cell_type": "markdown",
   "metadata": {},
   "source": [
    "### Blue state - NY, gender distribution"
   ]
  },
  {
   "cell_type": "code",
   "execution_count": null,
   "metadata": {},
   "outputs": [],
   "source": [
    "##### Demographic gender #NY\n",
    "# demo_genders:\n",
    "#   - male\n",
    "#   - female\n",
    "#   - unknown\n",
    "\n",
    "ad_id = []\n",
    "stance_p = []\n",
    "text = []\n",
    "fe = []\n",
    "gender = []\n",
    "issue_p = []\n",
    "\n",
    "for j in range (0, top_blue.shape[0] ):\n",
    "    list_dic = eval(top_blue['demographic_distribution'][j])\n",
    "    for i in range (0, len(list_dic)):\n",
    "        #print(list_dic[i])  \n",
    "        dic = list_dic[i]\n",
    "        #print(dic['age'] )\n",
    "        #sys.exit()\n",
    "        \n",
    "        if dic['gender'] == 'male' :\n",
    "            ad_id.append(top_blue.id[j])\n",
    "            text.append(top_blue.ad_creative_body[j])\n",
    "            fe.append(top_blue.funding_entity[j])\n",
    "            gender.append(dic['gender'])\n",
    "            stance_p.append(top_blue.pred_stance[j])\n",
    "            issue_p.append(top_blue.pred_issue[j])\n",
    "            \n",
    "        elif dic['gender'] == 'female' :\n",
    "            ad_id.append(top_blue.id[j])\n",
    "            text.append(top_blue.ad_creative_body[j])\n",
    "            fe.append(top_blue.funding_entity[j])\n",
    "            gender.append(dic['gender'])\n",
    "            stance_p.append(top_blue.pred_stance[j])\n",
    "            issue_p.append(top_blue.pred_issue[j])\n",
    "            \n",
    "        elif dic['gender'] == 'unknown' :\n",
    "            ad_id.append(top_blue.id[j])\n",
    "            text.append(top_blue.ad_creative_body[j])\n",
    "            fe.append(top_blue.funding_entity[j])\n",
    "            gender.append(dic['gender'])\n",
    "            stance_p.append(top_blue.pred_stance[j])\n",
    "            issue_p.append(top_blue.pred_issue[j])\n",
    "        "
   ]
  },
  {
   "cell_type": "code",
   "execution_count": null,
   "metadata": {},
   "outputs": [],
   "source": [
    "blue_gender = pd.DataFrame({'id': ad_id, 'ad_creative_body': text, 'funding_entity': fe, \n",
    "                             'gender_distribution': gender, 'pred_stance' : stance_p, 'pred_issue' : issue_p\n",
    "                            }) "
   ]
  },
  {
   "cell_type": "code",
   "execution_count": null,
   "metadata": {},
   "outputs": [],
   "source": [
    "new_blue_gender = blue_gender[blue_gender.pred_stance != -1]\n",
    "new_blue_gender = new_blue_gender.reset_index(drop=True)\n",
    "new_blue_gender"
   ]
  },
  {
   "cell_type": "code",
   "execution_count": null,
   "metadata": {},
   "outputs": [],
   "source": [
    "dfc = new_blue_gender.groupby(['gender_distribution', 'pred_stance']).agg({'id': 'count'}).unstack()\n",
    "dfc"
   ]
  },
  {
   "cell_type": "code",
   "execution_count": null,
   "metadata": {},
   "outputs": [],
   "source": [
    "new_blue_gender.id.nunique() #44586"
   ]
  },
  {
   "cell_type": "code",
   "execution_count": null,
   "metadata": {},
   "outputs": [],
   "source": [
    "g = dfc.plot(kind='barh', figsize=(8,5), width = 0.5, color=['green', 'red', 'orange', 'blue']);\n",
    "plt.title('Gender distribution with stances in NY', fontsize=14);\n",
    "plt.xlabel('#Stances', fontsize=12);\n",
    "plt.ylabel('Gender', fontsize=12);\n",
    "newnames = ['pro-biden', 'pro-trump', 'anti-biden', 'anti-trump']\n",
    "#xlabels = ['{}'.format(x) + 'K' for x in g.get_xticks()/1000]\n",
    "xlabels = ['{}'.format(int(x)) for x in g.get_xticks()/10.9]\n",
    "g.set_xticklabels(xlabels)\n",
    "g.legend(newnames,loc=(1), fontsize=10)\n",
    "plt.savefig(\"image/gen_NY.png\", dpi=300, bbox_inches = \"tight\") \n",
    "plt.show()"
   ]
  },
  {
   "cell_type": "code",
   "execution_count": null,
   "metadata": {},
   "outputs": [],
   "source": []
  },
  {
   "cell_type": "code",
   "execution_count": null,
   "metadata": {},
   "outputs": [],
   "source": [
    "age_blue['gender'] = gender\n",
    "age_blue"
   ]
  },
  {
   "cell_type": "code",
   "execution_count": null,
   "metadata": {},
   "outputs": [],
   "source": [
    "bt1 = age_blue[age_blue.pred_stance != -1]\n",
    "bt2 = bt1[bt1.pred_issue != -1]\n",
    "bt2 = bt2.reset_index(drop=True)\n",
    "bt2"
   ]
  },
  {
   "cell_type": "code",
   "execution_count": null,
   "metadata": {},
   "outputs": [],
   "source": [
    "bt2.id.nunique() #363737"
   ]
  },
  {
   "cell_type": "code",
   "execution_count": null,
   "metadata": {},
   "outputs": [],
   "source": [
    "bt=bt2.groupby(['age_distribution', 'gender','pred_stance']).agg(stance=('id','count')).unstack()\n",
    "bt.head()\n",
    "g = bt.plot(kind='bar', figsize=(10,6), width = 0.5, stacked=True, color=['green', 'red', 'orange', 'blue']);\n",
    "plt.title('Summary of stances by age & gender in NY', fontsize=14);\n",
    "plt.xlabel('Age Group, Gender', fontsize=12);\n",
    "plt.ylabel('#Stances', fontsize=12);\n",
    "plt.xticks(rotation=90)\n",
    "newnames = ['pro-biden', 'pro-trump', 'anti-biden', 'anti-trump']\n",
    "plt.legend(newnames,loc=(1.01,0), fontsize=12)\n",
    "#plt.savefig(\"image/age_gender_stance.png\", dpi=300, bbox_inches = \"tight\") \n",
    "ylabels = ['{}'.format(int(y)) for y in g.get_yticks()/13.88]\n",
    "\n",
    "g.set_yticklabels(ylabels)\n",
    "plt.savefig(\"image/cor_NY_age_gender.png\", dpi=300, bbox_inches = \"tight\") \n",
    "plt.show()"
   ]
  },
  {
   "cell_type": "code",
   "execution_count": null,
   "metadata": {},
   "outputs": [],
   "source": [
    "bt=bt2.groupby(['age_distribution', 'gender','pred_issue']).agg(stance=('id','count')).unstack()\n",
    "bt.head()\n",
    "g = bt.plot(kind='bar', figsize=(10,6), width = 0.5, stacked=True, color=['coral', 'green', 'pink', 'blue', '#EDB120', 'cyan', 'brown', 'black', 'lime', 'magenta', 'red', 'gray','purple']);\n",
    "plt.title('Summary of issues by age & gender in NY', fontsize=14);\n",
    "plt.xlabel('Age Group, Gender', fontsize=12);\n",
    "plt.ylabel('#Issues', fontsize=12);\n",
    "plt.xticks(rotation=90)\n",
    "newnames = ['abortion', 'covid', 'climate', 'law & order', 'economy & taxes', 'education', 'foreign policy', 'guns', 'healthcare', 'immigration', 'supreme court', 'terrorism', 'lgbtq']\n",
    "plt.legend(newnames,loc=(1.01,0), fontsize=12)\n",
    "ylabels = ['{}'.format(int(y)) for y in g.get_yticks()/13.88]\n",
    "g.set_yticklabels(ylabels)\n",
    "plt.savefig(\"image/cor_NY_age_gender_issue.png\", dpi=300, bbox_inches = \"tight\") \n",
    "plt.show()"
   ]
  },
  {
   "cell_type": "code",
   "execution_count": null,
   "metadata": {},
   "outputs": [],
   "source": []
  },
  {
   "cell_type": "code",
   "execution_count": null,
   "metadata": {},
   "outputs": [],
   "source": []
  },
  {
   "cell_type": "code",
   "execution_count": null,
   "metadata": {},
   "outputs": [],
   "source": []
  },
  {
   "cell_type": "markdown",
   "metadata": {},
   "source": [
    "### Red state - ID, gender distribution"
   ]
  },
  {
   "cell_type": "code",
   "execution_count": null,
   "metadata": {},
   "outputs": [],
   "source": [
    "##### Demographic gender #ID\n",
    "# demo_genders:\n",
    "#   - male\n",
    "#   - female\n",
    "#   - unknown\n",
    "\n",
    "ad_id = []\n",
    "stance_p = []\n",
    "text = []\n",
    "fe = []\n",
    "gender = []\n",
    "issue_p = []\n",
    "\n",
    "for j in range (0, top_red.shape[0] ):\n",
    "    list_dic = eval(top_red['demographic_distribution'][j])\n",
    "    for i in range (0, len(list_dic)):\n",
    "        #print(list_dic[i])  \n",
    "        dic = list_dic[i]\n",
    "        #print(dic['age'] )\n",
    "        #sys.exit()\n",
    "        \n",
    "        if dic['gender'] == 'male' :\n",
    "            ad_id.append(top_red.id[j])\n",
    "            text.append(top_red.ad_creative_body[j])\n",
    "            fe.append(top_red.funding_entity[j])\n",
    "            gender.append(dic['gender'])\n",
    "            stance_p.append(top_red.pred_stance[j])\n",
    "            issue_p.append(top_red.pred_issue[j])\n",
    "            \n",
    "        elif dic['gender'] == 'female' :\n",
    "            ad_id.append(top_red.id[j])\n",
    "            text.append(top_red.ad_creative_body[j])\n",
    "            fe.append(top_red.funding_entity[j])\n",
    "            gender.append(dic['gender'])\n",
    "            stance_p.append(top_red.pred_stance[j])\n",
    "            issue_p.append(top_red.pred_issue[j])\n",
    "        elif dic['gender'] == 'unknown' :\n",
    "            ad_id.append(top_red.id[j])\n",
    "            text.append(top_red.ad_creative_body[j])\n",
    "            fe.append(top_red.funding_entity[j])\n",
    "            gender.append(dic['gender'])\n",
    "            stance_p.append(top_red.pred_stance[j])\n",
    "            issue_p.append(top_red.pred_issue[j])\n",
    "        "
   ]
  },
  {
   "cell_type": "code",
   "execution_count": null,
   "metadata": {},
   "outputs": [],
   "source": [
    "red_gender = pd.DataFrame({'id': ad_id, 'ad_creative_body': text, 'funding_entity': fe, \n",
    "                             'gender_distribution': gender, 'pred_stance' : stance_p, 'pred_issue' : issue_p\n",
    "                            }) "
   ]
  },
  {
   "cell_type": "code",
   "execution_count": null,
   "metadata": {},
   "outputs": [],
   "source": [
    "new_red_gender = red_gender[red_gender.pred_stance != -1]\n",
    "new_red_gender = new_red_gender.reset_index(drop=True)\n",
    "new_red_gender"
   ]
  },
  {
   "cell_type": "code",
   "execution_count": null,
   "metadata": {},
   "outputs": [],
   "source": [
    "dfc = new_red_gender.groupby(['gender_distribution', 'pred_stance']).agg({'id': 'count'}).unstack()\n",
    "dfc"
   ]
  },
  {
   "cell_type": "code",
   "execution_count": null,
   "metadata": {},
   "outputs": [],
   "source": [
    "new_red_gender.id.nunique() #1406"
   ]
  },
  {
   "cell_type": "code",
   "execution_count": null,
   "metadata": {},
   "outputs": [],
   "source": [
    "g = dfc.plot(kind='barh', figsize=(8,5), width = 0.5, color=['green', 'red', 'orange', 'blue']);\n",
    "plt.title('Gender distribution with stances in ID', fontsize=14);\n",
    "plt.xlabel('#Stances', fontsize=12);\n",
    "plt.ylabel('Gender', fontsize=12);\n",
    "newnames = ['pro-biden', 'pro-trump', 'anti-biden', 'anti-trump']\n",
    "#xlabels = ['{}'.format(x) + 'K' for x in g.get_xticks()/1000]\n",
    "xlabels = ['{}'.format(int(x)) for x in g.get_xticks()/4.9]\n",
    "g.set_xticklabels(xlabels)\n",
    "g.legend(newnames,loc=(1), fontsize=10)\n",
    "#g.get_legend().remove()\n",
    "plt.savefig(\"image/gen_ID.png\", dpi=300, bbox_inches = \"tight\") \n",
    "plt.show()"
   ]
  },
  {
   "cell_type": "code",
   "execution_count": null,
   "metadata": {},
   "outputs": [],
   "source": []
  },
  {
   "cell_type": "code",
   "execution_count": null,
   "metadata": {},
   "outputs": [],
   "source": [
    "age_red['gender'] = gender\n",
    "age_red"
   ]
  },
  {
   "cell_type": "code",
   "execution_count": null,
   "metadata": {},
   "outputs": [],
   "source": [
    "rt1 = age_red[age_red.pred_stance != -1]\n",
    "rt2 = rt1[rt1.pred_issue != -1]\n",
    "rt2 = rt2.reset_index(drop=True)\n",
    "rt2"
   ]
  },
  {
   "cell_type": "code",
   "execution_count": null,
   "metadata": {},
   "outputs": [],
   "source": [
    "rt2.id.nunique() #286649"
   ]
  },
  {
   "cell_type": "code",
   "execution_count": null,
   "metadata": {},
   "outputs": [],
   "source": [
    "rt=rt2.groupby(['age_distribution', 'gender','pred_stance']).agg(stance=('id','count')).unstack()\n",
    "rt.head()\n",
    "g = rt.plot(kind='bar', figsize=(10,6), width = 0.5, stacked=True, color=['green', 'red', 'orange', 'blue']);\n",
    "plt.title('Summary of stances by age & gender in ID', fontsize=14);\n",
    "plt.xlabel('Age Group, Gender', fontsize=12);\n",
    "plt.ylabel('#Stances', fontsize=12);\n",
    "plt.xticks(rotation=90)\n",
    "newnames = ['pro-biden', 'pro-trump', 'anti-biden', 'anti-trump']\n",
    "plt.legend(newnames,loc=(1.01,0), fontsize=12)\n",
    "print(g.get_yticks(), sum (g.get_yticks()), g.get_yticks()/14.92, sum (g.get_yticks()/15))\n",
    "#plt.savefig(\"image/age_gender_stance.png\", dpi=300, bbox_inches = \"tight\") \n",
    "ylabels = ['{}'.format(int(y)) for y in g.get_yticks()/15]\n",
    "\n",
    "g.set_yticklabels(ylabels)\n",
    "plt.savefig(\"image/cor_ID_age_gender.png\", dpi=300, bbox_inches = \"tight\") \n",
    "plt.show()"
   ]
  },
  {
   "cell_type": "code",
   "execution_count": null,
   "metadata": {},
   "outputs": [],
   "source": [
    "rt=rt2.groupby(['age_distribution', 'gender','pred_issue']).agg(stance=('id','count')).unstack()\n",
    "rt.head()\n",
    "g = rt.plot(kind='bar', figsize=(10,6), width = 0.5, stacked=True, color=['coral', 'green', 'pink', 'blue', '#EDB120', 'cyan', 'brown', 'black', 'lime', 'magenta', 'red', 'gray','purple']);\n",
    "plt.title('Summary of issues by age & gender in ID', fontsize=14);\n",
    "plt.xlabel('Age Group, Gender', fontsize=12);\n",
    "plt.ylabel('#Issues', fontsize=12);\n",
    "plt.xticks(rotation=90)\n",
    "newnames = ['abortion', 'covid', 'climate', 'law & order', 'economy & taxes', 'education', 'foreign policy', 'guns', 'healthcare', 'immigration', 'supreme court', 'terrorism', 'lgbtq']\n",
    "plt.legend(newnames,loc=(1.01,0), fontsize=12)\n",
    "ylabels = ['{}'.format(int(y)) for y in g.get_yticks()/15]\n",
    "g.set_yticklabels(ylabels)\n",
    "plt.savefig(\"image/cor_ID_age_gender_issue.png\", dpi=300, bbox_inches = \"tight\") \n",
    "plt.show()"
   ]
  },
  {
   "cell_type": "code",
   "execution_count": null,
   "metadata": {},
   "outputs": [],
   "source": []
  },
  {
   "cell_type": "markdown",
   "metadata": {},
   "source": [
    "## Temporal Analysis"
   ]
  },
  {
   "cell_type": "code",
   "execution_count": null,
   "metadata": {},
   "outputs": [],
   "source": [
    "new_pred = predicted_fb_all[predicted_fb_all.pred_issue != -1]\n",
    "temp = new_pred[new_pred.pred_stance != -1]\n",
    "temp = temp.reset_index(drop = True)\n",
    "#temp"
   ]
  },
  {
   "cell_type": "code",
   "execution_count": null,
   "metadata": {},
   "outputs": [],
   "source": [
    "hi = temp[temp.pred_stance != -1]\n",
    "fi = hi[hi.pred_issue != -1]\n",
    "fi.avg_imp.sum()/1000000 \n"
   ]
  },
  {
   "cell_type": "code",
   "execution_count": null,
   "metadata": {},
   "outputs": [],
   "source": [
    "avg_imp = []\n",
    "avg_spend = []\n",
    "for j in range (0, temp.shape[0] ):\n",
    "    dic_imp = eval(temp['impressions'][j])\n",
    "    dic_cost = eval(temp['spend'][j])\n",
    "    dic_imp_new = dict([k, float(v)] for k, v in dic_imp.items()) \n",
    "    dic_cost_new = dict([k, float(v)] for k, v in dic_cost.items()) \n",
    "    #print(dic_imp_new) \n",
    "    imp = sum(dic_imp_new.values()) / len(dic_imp_new)\n",
    "    avg_imp.append(imp) # avg of impression\n",
    "    cost = sum(dic_cost_new.values()) / len(dic_cost_new)\n",
    "    avg_spend.append(cost) # avg of spend"
   ]
  },
  {
   "cell_type": "code",
   "execution_count": null,
   "metadata": {},
   "outputs": [],
   "source": [
    "temp['avg_imp'] = avg_imp\n",
    "temp['avg_spend'] = avg_spend\n",
    "temp['date']= pd.to_datetime(temp['ad_delivery_start_time']) #convert string to date-time"
   ]
  },
  {
   "cell_type": "code",
   "execution_count": null,
   "metadata": {},
   "outputs": [],
   "source": [
    "# #new_temp = temp.loc[(temp['pred_issue'] == 0 )]\n",
    "# new_temp = temp.loc[(temp['pred_issue'] == 0) | \n",
    "#                       (temp['pred_issue'] == 3)]\n"
   ]
  },
  {
   "cell_type": "code",
   "execution_count": null,
   "metadata": {},
   "outputs": [],
   "source": [
    "# new_temp"
   ]
  },
  {
   "cell_type": "code",
   "execution_count": null,
   "metadata": {},
   "outputs": [],
   "source": [
    "\n",
    "# grp_temp = temp.groupby([ 'pred_stance' , 'date']).agg({'avg_imp': 'sum'})\n",
    "# print(grp_temp)"
   ]
  },
  {
   "cell_type": "code",
   "execution_count": null,
   "metadata": {},
   "outputs": [],
   "source": [
    "\n",
    "# pb = temp.resample('W-MON', on='date').avg_imp.sum()\n",
    "# pb"
   ]
  },
  {
   "cell_type": "markdown",
   "metadata": {},
   "source": [
    "## Timeseries of impressions based on 4 stances"
   ]
  },
  {
   "cell_type": "code",
   "execution_count": null,
   "metadata": {},
   "outputs": [],
   "source": [
    "#Group by on stance and then resample 'weekly' on date and sum up average impression\n",
    "\n",
    "# grp_temp = temp.groupby('pred_stance').resample('W-MON', on='date').agg({'avg_imp': 'sum'})\n",
    "# print(grp_temp, grp_temp.shape) #169\n",
    "# grp_temp.to_csv(\"data/bl.csv\")\n",
    "\n",
    "grp_temp = temp.pivot_table('avg_imp', index='date', columns='pred_stance', aggfunc='sum')\n",
    "grp_temp"
   ]
  },
  {
   "cell_type": "code",
   "execution_count": null,
   "metadata": {},
   "outputs": [],
   "source": [
    "import matplotlib.pyplot as plt\n",
    "import seaborn as sns\n",
    "import matplotlib.transforms as transforms\n",
    "sns.set()  # use Seaborn styles\n",
    "g = grp_temp.plot(kind='line', figsize=(15,6), color=['green', 'red', 'orange', 'blue'])\n",
    "plt.xlabel('Time', fontsize=12);\n",
    "plt.ylabel('Impressions', fontsize=12);\n",
    "newnames = ['pro-biden', 'pro-trump', 'anti-biden', 'anti-trump' ]\n",
    "ylabels = ['{}'.format(x) + 'M' for x in g.get_yticks()/1000000]\n",
    "g.set_yticklabels(ylabels)\n",
    "g.legend(newnames,loc=(2), fontsize=12)\n",
    "plt.xticks(rotation = 45)\n",
    "# add vertical line\n",
    "#plt.vlines(x=16.5, ymin=0, ymax=5, color='gray', label='political event')\n",
    "#trans = g.get_xaxis_transform()\n",
    "\n",
    "# March 13, President Trump called a national emergency, due to COVID-19.\n",
    "g.axvline(\"2020-03-13\", color=\"gray\", linestyle=\"dashed\")\n",
    "plt.text(0.25, 0.7, '13 March', rotation = 90, horizontalalignment='center', verticalalignment='center', transform=g.transAxes)\n",
    "\n",
    "\n",
    "\n",
    "#On April 3, President Trump fired Michael Atkinson, a senior official. \n",
    "g.axvline(\"2020-04-03\", color=\"gray\", linestyle=\"dashed\")\n",
    "plt.text(0.314, 0.7, '3 April', rotation = 90, horizontalalignment='center', verticalalignment='center', transform=g.transAxes)\n",
    "\n",
    "\n",
    "#BLM -- May 26, 2020\n",
    "g.axvline(\"2020-05-26\", color=\"gray\", linestyle=\"dashed\")\n",
    "#plt.text(\"2020-05-26\", .7, 'May 26', transform=trans)\n",
    "plt.text(0.464, 0.7, '26 May', rotation = 90, horizontalalignment='center', verticalalignment='center', transform=g.transAxes)\n",
    "\n",
    "# #June 2 Blackout Tuesday\n",
    "# g.axvline(\"2020-06-02\", color=\"gray\", linestyle=\"dashed\")\n",
    "# plt.text(0.51, 0.7, '2 June', rotation = 90, horizontalalignment='center', verticalalignment='center', transform=g.transAxes)\n",
    "\n",
    "\n",
    "# July 3, Trump holds a campaign rally at taxpayer expense at Mount Rushmore, South Dakota, as social distancing is ignored and few mask are worn by the 7,500 participants\n",
    "g.axvline(\"2020-07-03\", color=\"gray\", linestyle=\"dashed\")\n",
    "plt.text(0.58, 0.7, '3 July', rotation = 90, horizontalalignment='center', verticalalignment='center', transform=g.transAxes)\n",
    "\n",
    "\n",
    "#On July 22, it was announced that the Chinese consulate in Houston will close. \n",
    "#US Secretary of State Mike Pompeo stated the decision came after it was revealed that China was ?stealing? intellectual property. China condemned the decision, and various people can be seen burning papers outside the Houston consulate\n",
    "# July 21, Twitter bans 7,000 QAnon accounts and limits 150,000 others.\n",
    "g.axvline(\"2020-07-21\", color=\"gray\", linestyle=\"dashed\")\n",
    "plt.text(0.63, 0.7, '21 July', rotation = 90, horizontalalignment='center', verticalalignment='center', transform=g.transAxes)\n",
    "\n",
    "\n",
    "\n",
    "#11 August Joe Biden Announces Running Mate Kamala Harris, the first African American woman to serve in the role\n",
    "g.axvline(\"2020-08-12\", color=\"gray\", linestyle=\"dashed\")\n",
    "#plt.text(\"2020-08-12\", .7, 'August 12', transform=trans)\n",
    "plt.text(0.7, 0.7, '11 August', rotation = 90, horizontalalignment='center', verticalalignment='center', transform=g.transAxes)\n",
    "\n",
    "#g.axvline(\"2020-09-16\", color=\"gray\", linestyle=\"dashed\")\n",
    "\n",
    "#President Trump Appoint Amy Coney Barrett = September 26, 2020 \n",
    "g.axvline(\"2020-09-26\", color=\"gray\", linestyle=\"dashed\")\n",
    "plt.text(0.83, 0.7, '26 September', rotation = 90, horizontalalignment='center', verticalalignment='center', transform=g.transAxes)\n",
    "\n",
    "#September 27 - A New York Times report on President Trump's personal and business tax returns alleges years of tax avoidance and millions in debt and IRS penalties, among other allegations.\n",
    "\n",
    "# #President Trump and presidential candidate Joe Biden had the first debate = September 29,2020 -- pro-biden\n",
    "# g.axvline(\"2020-09-29\", color=\"gray\", linestyle=\"dashed\")\n",
    "# plt.text(0.86, 0.7, '29 September', rotation = 90, horizontalalignment='center', verticalalignment='center', transform=g.transAxes)\n",
    "\n",
    "#President Trump and his wife, First Lady Melania, both tested positive for COVID = October 2, 2020 -- stance\n",
    "g.axvline(\"2020-10-01\", color=\"gray\", linestyle=\"dashed\")\n",
    "plt.text(.87, .7, '2 October',  rotation = 90, horizontalalignment='center', verticalalignment='center', transform=g.transAxes)\n",
    "\n",
    "# October 22, the second 2020 presidential debate takes place in Nashville, Tennessee.\n",
    "#October 26, Election officials in Pennsylvania report that one-fifth of the state's nine million voters have already cast their votes. 2.9 million mail-in requests were received by October 23.\n",
    "g.axvline(\"2020-10-26\", color=\"gray\", linestyle=\"dashed\")\n",
    "plt.text(.92, .89, '26 October',  rotation = 90, horizontalalignment='center', verticalalignment='center', transform=g.transAxes)\n",
    "\n",
    "# # #On October 25, Vice President Mike Pence have tested positive for coronavirus.\n",
    "# g.axvline(\"2020-10-25\", color=\"gray\", linestyle=\"dashed\")\n",
    "# plt.text(.91, .83, '25 October',  rotation = 90, horizontalalignment='center', verticalalignment='center', transform=g.transAxes)\n",
    "\n",
    "# #On October 27, police in Philadelphia fatally shot a black man = October 27\n",
    "# g.axvline(\"2020-10-27\", color=\"gray\", linestyle=\"dashed\")\n",
    "# plt.text(.91, .83, '27 October',  rotation = 90, horizontalalignment='center', verticalalignment='center', transform=g.transAxes)\n",
    "\n",
    "\n",
    "# US 2020 election\n",
    "g.axvline(\"2020-11-03\", color=\"gray\", linestyle=\"dashed\")\n",
    "plt.text(.964, .83, '3 November',  rotation = 90, horizontalalignment='center', verticalalignment='center', transform=g.transAxes)\n",
    "\n",
    "\n",
    "plt.savefig(\"image/temporal_imp_stance.png\", dpi=300, bbox_inches = \"tight\") \n",
    "plt.show()"
   ]
  },
  {
   "cell_type": "markdown",
   "metadata": {},
   "source": [
    "###### Major events \n",
    "\n",
    "## collected from : https://www.infoplease.com/june-2020-current-events-us-news\n",
    "\n",
    "March 13, President Trump called a national emergency, due to COVID-19.\n",
    "\n",
    "On April 4, President Trump fired Michael Atkinson, a senior official. It is believed that Atkinson is the whistleblower that began the impeachment process of President Trump. \n",
    "\n",
    "blm protest start date = May 26, 2020 -- stance\n",
    "\n",
    "Black Lives Matter Leads to Reforms = June 27, 2020 -- stance\n",
    "\n",
    "July 2, 2020 Several states, including California and Indiana, postpone or reverse plans to reopen their economies, as the United States records 50,000 new cases of COVID-19—the largest one-day spike since the pandemic’s onset.\n",
    "\n",
    "Joe Biden Announces Running Mate Kamala Harris who is a strong advocate for diversity and equality = August 11, 2020 \n",
    "\n",
    "Protests Against Police Brutality Continue = August 24, 2020\n",
    "\n",
    "President Trump to Appoint Amy Coney Barrett = September 26, 2020 \n",
    "\n",
    "September 27 - A New York Times report on President Trump's personal and business tax returns alleges years of tax avoidance and millions in debt and IRS penalties, among other allegations.\n",
    "\n",
    "President Trump and presidential candidate Joe Biden had the first debate = September 29,2020 -- pro-biden\n",
    "\n",
    "President Trump and his wife, First Lady Melania, both tested positive for COVID = October 2, 2020 -- stance\n",
    "\n",
    "Trump Administration Imposes Restrictions on H-1B Visa as a result of the high unemployment rate in the country = October 7, 2020 -- anti-trump\n",
    "\n",
    "October 19 various states reported record-breaking numbers regarding early votes ahead of the November 3 election. Many states have seen a dramatic increase in the number of absentee ballots. States are also seeing a boom in US postal ballot requests. So far, registered Democrats have voted more than registered Republicans. \n",
    "\n",
    "October 22 - The second 2020 presidential debate takes place in Nashville, Tennessee.\n",
    "\n",
    "On October 25, Vice President Mike Pence have tested positive for coronavirus.\n",
    "\n",
    "On October 26, Election officials in Pennsylvania report that one-fifth of the state's nine million voters have already cast their votes. 2.9 million mail-in requests were received by October 23.[385]\n",
    "\n",
    "\n",
    "On October 26, police in Philadelphia fatally shot a black man = October 27\n",
    "\n",
    "\n"
   ]
  },
  {
   "cell_type": "markdown",
   "metadata": {},
   "source": [
    "## Timeseries of impressions based on issues"
   ]
  },
  {
   "cell_type": "code",
   "execution_count": null,
   "metadata": {},
   "outputs": [],
   "source": [
    "temp"
   ]
  },
  {
   "cell_type": "code",
   "execution_count": null,
   "metadata": {},
   "outputs": [],
   "source": [
    "temp['pred_issue'].value_counts().head(5)"
   ]
  },
  {
   "cell_type": "code",
   "execution_count": null,
   "metadata": {},
   "outputs": [],
   "source": [
    "top5_issue = temp.loc[(temp.pred_issue == 10) | (temp.pred_issue == 3) | (temp.pred_issue == 4) | (temp.pred_issue == 11) | (temp.pred_issue == 1)]\n",
    "\n",
    "\n",
    "top5_issue\n",
    "\n"
   ]
  },
  {
   "cell_type": "code",
   "execution_count": null,
   "metadata": {},
   "outputs": [],
   "source": [
    "grp_temp_issue = temp.pivot_table('avg_imp', index='date', columns='pred_issue', aggfunc='sum')\n",
    "#grp_temp_issue = top5_issue.pivot_table('avg_imp', index='date', columns='pred_issue', aggfunc='sum')"
   ]
  },
  {
   "cell_type": "code",
   "execution_count": null,
   "metadata": {},
   "outputs": [],
   "source": [
    "grp_temp_issue"
   ]
  },
  {
   "cell_type": "code",
   "execution_count": null,
   "metadata": {},
   "outputs": [],
   "source": [
    "import matplotlib.pyplot as plt\n",
    "import seaborn as sns\n",
    "sns.set()  # use Seaborn styles\n",
    "g = grp_temp_issue.plot(kind='line', figsize=(10,5), color=['coral', 'green', 'pink', 'blue', '#EDB120', 'cyan', 'brown', 'black', 'lime', 'magenta', 'red', 'gray','purple'])\n",
    "#g = grp_temp_issue.plot(kind='line', figsize=(10,5), color=['cyan', 'green', 'orange', 'blue', 'red'])\n",
    "plt.xlabel('Time', fontsize=12);\n",
    "plt.ylabel('Impressions', fontsize=12);\n",
    "newnames = ['abortion', 'covid', 'climate', 'criminal justice reform, race, law & order', 'economy & taxes', 'education', 'foreign policy', 'guns', 'healthcare', 'immigration', 'supreme court', 'terrorism', 'lgbtq']\n",
    "#newnames = [ 'covid', 'criminal justice reform, race, law & order', 'economy & taxes',  'supreme court', 'terrorism']\n",
    "ylabels = ['{}'.format(x) + 'M' for x in g.get_yticks()/1000000]\n",
    "# g.set_yticklabels(ylabels)\n",
    "# g.legend(newnames,loc=(1.01, 0), fontsize=12)\n",
    "# plt.xticks(rotation = 45)\n",
    "# #g.get_legend().remove()\n",
    "# #plt.savefig(\"image/temporal_imp_issue.png\", dpi=300, bbox_inches = \"tight\") \n",
    "# plt.show()\n",
    "\n",
    "g.set_yticklabels(ylabels)\n",
    "g.legend(newnames,loc=(2), fontsize=12)\n",
    "plt.xticks(rotation = 45)\n",
    "# add vertical line\n",
    "#plt.vlines(x=16.5, ymin=0, ymax=5, color='gray', label='political event')\n",
    "#trans = g.get_xaxis_transform()\n",
    "\n",
    "# March 13, President Trump called a national emergency, due to COVID-19.\n",
    "g.axvline(\"2020-03-13\", color=\"gray\", linestyle=\"dashed\")\n",
    "plt.text(0.25, 0.7, '13 March', rotation = 90, horizontalalignment='center', verticalalignment='center', transform=g.transAxes)\n",
    "\n",
    "\n",
    "\n",
    "#On April 3, President Trump fired Michael Atkinson, a senior official. \n",
    "g.axvline(\"2020-04-03\", color=\"gray\", linestyle=\"dashed\")\n",
    "plt.text(0.314, 0.7, '3 April', rotation = 90, horizontalalignment='center', verticalalignment='center', transform=g.transAxes)\n",
    "\n",
    "\n",
    "#BLM -- May 26, 2020\n",
    "g.axvline(\"2020-05-26\", color=\"gray\", linestyle=\"dashed\")\n",
    "#plt.text(\"2020-05-26\", .7, 'May 26', transform=trans)\n",
    "plt.text(0.464, 0.7, '26 May', rotation = 90, horizontalalignment='center', verticalalignment='center', transform=g.transAxes)\n",
    "\n",
    "# #June 2 Blackout Tuesday\n",
    "# g.axvline(\"2020-06-02\", color=\"gray\", linestyle=\"dashed\")\n",
    "# plt.text(0.51, 0.7, '2 June', rotation = 90, horizontalalignment='center', verticalalignment='center', transform=g.transAxes)\n",
    "\n",
    "\n",
    "# July 3, Trump holds a campaign rally at taxpayer expense at Mount Rushmore, South Dakota, as social distancing is ignored and few mask are worn by the 7,500 participants\n",
    "g.axvline(\"2020-07-03\", color=\"gray\", linestyle=\"dashed\")\n",
    "plt.text(0.58, 0.7, '3 July', rotation = 90, horizontalalignment='center', verticalalignment='center', transform=g.transAxes)\n",
    "\n",
    "\n",
    "#On July 22, it was announced that the Chinese consulate in Houston will close. \n",
    "#US Secretary of State Mike Pompeo stated the decision came after it was revealed that China was ?stealing? intellectual property. China condemned the decision, and various people can be seen burning papers outside the Houston consulate\n",
    "# July 21, Twitter bans 7,000 QAnon accounts and limits 150,000 others.\n",
    "g.axvline(\"2020-07-21\", color=\"gray\", linestyle=\"dashed\")\n",
    "plt.text(0.63, 0.7, '21 July', rotation = 90, horizontalalignment='center', verticalalignment='center', transform=g.transAxes)\n",
    "\n",
    "\n",
    "\n",
    "#11 August Joe Biden Announces Running Mate Kamala Harris, the first African American woman to serve in the role\n",
    "g.axvline(\"2020-08-12\", color=\"gray\", linestyle=\"dashed\")\n",
    "#plt.text(\"2020-08-12\", .7, 'August 12', transform=trans)\n",
    "plt.text(0.7, 0.7, '11 August', rotation = 90, horizontalalignment='center', verticalalignment='center', transform=g.transAxes)\n",
    "\n",
    "#g.axvline(\"2020-09-16\", color=\"gray\", linestyle=\"dashed\")\n",
    "\n",
    "#President Trump Appoint Amy Coney Barrett = September 26, 2020 \n",
    "g.axvline(\"2020-09-26\", color=\"gray\", linestyle=\"dashed\")\n",
    "plt.text(0.83, 0.75, '26 September', rotation = 90, horizontalalignment='center', verticalalignment='center', transform=g.transAxes)\n",
    "\n",
    "#September 27 - A New York Times report on President Trump's personal and business tax returns alleges years of tax avoidance and millions in debt and IRS penalties, among other allegations.\n",
    "\n",
    "# #President Trump and presidential candidate Joe Biden had the first debate = September 29,2020 -- pro-biden\n",
    "# g.axvline(\"2020-09-29\", color=\"gray\", linestyle=\"dashed\")\n",
    "# plt.text(0.86, 0.7, '29 September', rotation = 90, horizontalalignment='center', verticalalignment='center', transform=g.transAxes)\n",
    "\n",
    "#President Trump and his wife, First Lady Melania, both tested positive for COVID = October 2, 2020 -- stance\n",
    "g.axvline(\"2020-10-01\", color=\"gray\", linestyle=\"dashed\")\n",
    "plt.text(.87, .7, '2 October',  rotation = 90, horizontalalignment='center', verticalalignment='center', transform=g.transAxes)\n",
    "\n",
    "# October 22, the second 2020 presidential debate takes place in Nashville, Tennessee.\n",
    "#October 26, Election officials in Pennsylvania report that one-fifth of the state's nine million voters have already cast their votes. 2.9 million mail-in requests were received by October 23.\n",
    "g.axvline(\"2020-10-26\", color=\"gray\", linestyle=\"dashed\")\n",
    "plt.text(.92, .89, '26 October',  rotation = 90, horizontalalignment='center', verticalalignment='center', transform=g.transAxes)\n",
    "\n",
    "# # #On October 25, Vice President Mike Pence have tested positive for coronavirus.\n",
    "# g.axvline(\"2020-10-25\", color=\"gray\", linestyle=\"dashed\")\n",
    "# plt.text(.91, .83, '25 October',  rotation = 90, horizontalalignment='center', verticalalignment='center', transform=g.transAxes)\n",
    "\n",
    "# #On October 27, police in Philadelphia fatally shot a black man = October 27\n",
    "# g.axvline(\"2020-10-27\", color=\"gray\", linestyle=\"dashed\")\n",
    "# plt.text(.91, .83, '27 October',  rotation = 90, horizontalalignment='center', verticalalignment='center', transform=g.transAxes)\n",
    "\n",
    "\n",
    "# US 2020 election\n",
    "g.axvline(\"2020-11-03\", color=\"gray\", linestyle=\"dashed\")\n",
    "plt.text(.964, .83, '3 November',  rotation = 90, horizontalalignment='center', verticalalignment='center', transform=g.transAxes)\n",
    "g.legend(newnames,loc=(1.01, 0), fontsize=12)\n",
    "\n",
    "plt.savefig(\"image/temporal_imp_issue.png\", dpi=300, bbox_inches = \"tight\") \n",
    "plt.show()\n"
   ]
  },
  {
   "cell_type": "markdown",
   "metadata": {},
   "source": [
    "## poll data\n",
    "### https://projects.fivethirtyeight.com/2020-general-data/presidential_poll_averages_2020.csv\n",
    "### details here: https://github.com/fivethirtyeight/data/tree/master/election-forecasts-2020\n",
    "\n",
    "#### pct_estimate = Polling average for the candidate listed in candidate_name on modeldate"
   ]
  },
  {
   "cell_type": "code",
   "execution_count": null,
   "metadata": {},
   "outputs": [],
   "source": [
    "# ### Load poll data\n",
    "poll = pd.read_csv( 'data/presidential_poll_averages_2020.csv',low_memory=False) \n",
    "poll #29085 rows × 6 columns"
   ]
  },
  {
   "cell_type": "code",
   "execution_count": null,
   "metadata": {},
   "outputs": [],
   "source": [
    "poll['date']= pd.to_datetime(poll['modeldate']) #convert string to date-time\n",
    "poll"
   ]
  },
  {
   "cell_type": "code",
   "execution_count": null,
   "metadata": {},
   "outputs": [],
   "source": [
    "grp_poll = poll.pivot_table('pct_estimate', index='date', columns='candidate_name', aggfunc='sum')"
   ]
  },
  {
   "cell_type": "code",
   "execution_count": null,
   "metadata": {},
   "outputs": [],
   "source": [
    "grp_poll"
   ]
  },
  {
   "cell_type": "code",
   "execution_count": null,
   "metadata": {},
   "outputs": [],
   "source": [
    "\n",
    "new_poll = grp_poll.drop(columns=['Convention Bounce for Donald Trump', 'Convention Bounce for Joseph R. Biden Jr.'])\n",
    "new_poll"
   ]
  },
  {
   "cell_type": "code",
   "execution_count": null,
   "metadata": {},
   "outputs": [],
   "source": [
    "import matplotlib.pyplot as plt\n",
    "import seaborn as sns\n",
    "sns.set()  # use Seaborn styles\n",
    "g = new_poll.plot(kind='line', figsize=(10,5), color=['red', 'blue'])\n",
    "plt.xlabel('Time', fontsize=12);\n",
    "plt.ylabel('pct_estimate', fontsize=12);\n",
    "newnames = ['Trump', 'Biden']\n",
    "ylabels = ['{}'.format(x) + 'K' for x in g.get_yticks()/1000]\n",
    "g.set_yticklabels(ylabels)\n",
    "g.legend(newnames,loc=(2), fontsize=12)\n",
    "plt.xticks(rotation = 45)\n",
    "#g.get_legend().remove()\n",
    "#plt.savefig(\"image/temporal_imp_issue.png\", dpi=300, bbox_inches = \"tight\") \n",
    "plt.show()\n"
   ]
  },
  {
   "cell_type": "code",
   "execution_count": null,
   "metadata": {},
   "outputs": [],
   "source": [
    "#replace nan with 0 in pandas\n",
    "fb = grp_temp.fillna(0)\n",
    "fb"
   ]
  },
  {
   "cell_type": "code",
   "execution_count": null,
   "metadata": {},
   "outputs": [],
   "source": [
    "sum_trump = fb[1] + fb[2]\n",
    "sum_biden = fb[0] + fb[3]\n",
    "fb[\"ad_trump\"] = sum_trump\n",
    "fb[\"ad_biden\"] = sum_biden\n",
    "fb"
   ]
  },
  {
   "cell_type": "code",
   "execution_count": null,
   "metadata": {},
   "outputs": [],
   "source": [
    "fb = fb.drop(columns=[0,1,2,3])\n",
    "fb"
   ]
  },
  {
   "cell_type": "code",
   "execution_count": null,
   "metadata": {},
   "outputs": [],
   "source": [
    "# import matplotlib.pyplot as plt\n",
    "# import seaborn as sns\n",
    "# import matplotlib.transforms as transforms\n",
    "# sns.set()  # use Seaborn styles\n",
    "# g = fb.plot(kind='line', figsize=(15,6), color=['red', 'blue'])\n",
    "# plt.xlabel('Time', fontsize=12);\n",
    "# plt.ylabel('Impressions', fontsize=12);\n",
    "# newnames = ['pro-trump', 'pro-biden']\n",
    "# ylabels = ['{}'.format(x) + 'M' for x in g.get_yticks()/1000000]\n",
    "# g.set_yticklabels(ylabels)\n",
    "# g.legend(newnames,loc=(2), fontsize=12)\n",
    "# plt.xticks(rotation = 45)\n",
    "# # add vertical line\n",
    "# #plt.vlines(x=16.5, ymin=0, ymax=5, color='gray', label='political event')\n",
    "# #trans = g.get_xaxis_transform()\n",
    "\n",
    "# # March 13, President Trump called a national emergency, due to COVID-19.\n",
    "# g.axvline(\"2020-03-13\", color=\"gray\", linestyle=\"dashed\")\n",
    "# plt.text(0.25, 0.7, '13 March', rotation = 90, horizontalalignment='center', verticalalignment='center', transform=g.transAxes)\n",
    "\n",
    "\n",
    "\n",
    "# #On April 3, President Trump fired Michael Atkinson, a senior official. \n",
    "# g.axvline(\"2020-04-03\", color=\"gray\", linestyle=\"dashed\")\n",
    "# plt.text(0.314, 0.7, '3 April', rotation = 90, horizontalalignment='center', verticalalignment='center', transform=g.transAxes)\n",
    "\n",
    "\n",
    "# #BLM -- May 26, 2020\n",
    "# g.axvline(\"2020-05-26\", color=\"gray\", linestyle=\"dashed\")\n",
    "# #plt.text(\"2020-05-26\", .7, 'May 26', transform=trans)\n",
    "# plt.text(0.464, 0.7, '26 May', rotation = 90, horizontalalignment='center', verticalalignment='center', transform=g.transAxes)\n",
    "\n",
    "# # #June 2 Blackout Tuesday\n",
    "# # g.axvline(\"2020-06-02\", color=\"gray\", linestyle=\"dashed\")\n",
    "# # plt.text(0.51, 0.7, '2 June', rotation = 90, horizontalalignment='center', verticalalignment='center', transform=g.transAxes)\n",
    "\n",
    "\n",
    "# # July 3, Trump holds a campaign rally at taxpayer expense at Mount Rushmore, South Dakota, as social distancing is ignored and few mask are worn by the 7,500 participants\n",
    "# g.axvline(\"2020-07-03\", color=\"gray\", linestyle=\"dashed\")\n",
    "# plt.text(0.58, 0.7, '3 July', rotation = 90, horizontalalignment='center', verticalalignment='center', transform=g.transAxes)\n",
    "\n",
    "\n",
    "# #On July 22, it was announced that the Chinese consulate in Houston will close. \n",
    "# #US Secretary of State Mike Pompeo stated the decision came after it was revealed that China was ?stealing? intellectual property. China condemned the decision, and various people can be seen burning papers outside the Houston consulate\n",
    "# # July 21, Twitter bans 7,000 QAnon accounts and limits 150,000 others.\n",
    "# g.axvline(\"2020-07-21\", color=\"gray\", linestyle=\"dashed\")\n",
    "# plt.text(0.63, 0.7, '21 July', rotation = 90, horizontalalignment='center', verticalalignment='center', transform=g.transAxes)\n",
    "\n",
    "\n",
    "\n",
    "# #11 August Joe Biden Announces Running Mate Kamala Harris, the first African American woman to serve in the role\n",
    "# g.axvline(\"2020-08-11\", color=\"gray\", linestyle=\"dashed\")\n",
    "# #plt.text(\"2020-08-12\", .7, 'August 12', transform=trans)\n",
    "# plt.text(0.7, 0.7, '11 August', rotation = 90, horizontalalignment='center', verticalalignment='center', transform=g.transAxes)\n",
    "\n",
    "# #g.axvline(\"2020-09-16\", color=\"gray\", linestyle=\"dashed\")\n",
    "\n",
    "# #President Trump Appoint Amy Coney Barrett = September 26, 2020 \n",
    "# g.axvline(\"2020-09-26\", color=\"gray\", linestyle=\"dashed\")\n",
    "# plt.text(0.83, 0.7, '26 September', rotation = 90, horizontalalignment='center', verticalalignment='center', transform=g.transAxes)\n",
    "\n",
    "# #September 27 - A New York Times report on President Trump's personal and business tax returns alleges years of tax avoidance and millions in debt and IRS penalties, among other allegations.\n",
    "\n",
    "# # #President Trump and presidential candidate Joe Biden had the first debate = September 29,2020 -- pro-biden\n",
    "# # g.axvline(\"2020-09-29\", color=\"gray\", linestyle=\"dashed\")\n",
    "# # plt.text(0.86, 0.7, '29 September', rotation = 90, horizontalalignment='center', verticalalignment='center', transform=g.transAxes)\n",
    "\n",
    "# #President Trump and his wife, First Lady Melania, both tested positive for COVID = October 2, 2020 -- stance\n",
    "# g.axvline(\"2020-10-01\", color=\"gray\", linestyle=\"dashed\")\n",
    "# plt.text(.87, .7, '2 October',  rotation = 90, horizontalalignment='center', verticalalignment='center', transform=g.transAxes)\n",
    "\n",
    "# # October 22, the second 2020 presidential debate takes place in Nashville, Tennessee.\n",
    "# #October 26, Election officials in Pennsylvania report that one-fifth of the state's nine million voters have already cast their votes. 2.9 million mail-in requests were received by October 23.\n",
    "# g.axvline(\"2020-10-26\", color=\"gray\", linestyle=\"dashed\")\n",
    "# plt.text(.92, .89, '26 October',  rotation = 90, horizontalalignment='center', verticalalignment='center', transform=g.transAxes)\n",
    "\n",
    "# # # #On October 25, Vice President Mike Pence have tested positive for coronavirus.\n",
    "# # g.axvline(\"2020-10-25\", color=\"gray\", linestyle=\"dashed\")\n",
    "# # plt.text(.91, .83, '25 October',  rotation = 90, horizontalalignment='center', verticalalignment='center', transform=g.transAxes)\n",
    "\n",
    "# # #On October 27, police in Philadelphia fatally shot a black man = October 27\n",
    "# # g.axvline(\"2020-10-27\", color=\"gray\", linestyle=\"dashed\")\n",
    "# # plt.text(.91, .83, '27 October',  rotation = 90, horizontalalignment='center', verticalalignment='center', transform=g.transAxes)\n",
    "\n",
    "\n",
    "# # US 2020 election\n",
    "# g.axvline(\"2020-11-03\", color=\"gray\", linestyle=\"dashed\")\n",
    "# plt.text(.964, .83, '3 November',  rotation = 90, horizontalalignment='center', verticalalignment='center', transform=g.transAxes)\n",
    "\n",
    "\n",
    "# #plt.savefig(\"image/temporal_imp_stance.png\", dpi=300, bbox_inches = \"tight\") \n",
    "# plt.show()"
   ]
  },
  {
   "cell_type": "code",
   "execution_count": null,
   "metadata": {},
   "outputs": [],
   "source": []
  },
  {
   "cell_type": "code",
   "execution_count": null,
   "metadata": {},
   "outputs": [],
   "source": []
  },
  {
   "cell_type": "code",
   "execution_count": null,
   "metadata": {},
   "outputs": [],
   "source": []
  },
  {
   "cell_type": "code",
   "execution_count": null,
   "metadata": {},
   "outputs": [],
   "source": [
    "fb_idx = fb.index\n",
    "poll_idx = new_poll.index"
   ]
  },
  {
   "cell_type": "code",
   "execution_count": null,
   "metadata": {},
   "outputs": [],
   "source": [
    "fb['date'] = fb_idx.values\n",
    "new_poll['date'] = poll_idx.values"
   ]
  },
  {
   "cell_type": "code",
   "execution_count": null,
   "metadata": {},
   "outputs": [],
   "source": [
    "new_poll = new_poll.reset_index(drop=True)\n",
    "fb = fb.reset_index(drop=True) "
   ]
  },
  {
   "cell_type": "code",
   "execution_count": null,
   "metadata": {},
   "outputs": [],
   "source": [
    "new_poll"
   ]
  },
  {
   "cell_type": "code",
   "execution_count": null,
   "metadata": {},
   "outputs": [],
   "source": [
    "fb"
   ]
  },
  {
   "cell_type": "code",
   "execution_count": null,
   "metadata": {
    "scrolled": true
   },
   "outputs": [],
   "source": [
    "#compare two dataframes based on certain column values and remove rest\n",
    "\n",
    "new_fb = fb.merge(new_poll,how='left').dropna()\n",
    "new_fb = new_fb.reset_index(drop = True)\n"
   ]
  },
  {
   "cell_type": "code",
   "execution_count": null,
   "metadata": {},
   "outputs": [],
   "source": [
    "new_fb"
   ]
  },
  {
   "cell_type": "code",
   "execution_count": null,
   "metadata": {},
   "outputs": [],
   "source": [
    "ad_pol = new_fb.rename({'Donald Trump': 'poll_trump', 'Joseph R. Biden Jr.': 'poll_biden'}, axis='columns')\n"
   ]
  },
  {
   "cell_type": "code",
   "execution_count": null,
   "metadata": {},
   "outputs": [],
   "source": [
    "ad_pol"
   ]
  },
  {
   "cell_type": "markdown",
   "metadata": {},
   "source": [
    "## Granger Causality\n",
    "\n",
    "### Do AdsImpressions Granger-cause Poll count ??\n",
    "#### Null hypothesis (H0): AdsImpressions do not Granger cause Poll count\n",
    "#### Alternative Hypothesis (HA) : AdsImpressions Granger-cause Poll count\n",
    "\n",
    "\n"
   ]
  },
  {
   "cell_type": "code",
   "execution_count": null,
   "metadata": {},
   "outputs": [],
   "source": [
    "from statsmodels.tsa.stattools import grangercausalitytests\n",
    "\n"
   ]
  },
  {
   "cell_type": "code",
   "execution_count": null,
   "metadata": {},
   "outputs": [],
   "source": [
    "def do_granger(ac, pc, lags):\n",
    "    #The data for test whether the time series in the second column Granger causes the time series in the first column.\n",
    "    input = np.stack((pc, ac), 1) #Do AdsImpressions Granger-cause Poll count ?\n",
    "    #input = np.stack((ac, pc), 1) #other way..Do Poll counts Granger-cause AdsImpressions ?\n",
    "   \n",
    "    gc = grangercausalitytests(input, maxlag = lags ) #outputs all lags\n",
    "    p_val = []\n",
    "    F = []\n",
    "    for key, value in gc.items() :\n",
    "        #print (key,value)\n",
    "        #print (\"value[0]\", value[0])\n",
    "#         p_val = []\n",
    "        for k, v in value[0].items() :\n",
    "            #print(\"k,v\", k,v)\n",
    "            #print(k)\n",
    "            #print(v)\n",
    "            #print(v[0])\n",
    "            #print(type(v[0]))\n",
    "            if k == 'ssr_ftest':\n",
    "                #print(v, type (v))\n",
    "                #print('p-value', v[1])\n",
    "                if v[0] < 0.00001:\n",
    "                    F.append(float(0.0001))\n",
    "                else:    \n",
    "                    F.append(v[0])\n",
    "                p_val.append(v[1])\n",
    "\n",
    "    print(p_val, F)\n",
    "                \n",
    "    return p_val, F    "
   ]
  },
  {
   "cell_type": "code",
   "execution_count": null,
   "metadata": {},
   "outputs": [],
   "source": [
    "#######......Granger ............\n",
    "\n",
    "#For Trump ad and poll\n",
    "act = np.array(ad_pol.ad_trump)\n",
    "pct = np.array(ad_pol.poll_trump)\n",
    "\n",
    "lags = 25\n",
    "p_valt1, FT1 = do_granger(act, pct, lags)\n",
    "\n",
    "#For Biden ad and poll\n",
    "acb = np.array(ad_pol.ad_biden)\n",
    "pcb = np.array(ad_pol.poll_biden)\n",
    "p_valb1, FB1 = do_granger(acb, pcb, lags)\n",
    "\n",
    "\n",
    "    "
   ]
  },
  {
   "cell_type": "code",
   "execution_count": null,
   "metadata": {},
   "outputs": [],
   "source": [
    "import matplotlib.pyplot as plt\n",
    "plt.plot(FT1, '.-', color='red',  label='pro-trump, anti-biden')\n",
    "plt.plot(FB1, '.-', color='blue', label='pro-biden, anti-trump')\n",
    "plt.xlabel('Lags', fontsize=12)\n",
    "plt.ylabel('SSR F-test', fontsize=12)\n",
    "plt.legend(loc=(4), fontsize=12)\n",
    "#plt.legend()\n",
    "\n",
    "plt.savefig(\"image/gc2.png\",  bbox_inches = \"tight\") \n",
    "plt.show()"
   ]
  },
  {
   "cell_type": "markdown",
   "metadata": {},
   "source": [
    "### Now repeat the Granger causality test in the opposite direction.\n",
    "\n",
    "### Do Poll counts Granger-cause  AdsImpressions  ??\n",
    "#### Null Hypothesis (H0) : Poll counts do not Granger-cause  AdsImpressions\n",
    "#### Alternative Hypothesis (HA) : Poll counts Granger-cause  AdsImpressions"
   ]
  },
  {
   "cell_type": "code",
   "execution_count": null,
   "metadata": {},
   "outputs": [],
   "source": [
    "def do_grangerAlt(ac, pc, lags):\n",
    "    #The data for test whether the time series in the second column Granger causes the time series in the first column.\n",
    "    input = np.stack((ac, pc), 1) #other way..Do Poll counts Granger-cause AdsImpressions ?\n",
    "   \n",
    "    gc = grangercausalitytests(input, maxlag = lags ) #outputs all lags\n",
    "    p_val = []\n",
    "    F = []\n",
    "    for key, value in gc.items() :\n",
    "        #print (key,value)\n",
    "        #print (\"value[0]\", value[0])\n",
    "#         p_val = []\n",
    "        for k, v in value[0].items() :\n",
    "            #print(\"k,v\", k,v)\n",
    "            #print(k)\n",
    "            #print(v)\n",
    "            #print(v[0])\n",
    "            #print(type(v[0]))\n",
    "            if k == 'ssr_ftest':\n",
    "                #print(v, type (v))\n",
    "                #print('p-value', v[1])\n",
    "                if v[0] < 0.00001:\n",
    "                    F.append(float(0.0001))\n",
    "                else:    \n",
    "                    F.append(v[0])\n",
    "                p_val.append(v[1])\n",
    "\n",
    "    print(p_val, F)\n",
    "                \n",
    "    return p_val, F    "
   ]
  },
  {
   "cell_type": "code",
   "execution_count": null,
   "metadata": {},
   "outputs": [],
   "source": [
    "#For Trump ad and poll\n",
    "act = np.array(ad_pol.ad_trump)\n",
    "pct = np.array(ad_pol.poll_trump)\n",
    "\n",
    "lags = 25\n",
    "p_valt2, FT2 = do_grangerAlt(act, pct, lags)\n",
    "\n",
    "#For Biden ad and poll\n",
    "acb = np.array(ad_pol.ad_biden)\n",
    "pcb = np.array(ad_pol.poll_biden)\n",
    "p_valb2, FB2 = do_grangerAlt(acb, pcb, lags)\n",
    "\n",
    "\n",
    "    "
   ]
  },
  {
   "cell_type": "code",
   "execution_count": null,
   "metadata": {},
   "outputs": [],
   "source": [
    "import matplotlib.pyplot as plt\n",
    "markers_xT = [0, 1, 2, 3, 4, 24]\n",
    "for i in markers_xT:\n",
    "    plt.plot(i, FT2[i], 'D', color = 'black')\n",
    "    \n",
    "markers_xB = [0, 1, 2, 3, 4, 5, 6, 7, 8, 9, 10, 11, 23, 24]\n",
    "for i in markers_xB:\n",
    "    plt.plot(i, FB2[i], 'D', color = 'black')\n",
    "    \n",
    "plt.plot(FT2, '.-', color='red', label='pro-trump, anti-biden')\n",
    "plt.plot(FB2, '.-', color='blue', label='pro-biden, anti-trump')\n",
    "plt.xlabel('Lags', fontsize=12)\n",
    "plt.ylabel('SSR F-test', fontsize=12)\n",
    "plt.legend(loc=(1), fontsize=12)\n",
    "#g.legend(newnames,loc=(2), fontsize=12)\n",
    "plt.savefig(\"image/gc1.png\",  bbox_inches = \"tight\") \n",
    "plt.show()"
   ]
  },
  {
   "cell_type": "code",
   "execution_count": null,
   "metadata": {},
   "outputs": [],
   "source": []
  }
 ],
 "metadata": {
  "kernelspec": {
   "display_name": "Python 3",
   "language": "python",
   "name": "python3"
  },
  "language_info": {
   "codemirror_mode": {
    "name": "ipython",
    "version": 3
   },
   "file_extension": ".py",
   "mimetype": "text/x-python",
   "name": "python",
   "nbconvert_exporter": "python",
   "pygments_lexer": "ipython3",
   "version": "3.8.5"
  }
 },
 "nbformat": 4,
 "nbformat_minor": 4
}
